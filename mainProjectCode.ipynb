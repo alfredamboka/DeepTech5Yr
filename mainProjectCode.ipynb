{
  "cells": [
    {
      "cell_type": "markdown",
      "metadata": {
        "id": "view-in-github",
        "colab_type": "text"
      },
      "source": [
        "<a href=\"https://colab.research.google.com/github/alfredamboka/DeepTech5Yr/blob/main/mainProjectCode.ipynb\" target=\"_parent\"><img src=\"https://colab.research.google.com/assets/colab-badge.svg\" alt=\"Open In Colab\"/></a>"
      ]
    },
    {
      "cell_type": "code",
      "execution_count": null,
      "metadata": {
        "id": "6aFQY78WaEYX"
      },
      "outputs": [],
      "source": [
        "import ee\n",
        "#import geemap\n",
        "#ee.Authenticate()\n",
        "#ee.Initialize()\n",
        "\n",
        "\n"
      ]
    },
    {
      "cell_type": "markdown",
      "source": [
        "install and import geemap for convertion on js to py\n",
        "Only applicable to Colab. In other cases or environment install normally and comment the cell below."
      ],
      "metadata": {
        "id": "0ybsA7lDv0wf"
      }
    },
    {
      "cell_type": "code",
      "execution_count": null,
      "metadata": {
        "id": "TvgN33GVaEYd"
      },
      "outputs": [],
      "source": [
        "try:\n",
        "    import geemap\n",
        "except ModuleNotFoundError:\n",
        "    if 'google.colab' in str(get_ipython()):\n",
        "        print('geemap not found, installing via pip in Google Colab...')\n",
        "        !pip install geemap --quiet\n",
        "        import geemap\n",
        "    else:\n",
        "        print('geemap not found, please install via conda in your environment')"
      ]
    },
    {
      "cell_type": "markdown",
      "metadata": {
        "id": "EBYhSRuRaEYl"
      },
      "source": [
        "##J.S - P.y\n",
        "Code to automatically convert GEE code from JavaScript to Python\n",
        "- The cell below is used.\n",
        "- Any js code provided will be converted to python.\n",
        "- Write python code and js code in different cells"
      ]
    },
    {
      "cell_type": "code",
      "execution_count": null,
      "metadata": {
        "id": "552WMZ0LaEYq"
      },
      "outputs": [],
      "source": [
        "javascript_code = \"\"\"\n",
        "// Series of strings here!\n",
        "\n",
        "\n",
        "\"\"\""
      ]
    },
    {
      "cell_type": "code",
      "source": [
        "lines = geemap.js_snippet_to_py(\n",
        "    javascript_code, add_new_cell=False,\n",
        "    import_ee=True, import_geemap=True, show_map=True)\n",
        "for line in lines:\n",
        "    print(line.rstrip())"
      ],
      "metadata": {
        "id": "N3f6a2_Nxksg",
        "colab": {
          "base_uri": "https://localhost:8080/"
        },
        "outputId": "0c462f50-ae6e-4377-d272-e86991abec70"
      },
      "execution_count": null,
      "outputs": [
        {
          "output_type": "stream",
          "name": "stdout",
          "text": [
            "import ee\n",
            "import geemap\n",
            "Map = geemap.Map()\n",
            "import geemap\n",
            "\n",
            "Map = geemap.Map()\n",
            "\n",
            "# Series of strings here!\n",
            "\n",
            "Map\n"
          ]
        }
      ]
    },
    {
      "cell_type": "markdown",
      "source": [
        "## Datasets\n",
        "- Load all the required dataset in this section.\n"
      ],
      "metadata": {
        "id": "x3f0n8d_rxYv"
      }
    },
    {
      "cell_type": "code",
      "source": [],
      "metadata": {
        "id": "3SJTdbtLw8Lf"
      },
      "execution_count": null,
      "outputs": []
    },
    {
      "cell_type": "code",
      "source": [
        "#"
      ],
      "metadata": {
        "id": "k7uISp_XsV0X"
      },
      "execution_count": null,
      "outputs": []
    },
    {
      "cell_type": "markdown",
      "source": [
        "## Crop Phenology Extraction\n",
        "- Used to determine the growing seasons\n",
        "- Also used to aid in futher data filtering.\n"
      ],
      "metadata": {
        "id": "F4CV3kBl9CqC"
      }
    },
    {
      "cell_type": "markdown",
      "source": [
        "\n",
        "\n",
        "Extraction ofcrop phenlogical periods usng NDVI and EVI Curves.\n",
        "Image fusion of sentinel and Modis used."
      ],
      "metadata": {
        "id": "VXFKp5Agg_dF"
      }
    },
    {
      "cell_type": "markdown",
      "source": [
        "\n",
        "Only EVI curve using fused sentinel and MODIS Data.superimposed graphs  at two years interval for proper visualization\n"
      ],
      "metadata": {
        "id": "FNIscXQIDekr"
      }
    },
    {
      "cell_type": "code",
      "source": [
        "import numpy as np\n",
        "import pandas as pd\n",
        "import matplotlib.pyplot as plt\n",
        "\n",
        "# Define study area\n",
        "#study_area = ee.FeatureCollection('projects/project5yr/assets/Croplands').geometry()\n",
        "study_area = ee.FeatureCollection('projects/project5yr/assets/BuraStudyArea').geometry()\n",
        "\n",
        "# Create a list of years from 2018 to 2022\n",
        "years = range(2017, 2023)\n",
        "\n",
        "# Create empty lists to store the mean values for each year\n",
        "evi_mean_values = []\n",
        "\n",
        "# Create an empty DataFrame to store all EVI values\n",
        "all_evi_df = pd.DataFrame()\n",
        "\n",
        "# Iterate over each year\n",
        "for year in years:\n",
        "    # Define start and end dates for the current year\n",
        "    start_date = f'{year}-01-01'\n",
        "    end_date = f'{year}-12-31'\n",
        "\n",
        "    # Load Sentinel-2, Landsat, and MODIS images for the current year\n",
        "    sentinel = ee.ImageCollection('COPERNICUS/S2_SR') \\\n",
        "        .filterBounds(study_area) \\\n",
        "        .filterDate(start_date, end_date) \\\n",
        "        .map(lambda image: image.clip(study_area)) \\\n",
        "        .map(lambda image: image.updateMask(image.select(['QA60']).bitwiseAnd(2 ** 10).eq(0))) \\\n",
        "        .map(lambda image: image.divide(10000).float()) \\\n",
        "        .map(lambda image: image.expression('2.5 * (b(\"B8\") - b(\"B4\")) / (1 + b(\"B8\") + 6 * b(\"B4\") - 7.5 * b(\"B2\"))', {\n",
        "            'B2': image.select('B2'),\n",
        "            'B4': image.select('B4'),\n",
        "            'B8': image.select('B8')\n",
        "        }).rename('EVI').copyProperties(image, image.propertyNames()))\n",
        "\n",
        "    landsat = ee.ImageCollection('LANDSAT/LC08/C01/T1_SR') \\\n",
        "        .filterBounds(study_area) \\\n",
        "        .filterDate(start_date, end_date) \\\n",
        "        .map(lambda image: image.clip(study_area)) \\\n",
        "        .map(lambda image: image.divide(10000).float()) \\\n",
        "        .map(lambda image: image.expression('2.5 * (b(\"B5\") - b(\"B4\")) / (1 + b(\"B5\") + 6 * b(\"B4\") - 7.5 * b(\"B2\"))', {\n",
        "            'B4': image.select('B4'),\n",
        "            'B5': image.select('B5'),\n",
        "            'B2': image.select('B2')\n",
        "        }).rename('EVI').copyProperties(image, image.propertyNames()))\n",
        "\n",
        "    modis = ee.ImageCollection('MODIS/006/MOD13A1') \\\n",
        "        .filterBounds(study_area) \\\n",
        "        .filterDate(start_date, end_date) \\\n",
        "        .map(lambda image: image.clip(study_area)) \\\n",
        "        .map(lambda image: image.divide(10000).float()) \\\n",
        "        .select('EVI')\n",
        "\n",
        "    # Merge the image collections\n",
        "    image_collection = sentinel.merge(landsat).merge(modis)\n",
        "\n",
        "    # Create a fusion function\n",
        "    def fusionFunction(images):\n",
        "        return ee.Image(images.mean())\n",
        "\n",
        "    # Apply the fusion function to the image collection\n",
        "    fused_image = image_collection.reduce(ee.Reducer.intervalMean(50, 100)).rename('EVI')\n",
        "\n",
        "    # Reduce region and extract EVI values as a nested list\n",
        "    evi_values = fused_image.reduceRegion(reducer=ee.Reducer.toList(), geometry=study_area, scale=500).getInfo()\n",
        "\n",
        "    # Convert the nested list to a Pandas DataFrame\n",
        "    evi_df = pd.DataFrame(evi_values.get('EVI'), columns=['EVI'])\n",
        "\n",
        "    # Add day of the year (DOY) column\n",
        "    evi_df['doy'] = range(1, len(evi_df) + 1)\n",
        "\n",
        "    # Smooth curve using moving average\n",
        "    evi_df['EVI_smooth'] = evi_df['EVI'].rolling(window=100, center=True).mean()\n",
        "\n",
        "    # Fit curve using polynomial regression\n",
        "    evi_fit = np.polyfit(evi_df['doy'], evi_df['EVI_smooth'], deg=6)\n",
        "\n",
        "    # Calculate the mean EVI value for the current year\n",
        "    evi_mean = evi_df['EVI'].mean()\n",
        "\n",
        "    # Store the mean value\n",
        "    evi_mean_values.append(evi_mean)\n",
        "\n",
        "    # Merge the current year's EVI DataFrame with the overall DataFrame\n",
        "    all_evi_df = pd.concat([all_evi_df, evi_df], ignore_index=True)\n",
        "\n",
        "    # Plot EVI curve with fitted curve for the current year\n",
        "    plt.plot(evi_df['doy'], evi_df['EVI_smooth'], label=f'Year {year}')\n",
        "\n",
        "# Calculate the average EVI values across all years\n",
        "avg_evi_df = all_evi_df.groupby('doy')['EVI_smooth'].mean().reset_index()\n",
        "\n",
        "# Smooth the average EVI curve using moving average\n",
        "avg_evi_df['EVI_avg_smooth'] = avg_evi_df['EVI_smooth'].rolling(window=100, center=True).mean()\n",
        "\n",
        "# Fit curve using polynomial regression\n",
        "avg_evi_fit = np.polyfit(avg_evi_df['doy'], avg_evi_df['EVI_avg_smooth'], deg=6)\n",
        "\n",
        "# Plot the average EVI curve with the fitted curve\n",
        "plt.plot(avg_evi_df['doy'], avg_evi_df['EVI_avg_smooth'], color='black', linewidth=2, label='Average')\n",
        "plt.xlabel('DOY')\n",
        "plt.ylabel('EVI')\n",
        "plt.title('EVI Crop Phenology')\n",
        "plt.legend()\n",
        "plt.grid(True)\n",
        "\n",
        "plt.xticks(np.arange(0, len(avg_evi_df['doy']), 730))\n",
        "plt.xticks(np.arange(0, len(avg_evi_df['doy']), 100))\n",
        "plt.axvline(x=365, color='red', linestyle='-')\n",
        "plt.show()\n",
        "\n"
      ],
      "metadata": {
        "colab": {
          "base_uri": "https://localhost:8080/",
          "height": 472
        },
        "id": "GqrrTZxwDWHz",
        "outputId": "af07a506-fb53-49b6-d2ef-fe7b8dc379d8"
      },
      "execution_count": null,
      "outputs": [
        {
          "output_type": "display_data",
          "data": {
            "text/plain": [
              "<Figure size 640x480 with 1 Axes>"
            ],
            "image/png": "[encoded data removed]"
          },
          "metadata": {}
        }
      ]
    },
    {
      "cell_type": "markdown",
      "source": [
        "Superimposed graphs. ONLY NDVI. Showing  Crop phenology between consecutive years and an average curve."
      ],
      "metadata": {
        "id": "aMYx0k8ZTlfM"
      }
    },
    {
      "cell_type": "code",
      "source": [
        "import numpy as np\n",
        "import pandas as pd\n",
        "import matplotlib.pyplot as plt\n",
        "\n",
        "# Define study area\n",
        "#study_area = ee.FeatureCollection('projects/project5yr/assets/Croplands').geometry()\n",
        "study_area = ee.FeatureCollection('projects/project5yr/assets/BuraStudyArea').geometry()\n",
        "\n",
        "# Create a list of years from 2018 to 2022\n",
        "years = range(2017, 2023)\n",
        "\n",
        "# Create empty lists to store the mean values for each year\n",
        "ndvi_mean_values = []\n",
        "\n",
        "# Create an empty DataFrame to store all NDVI values\n",
        "all_ndvi_df = pd.DataFrame()\n",
        "\n",
        "# Iterate over each year\n",
        "for year in years:\n",
        "    # Define start and end dates for the current year\n",
        "    start_date = f'{year}-01-01'\n",
        "    end_date = f'{year}-12-31'\n",
        "\n",
        "    # Load Sentinel-2, Landsat, and MODIS images for the current year\n",
        "    sentinel = ee.ImageCollection('COPERNICUS/S2_SR') \\\n",
        "        .filterBounds(study_area) \\\n",
        "        .filterDate(start_date, end_date) \\\n",
        "        .map(lambda image: image.clip(study_area)) \\\n",
        "        .map(lambda image: image.updateMask(image.select(['QA60']).bitwiseAnd(2 ** 10).eq(0))) \\\n",
        "        .map(lambda image: image.divide(10000).float()) \\\n",
        "        .map(lambda image: image.expression('(b(\"B8\") - b(\"B4\")) / (b(\"B8\") + b(\"B4\"))', {\n",
        "            'B4': image.select('B4'),\n",
        "            'B8': image.select('B8')\n",
        "        }).rename('NDVI').copyProperties(image, image.propertyNames()))\n",
        "\n",
        "    landsat = ee.ImageCollection('LANDSAT/LC08/C01/T1_SR') \\\n",
        "        .filterBounds(study_area) \\\n",
        "        .filterDate(start_date, end_date) \\\n",
        "        .map(lambda image: image.clip(study_area)) \\\n",
        "        .map(lambda image: image.divide(10000).float()) \\\n",
        "        .map(lambda image: image.expression('(b(\"B5\") - b(\"B4\")) / (b(\"B5\") + b(\"B4\"))', {\n",
        "            'B4': image.select('B4'),\n",
        "            'B5': image.select('B5')\n",
        "        }).rename('NDVI').copyProperties(image, image.propertyNames()))\n",
        "\n",
        "    modis = ee.ImageCollection('MODIS/006/MOD13A1') \\\n",
        "        .filterBounds(study_area) \\\n",
        "        .filterDate(start_date, end_date) \\\n",
        "        .map(lambda image: image.clip(study_area)) \\\n",
        "        .map(lambda image: image.divide(10000).float()) \\\n",
        "        .select('NDVI')\n",
        "\n",
        "    # Merge the image collections\n",
        "    image_collection = sentinel.merge(landsat).merge(modis)\n",
        "\n",
        "    # Create a fusion function\n",
        "    def fusionFunction(images):\n",
        "        return ee.Image(images.mean())\n",
        "\n",
        "    # Apply the fusion function to the image collection\n",
        "    fused_image = image_collection.reduce(ee.Reducer.intervalMean(50, 100)).rename('NDVI')\n",
        "\n",
        "    # Reduce region and extract NDVI values as a nested list\n",
        "    ndvi_values = fused_image.reduceRegion(reducer=ee.Reducer.toList(), geometry=study_area, scale=500).getInfo()\n",
        "\n",
        "    # Convert the nested list to a Pandas DataFrame\n",
        "    ndvi_df = pd.DataFrame(ndvi_values.get('NDVI'), columns=['NDVI'])\n",
        "\n",
        "    # Add day of the year (DOY) column\n",
        "    ndvi_df['doy'] = range(1, len(ndvi_df) + 1)\n",
        "\n",
        "    # Smooth curve using moving average\n",
        "    ndvi_df['NDVI_smooth'] = ndvi_df['NDVI'].rolling(window=100, center=True).mean()\n",
        "\n",
        "    # Fit curve using polynomial regression\n",
        "    ndvi_fit = np.polyfit(ndvi_df['doy'], ndvi_df['NDVI_smooth'], deg=6)\n",
        "\n",
        "    # Calculate the mean NDVI value for the current year\n",
        "    ndvi_mean = ndvi_df['NDVI'].mean()\n",
        "\n",
        "    # Store the mean value\n",
        "    ndvi_mean_values.append(ndvi_mean)\n",
        "\n",
        "    # Merge the current year's NDVI DataFrame with the overall DataFrame\n",
        "    all_ndvi_df = pd.concat([all_ndvi_df, ndvi_df], ignore_index=True)\n",
        "\n",
        "    # Plot NDVI curve with fitted curve for the current year\n",
        "    plt.plot(ndvi_df['doy'], ndvi_df['NDVI_smooth'], label=f'Year {year}')\n",
        "\n",
        "# Calculate the average NDVI values across all years\n",
        "avg_ndvi_df = all_ndvi_df.groupby('doy')['NDVI_smooth'].mean().reset_index()\n",
        "\n",
        "# Smooth the average NDVI curve using moving average\n",
        "avg_ndvi_df['NDVI_avg_smooth'] = avg_ndvi_df['NDVI_smooth'].rolling(window=100, center=True).mean()\n",
        "\n",
        "# Fit curve using polynomial regression\n",
        "avg_ndvi_fit = np.polyfit(avg_ndvi_df['doy'], avg_ndvi_df['NDVI_avg_smooth'], deg=6)\n",
        "\n",
        "# Plot the average NDVI curve with the fitted curve\n",
        "plt.plot(avg_ndvi_df['doy'], avg_ndvi_df['NDVI_avg_smooth'], color='black', linewidth=2, label='Average')\n",
        "plt.xlabel('DOY')\n",
        "plt.ylabel('NDVI')\n",
        "plt.title('NDVI Crop Phenology')\n",
        "plt.legend()\n",
        "plt.grid(True)\n",
        "\n",
        "plt.xticks(np.arange(0, len(avg_ndvi_df['doy']), 730))\n",
        "plt.xticks(np.arange(0, len(avg_ndvi_df['doy']), 100))\n",
        "plt.axvline(x=365, color='red', linestyle='-')\n",
        "plt.show()\n",
        "\n",
        "Map = geemap.Map()\n",
        "Map.addLayer(fused_image, {'min': -1, 'max': 1, 'palette': ['red', 'yellow', 'green']}, f'NDVI {year}')\n",
        "# Display the map\n",
        "Map.setCenter( 39.876021,-1.17071,12)\n",
        "Map.addLayerControl()\n",
        "Map"
      ],
      "metadata": {
        "colab": {
          "base_uri": "https://localhost:8080/",
          "height": 1000,
          "referenced_widgets": [
            "878927164c1849abad1207d3f08129e5",
            "deeed061411d4cd7aeae45a944190702",
            "0524704cc52f44a4b46ad4c4bf496408",
            "7e580833952c4c3a8cdac7a9a56468c7",
            "253b86547b664d7897110cd00b1775af",
            "af109345430140da903f952a7eecf5b6",
            "263c2cdd0cd34169bcd8147da1cbc685",
            "1a85151bbd094877a317d2ef20437a3f",
            "5582d0f588c94451bb3fec4bf4c981b1",
            "565deabda15b4355a740d5f60ddfc3c2",
            "dad52d136efe415c8da49d2fe63b36c4",
            "fbfc452230f14d14bf7dd298c23f53ee",
            "187766ad636c45e9b267a8e23674864a",
            "7583514baaf74663868650301cfae586",
            "58b3c5a74c224acaa71cd9ca729fdb2c",
            "1370a628f7f24e25a371d37004d2f92e",
            "329e463b90584ee782f0eebaa263b09e",
            "510bbf63ee8e4851a2be61208c380371",
            "40ee14473ed745eb87d0bee3590a4fdd",
            "46e8116615f24c64b32a4f97198cc85c",
            "6d596e34ad36483cac83963629be0cef",
            "97ef137f69164baebd143dfda240beba",
            "9a481cc06b864e85b7b9ccbc580ab66c",
            "28d4debcb48d48f9bd29915c362264ff",
            "c1aea269fa674b4faf7c00721959120a",
            "b40b57416bca4fe7a5ae11c825208368",
            "9cba23341163409c8d2844079bbf0348"
          ]
        },
        "id": "v-XCiPESTIhW",
        "outputId": "ed0306b7-1055-4f80-837d-6d5fd80c009b"
      },
      "execution_count": null,
      "outputs": [
        {
          "output_type": "display_data",
          "data": {
            "text/plain": [
              "<Figure size 640x480 with 1 Axes>"
            ],
            "image/png": "[encoded data removed]"
          },
          "metadata": {}
        },
        {
          "output_type": "display_data",
          "data": {
            "text/plain": [
              "Map(center=[-1.17071, 39.876021], controls=(WidgetControl(options=['position', 'transparent_bg'], widget=HBox(…"
            ],
            "application/vnd.jupyter.widget-view+json": {
              "version_major": 2,
              "version_minor": 0,
              "model_id": "878927164c1849abad1207d3f08129e5"
            }
          },
          "metadata": {
            "application/vnd.jupyter.widget-view+json": {
              "colab": {
                "custom_widget_manager": {
                  "url": "https://ssl.gstatic.com/colaboratory-static/widgets/colab-cdn-widget-manager/b3e629b1971e1542/manager.min.js"
                }
              }
            }
          }
        }
      ]
    },
    {
      "cell_type": "markdown",
      "source": [
        "---\n",
        "Utilizing EVI to Identify crop phenology periods. Two years interval for proper mapping.\n",
        "Superimposed curves.\n"
      ],
      "metadata": {
        "id": "1tSto9lmVWhq"
      }
    },
    {
      "cell_type": "markdown",
      "source": [
        "## Batch Export\n",
        "- Create a function that will enhance batch export of any output required."
      ],
      "metadata": {
        "id": "Ln7aMpXjd5wx"
      }
    },
    {
      "cell_type": "code",
      "source": [
        "#check end-to-end course solution to export bulk images."
      ],
      "metadata": {
        "id": "FOcKcciDeQi6"
      },
      "execution_count": null,
      "outputs": []
    },
    {
      "cell_type": "markdown",
      "source": [
        "### Testing section"
      ],
      "metadata": {
        "id": "Gfqzd9NqZPmd"
      }
    },
    {
      "cell_type": "code",
      "source": [],
      "metadata": {
        "id": "wK2P32tuZWyC"
      },
      "execution_count": null,
      "outputs": []
    }
  ],
  "metadata": {
    "kernelspec": {
      "display_name": "Python 3",
      "language": "python",
      "name": "python3"
    },
    "language_info": {
      "codemirror_mode": {
        "name": "ipython",
        "version": 3
      },
      "file_extension": ".py",
      "mimetype": "text/x-python",
      "name": "python",
      "nbconvert_exporter": "python",
      "pygments_lexer": "ipython3",
      "version": "3.10.8"
    },
    "orig_nbformat": 4,
    "colab": {
      "provenance": [],
      "toc_visible": true,
      "collapsed_sections": [
        "x3f0n8d_rxYv"
      ],
      "include_colab_link": true
    },
    "widgets": {
      "application/vnd.jupyter.widget-state+json": {
        "878927164c1849abad1207d3f08129e5": {
          "model_module": "jupyter-leaflet",
          "model_name": "LeafletMapModel",
          "model_module_version": "^0.17",
          "state": {
            "_dom_classes": [],
            "_model_module": "jupyter-leaflet",
            "_model_module_version": "^0.17",
            "_model_name": "LeafletMapModel",
            "_view_count": null,
            "_view_module": "jupyter-leaflet",
            "_view_module_version": "^0.17",
            "_view_name": "LeafletMapView",
            "bottom": 527998,
            "bounce_at_zoom_limits": true,
            "box_zoom": true,
            "center": [
              -1.17071,
              39.876021
            ],
            "close_popup_on_click": true,
            "controls": [
              "IPY_MODEL_deeed061411d4cd7aeae45a944190702",
              "IPY_MODEL_0524704cc52f44a4b46ad4c4bf496408",
              "IPY_MODEL_7e580833952c4c3a8cdac7a9a56468c7",
              "IPY_MODEL_253b86547b664d7897110cd00b1775af",
              "IPY_MODEL_af109345430140da903f952a7eecf5b6",
              "IPY_MODEL_263c2cdd0cd34169bcd8147da1cbc685",
              "IPY_MODEL_1a85151bbd094877a317d2ef20437a3f",
              "IPY_MODEL_5582d0f588c94451bb3fec4bf4c981b1",
              "IPY_MODEL_565deabda15b4355a740d5f60ddfc3c2"
            ],
            "crs": {
              "name": "EPSG3857",
              "custom": false
            },
            "default_style": "IPY_MODEL_dad52d136efe415c8da49d2fe63b36c4",
            "double_click_zoom": true,
            "dragging": true,
            "dragging_style": "IPY_MODEL_fbfc452230f14d14bf7dd298c23f53ee",
            "east": 40.03726959228516,
            "fullscreen": false,
            "inertia": true,
            "inertia_deceleration": 3000,
            "inertia_max_speed": 1500,
            "interpolation": "bilinear",
            "keyboard": true,
            "keyboard_pan_offset": 80,
            "keyboard_zoom_offset": 1,
            "layers": [
              "IPY_MODEL_187766ad636c45e9b267a8e23674864a",
              "IPY_MODEL_7583514baaf74663868650301cfae586",
              "IPY_MODEL_58b3c5a74c224acaa71cd9ca729fdb2c"
            ],
            "layout": "IPY_MODEL_1370a628f7f24e25a371d37004d2f92e",
            "left": 639966,
            "max_zoom": 24,
            "min_zoom": null,
            "modisdate": "2023-07-06",
            "north": -1.0676719694528745,
            "options": [
              "bounce_at_zoom_limits",
              "box_zoom",
              "center",
              "close_popup_on_click",
              "double_click_zoom",
              "dragging",
              "fullscreen",
              "inertia",
              "inertia_deceleration",
              "inertia_max_speed",
              "interpolation",
              "keyboard",
              "keyboard_pan_offset",
              "keyboard_zoom_offset",
              "max_zoom",
              "min_zoom",
              "prefer_canvas",
              "scroll_wheel_zoom",
              "tap",
              "tap_tolerance",
              "touch_zoom",
              "world_copy_jump",
              "zoom",
              "zoom_animation_threshold",
              "zoom_delta",
              "zoom_snap"
            ],
            "panes": {},
            "prefer_canvas": false,
            "right": 640905,
            "scroll_wheel_zoom": true,
            "south": -1.2736225160659695,
            "style": "IPY_MODEL_329e463b90584ee782f0eebaa263b09e",
            "tap": true,
            "tap_tolerance": 15,
            "top": 527398,
            "touch_zoom": true,
            "west": 39.714889526367195,
            "window_url": "https://9zk0idsgyi8-496ff2e9c6d22116-0-colab.googleusercontent.com/outputframe.html?vrz=colab-20230705-060126-RC00_545627076",
            "world_copy_jump": false,
            "zoom": 12,
            "zoom_animation_threshold": 4,
            "zoom_delta": 1,
            "zoom_snap": 1
          }
        },
        "deeed061411d4cd7aeae45a944190702": {
          "model_module": "jupyter-leaflet",
          "model_name": "LeafletWidgetControlModel",
          "model_module_version": "^0.17",
          "state": {
            "_model_module": "jupyter-leaflet",
            "_model_module_version": "^0.17",
            "_model_name": "LeafletWidgetControlModel",
            "_view_count": null,
            "_view_module": "jupyter-leaflet",
            "_view_module_version": "^0.17",
            "_view_name": "LeafletWidgetControlView",
            "max_height": null,
            "max_width": null,
            "min_height": null,
            "min_width": null,
            "options": [
              "position",
              "transparent_bg"
            ],
            "position": "topleft",
            "transparent_bg": false,
            "widget": "IPY_MODEL_510bbf63ee8e4851a2be61208c380371"
          }
        },
        "0524704cc52f44a4b46ad4c4bf496408": {
          "model_module": "jupyter-leaflet",
          "model_name": "LeafletZoomControlModel",
          "model_module_version": "^0.17",
          "state": {
            "_model_module": "jupyter-leaflet",
            "_model_module_version": "^0.17",
            "_model_name": "LeafletZoomControlModel",
            "_view_count": null,
            "_view_module": "jupyter-leaflet",
            "_view_module_version": "^0.17",
            "_view_name": "LeafletZoomControlView",
            "options": [
              "position",
              "zoom_in_text",
              "zoom_in_title",
              "zoom_out_text",
              "zoom_out_title"
            ],
            "position": "topleft",
            "zoom_in_text": "+",
            "zoom_in_title": "Zoom in",
            "zoom_out_text": "-",
            "zoom_out_title": "Zoom out"
          }
        },
        "7e580833952c4c3a8cdac7a9a56468c7": {
          "model_module": "jupyter-leaflet",
          "model_name": "LeafletFullScreenControlModel",
          "model_module_version": "^0.17",
          "state": {
            "_model_module": "jupyter-leaflet",
            "_model_module_version": "^0.17",
            "_model_name": "LeafletFullScreenControlModel",
            "_view_count": null,
            "_view_module": "jupyter-leaflet",
            "_view_module_version": "^0.17",
            "_view_name": "LeafletFullScreenControlView",
            "options": [
              "position"
            ],
            "position": "topleft"
          }
        },
        "253b86547b664d7897110cd00b1775af": {
          "model_module": "jupyter-leaflet",
          "model_name": "LeafletDrawControlModel",
          "model_module_version": "^0.17",
          "state": {
            "_model_module": "jupyter-leaflet",
            "_model_module_version": "^0.17",
            "_model_name": "LeafletDrawControlModel",
            "_view_count": null,
            "_view_module": "jupyter-leaflet",
            "_view_module_version": "^0.17",
            "_view_name": "LeafletDrawControlView",
            "circle": {},
            "circlemarker": {},
            "data": [],
            "edit": true,
            "marker": {
              "shapeOptions": {
                "color": "#3388ff"
              }
            },
            "options": [
              "position"
            ],
            "polygon": {
              "shapeOptions": {}
            },
            "polyline": {
              "shapeOptions": {}
            },
            "position": "topleft",
            "rectangle": {
              "shapeOptions": {
                "color": "#3388ff"
              }
            },
            "remove": true
          }
        },
        "af109345430140da903f952a7eecf5b6": {
          "model_module": "jupyter-leaflet",
          "model_name": "LeafletScaleControlModel",
          "model_module_version": "^0.17",
          "state": {
            "_model_module": "jupyter-leaflet",
            "_model_module_version": "^0.17",
            "_model_name": "LeafletScaleControlModel",
            "_view_count": null,
            "_view_module": "jupyter-leaflet",
            "_view_module_version": "^0.17",
            "_view_name": "LeafletScaleControlView",
            "imperial": true,
            "max_width": 100,
            "metric": true,
            "options": [
              "imperial",
              "max_width",
              "metric",
              "position",
              "update_when_idle"
            ],
            "position": "bottomleft",
            "update_when_idle": false
          }
        },
        "263c2cdd0cd34169bcd8147da1cbc685": {
          "model_module": "jupyter-leaflet",
          "model_name": "LeafletMeasureControlModel",
          "model_module_version": "^0.17",
          "state": {
            "_custom_units": {},
            "_model_module": "jupyter-leaflet",
            "_model_module_version": "^0.17",
            "_model_name": "LeafletMeasureControlModel",
            "_view_count": null,
            "_view_module": "jupyter-leaflet",
            "_view_module_version": "^0.17",
            "_view_name": "LeafletMeasureControlView",
            "active_color": "orange",
            "capture_z_index": 10000,
            "completed_color": "#C8F2BE",
            "options": [
              "active_color",
              "capture_z_index",
              "completed_color",
              "popup_options",
              "position",
              "primary_area_unit",
              "primary_length_unit",
              "secondary_area_unit",
              "secondary_length_unit"
            ],
            "popup_options": {
              "className": "leaflet-measure-resultpopup",
              "autoPanPadding": [
                10,
                10
              ]
            },
            "position": "bottomleft",
            "primary_area_unit": "acres",
            "primary_length_unit": "kilometers",
            "secondary_area_unit": null,
            "secondary_length_unit": null
          }
        },
        "1a85151bbd094877a317d2ef20437a3f": {
          "model_module": "jupyter-leaflet",
          "model_name": "LeafletWidgetControlModel",
          "model_module_version": "^0.17",
          "state": {
            "_model_module": "jupyter-leaflet",
            "_model_module_version": "^0.17",
            "_model_name": "LeafletWidgetControlModel",
            "_view_count": null,
            "_view_module": "jupyter-leaflet",
            "_view_module_version": "^0.17",
            "_view_name": "LeafletWidgetControlView",
            "max_height": null,
            "max_width": null,
            "min_height": null,
            "min_width": null,
            "options": [
              "position",
              "transparent_bg"
            ],
            "position": "topright",
            "transparent_bg": false,
            "widget": "IPY_MODEL_40ee14473ed745eb87d0bee3590a4fdd"
          }
        },
        "5582d0f588c94451bb3fec4bf4c981b1": {
          "model_module": "jupyter-leaflet",
          "model_name": "LeafletAttributionControlModel",
          "model_module_version": "^0.17",
          "state": {
            "_model_module": "jupyter-leaflet",
            "_model_module_version": "^0.17",
            "_model_name": "LeafletAttributionControlModel",
            "_view_count": null,
            "_view_module": "jupyter-leaflet",
            "_view_module_version": "^0.17",
            "_view_name": "LeafletAttributionControlView",
            "options": [
              "position",
              "prefix"
            ],
            "position": "bottomright",
            "prefix": "ipyleaflet"
          }
        },
        "565deabda15b4355a740d5f60ddfc3c2": {
          "model_module": "jupyter-leaflet",
          "model_name": "LeafletLayersControlModel",
          "model_module_version": "^0.17",
          "state": {
            "_model_module": "jupyter-leaflet",
            "_model_module_version": "^0.17",
            "_model_name": "LeafletLayersControlModel",
            "_view_count": null,
            "_view_module": "jupyter-leaflet",
            "_view_module_version": "^0.17",
            "_view_name": "LeafletLayersControlView",
            "options": [
              "position"
            ],
            "position": "topright"
          }
        },
        "dad52d136efe415c8da49d2fe63b36c4": {
          "model_module": "jupyter-leaflet",
          "model_name": "LeafletMapStyleModel",
          "model_module_version": "^0.17",
          "state": {
            "_model_module": "jupyter-leaflet",
            "_model_module_version": "^0.17",
            "_model_name": "LeafletMapStyleModel",
            "_view_count": null,
            "_view_module": "@jupyter-widgets/base",
            "_view_module_version": "1.2.0",
            "_view_name": "StyleView",
            "cursor": "grab"
          }
        },
        "fbfc452230f14d14bf7dd298c23f53ee": {
          "model_module": "jupyter-leaflet",
          "model_name": "LeafletMapStyleModel",
          "model_module_version": "^0.17",
          "state": {
            "_model_module": "jupyter-leaflet",
            "_model_module_version": "^0.17",
            "_model_name": "LeafletMapStyleModel",
            "_view_count": null,
            "_view_module": "@jupyter-widgets/base",
            "_view_module_version": "1.2.0",
            "_view_name": "StyleView",
            "cursor": "move"
          }
        },
        "187766ad636c45e9b267a8e23674864a": {
          "model_module": "jupyter-leaflet",
          "model_name": "LeafletTileLayerModel",
          "model_module_version": "^0.17",
          "state": {
            "_model_module": "jupyter-leaflet",
            "_model_module_version": "^0.17",
            "_model_name": "LeafletTileLayerModel",
            "_view_count": null,
            "_view_module": "jupyter-leaflet",
            "_view_module_version": "^0.17",
            "_view_name": "LeafletTileLayerView",
            "attribution": "&copy; <a href=\"https://www.openstreetmap.org/copyright\">OpenStreetMap</a> contributors",
            "base": true,
            "bottom": true,
            "bounds": null,
            "detect_retina": false,
            "loading": false,
            "max_native_zoom": null,
            "max_zoom": 19,
            "min_native_zoom": null,
            "min_zoom": 1,
            "name": "OpenStreetMap.Mapnik",
            "no_wrap": false,
            "opacity": 1,
            "options": [
              "attribution",
              "bounds",
              "detect_retina",
              "max_native_zoom",
              "max_zoom",
              "min_native_zoom",
              "min_zoom",
              "no_wrap",
              "tile_size",
              "tms",
              "zoom_offset"
            ],
            "pane": "",
            "popup": null,
            "popup_max_height": null,
            "popup_max_width": 300,
            "popup_min_width": 50,
            "show_loading": false,
            "subitems": [],
            "tile_size": 256,
            "tms": false,
            "url": "https://tile.openstreetmap.org/{z}/{x}/{y}.png",
            "visible": true,
            "zoom_offset": 0
          }
        },
        "7583514baaf74663868650301cfae586": {
          "model_module": "jupyter-leaflet",
          "model_name": "LeafletTileLayerModel",
          "model_module_version": "^0.17",
          "state": {
            "_model_module": "jupyter-leaflet",
            "_model_module_version": "^0.17",
            "_model_name": "LeafletTileLayerModel",
            "_view_count": null,
            "_view_module": "jupyter-leaflet",
            "_view_module_version": "^0.17",
            "_view_name": "LeafletTileLayerView",
            "attribution": "Google",
            "base": false,
            "bottom": true,
            "bounds": null,
            "detect_retina": false,
            "loading": false,
            "max_native_zoom": null,
            "max_zoom": 24,
            "min_native_zoom": null,
            "min_zoom": 0,
            "name": "Google Maps",
            "no_wrap": false,
            "opacity": 1,
            "options": [
              "attribution",
              "bounds",
              "detect_retina",
              "max_native_zoom",
              "max_zoom",
              "min_native_zoom",
              "min_zoom",
              "no_wrap",
              "tile_size",
              "tms",
              "zoom_offset"
            ],
            "pane": "",
            "popup": null,
            "popup_max_height": null,
            "popup_max_width": 300,
            "popup_min_width": 50,
            "show_loading": false,
            "subitems": [],
            "tile_size": 256,
            "tms": false,
            "url": "https://mt1.google.com/vt/lyrs=m&x={x}&y={y}&z={z}",
            "visible": true,
            "zoom_offset": 0
          }
        },
        "58b3c5a74c224acaa71cd9ca729fdb2c": {
          "model_module": "jupyter-leaflet",
          "model_name": "LeafletTileLayerModel",
          "model_module_version": "^0.17",
          "state": {
            "_model_module": "jupyter-leaflet",
            "_model_module_version": "^0.17",
            "_model_name": "LeafletTileLayerModel",
            "_view_count": null,
            "_view_module": "jupyter-leaflet",
            "_view_module_version": "^0.17",
            "_view_name": "LeafletTileLayerView",
            "attribution": "Google Earth Engine",
            "base": false,
            "bottom": true,
            "bounds": null,
            "detect_retina": false,
            "loading": false,
            "max_native_zoom": null,
            "max_zoom": 24,
            "min_native_zoom": null,
            "min_zoom": 0,
            "name": "NDVI 2022",
            "no_wrap": false,
            "opacity": 1,
            "options": [
              "attribution",
              "bounds",
              "detect_retina",
              "max_native_zoom",
              "max_zoom",
              "min_native_zoom",
              "min_zoom",
              "no_wrap",
              "tile_size",
              "tms",
              "zoom_offset"
            ],
            "pane": "",
            "popup": null,
            "popup_max_height": null,
            "popup_max_width": 300,
            "popup_min_width": 50,
            "show_loading": false,
            "subitems": [],
            "tile_size": 256,
            "tms": false,
            "url": "https://earthengine.googleapis.com/v1alpha/projects/earthengine-legacy/maps/0351a954f3e7f4ac2d4c331754253b8c-97ae5009afc982b4711552a4edf1d31d/tiles/{z}/{x}/{y}",
            "visible": true,
            "zoom_offset": 0
          }
        },
        "1370a628f7f24e25a371d37004d2f92e": {
          "model_module": "@jupyter-widgets/base",
          "model_name": "LayoutModel",
          "model_module_version": "1.2.0",
          "state": {
            "_model_module": "@jupyter-widgets/base",
            "_model_module_version": "1.2.0",
            "_model_name": "LayoutModel",
            "_view_count": null,
            "_view_module": "@jupyter-widgets/base",
            "_view_module_version": "1.2.0",
            "_view_name": "LayoutView",
            "align_content": null,
            "align_items": null,
            "align_self": null,
            "border": null,
            "bottom": null,
            "display": null,
            "flex": null,
            "flex_flow": null,
            "grid_area": null,
            "grid_auto_columns": null,
            "grid_auto_flow": null,
            "grid_auto_rows": null,
            "grid_column": null,
            "grid_gap": null,
            "grid_row": null,
            "grid_template_areas": null,
            "grid_template_columns": null,
            "grid_template_rows": null,
            "height": "600px",
            "justify_content": null,
            "justify_items": null,
            "left": null,
            "margin": null,
            "max_height": null,
            "max_width": null,
            "min_height": null,
            "min_width": null,
            "object_fit": null,
            "object_position": null,
            "order": null,
            "overflow": null,
            "overflow_x": null,
            "overflow_y": null,
            "padding": null,
            "right": null,
            "top": null,
            "visibility": null,
            "width": null
          }
        },
        "329e463b90584ee782f0eebaa263b09e": {
          "model_module": "jupyter-leaflet",
          "model_name": "LeafletMapStyleModel",
          "model_module_version": "^0.17",
          "state": {
            "_model_module": "jupyter-leaflet",
            "_model_module_version": "^0.17",
            "_model_name": "LeafletMapStyleModel",
            "_view_count": null,
            "_view_module": "@jupyter-widgets/base",
            "_view_module_version": "1.2.0",
            "_view_name": "StyleView",
            "cursor": "grab"
          }
        },
        "510bbf63ee8e4851a2be61208c380371": {
          "model_module": "@jupyter-widgets/controls",
          "model_name": "HBoxModel",
          "model_module_version": "1.5.0",
          "state": {
            "_dom_classes": [],
            "_model_module": "@jupyter-widgets/controls",
            "_model_module_version": "1.5.0",
            "_model_name": "HBoxModel",
            "_view_count": null,
            "_view_module": "@jupyter-widgets/controls",
            "_view_module_version": "1.5.0",
            "_view_name": "HBoxView",
            "box_style": "",
            "children": [
              "IPY_MODEL_46e8116615f24c64b32a4f97198cc85c"
            ],
            "layout": "IPY_MODEL_6d596e34ad36483cac83963629be0cef"
          }
        },
        "40ee14473ed745eb87d0bee3590a4fdd": {
          "model_module": "@jupyter-widgets/controls",
          "model_name": "VBoxModel",
          "model_module_version": "1.5.0",
          "state": {
            "_dom_classes": [],
            "_model_module": "@jupyter-widgets/controls",
            "_model_module_version": "1.5.0",
            "_model_name": "VBoxModel",
            "_view_count": null,
            "_view_module": "@jupyter-widgets/controls",
            "_view_module_version": "1.5.0",
            "_view_name": "VBoxView",
            "box_style": "",
            "children": [
              "IPY_MODEL_97ef137f69164baebd143dfda240beba"
            ],
            "layout": "IPY_MODEL_9a481cc06b864e85b7b9ccbc580ab66c"
          }
        },
        "46e8116615f24c64b32a4f97198cc85c": {
          "model_module": "@jupyter-widgets/controls",
          "model_name": "ToggleButtonModel",
          "model_module_version": "1.5.0",
          "state": {
            "_dom_classes": [],
            "_model_module": "@jupyter-widgets/controls",
            "_model_module_version": "1.5.0",
            "_model_name": "ToggleButtonModel",
            "_view_count": null,
            "_view_module": "@jupyter-widgets/controls",
            "_view_module_version": "1.5.0",
            "_view_name": "ToggleButtonView",
            "button_style": "",
            "description": "",
            "description_tooltip": null,
            "disabled": false,
            "icon": "globe",
            "layout": "IPY_MODEL_28d4debcb48d48f9bd29915c362264ff",
            "style": "IPY_MODEL_c1aea269fa674b4faf7c00721959120a",
            "tooltip": "Search location/data",
            "value": false
          }
        },
        "6d596e34ad36483cac83963629be0cef": {
          "model_module": "@jupyter-widgets/base",
          "model_name": "LayoutModel",
          "model_module_version": "1.2.0",
          "state": {
            "_model_module": "@jupyter-widgets/base",
            "_model_module_version": "1.2.0",
            "_model_name": "LayoutModel",
            "_view_count": null,
            "_view_module": "@jupyter-widgets/base",
            "_view_module_version": "1.2.0",
            "_view_name": "LayoutView",
            "align_content": null,
            "align_items": null,
            "align_self": null,
            "border": null,
            "bottom": null,
            "display": null,
            "flex": null,
            "flex_flow": null,
            "grid_area": null,
            "grid_auto_columns": null,
            "grid_auto_flow": null,
            "grid_auto_rows": null,
            "grid_column": null,
            "grid_gap": null,
            "grid_row": null,
            "grid_template_areas": null,
            "grid_template_columns": null,
            "grid_template_rows": null,
            "height": null,
            "justify_content": null,
            "justify_items": null,
            "left": null,
            "margin": null,
            "max_height": null,
            "max_width": null,
            "min_height": null,
            "min_width": null,
            "object_fit": null,
            "object_position": null,
            "order": null,
            "overflow": null,
            "overflow_x": null,
            "overflow_y": null,
            "padding": null,
            "right": null,
            "top": null,
            "visibility": null,
            "width": null
          }
        },
        "97ef137f69164baebd143dfda240beba": {
          "model_module": "@jupyter-widgets/controls",
          "model_name": "ToggleButtonModel",
          "model_module_version": "1.5.0",
          "state": {
            "_dom_classes": [],
            "_model_module": "@jupyter-widgets/controls",
            "_model_module_version": "1.5.0",
            "_model_name": "ToggleButtonModel",
            "_view_count": null,
            "_view_module": "@jupyter-widgets/controls",
            "_view_module_version": "1.5.0",
            "_view_name": "ToggleButtonView",
            "button_style": "",
            "description": "",
            "description_tooltip": null,
            "disabled": false,
            "icon": "wrench",
            "layout": "IPY_MODEL_b40b57416bca4fe7a5ae11c825208368",
            "style": "IPY_MODEL_9cba23341163409c8d2844079bbf0348",
            "tooltip": "Toolbar",
            "value": false
          }
        },
        "9a481cc06b864e85b7b9ccbc580ab66c": {
          "model_module": "@jupyter-widgets/base",
          "model_name": "LayoutModel",
          "model_module_version": "1.2.0",
          "state": {
            "_model_module": "@jupyter-widgets/base",
            "_model_module_version": "1.2.0",
            "_model_name": "LayoutModel",
            "_view_count": null,
            "_view_module": "@jupyter-widgets/base",
            "_view_module_version": "1.2.0",
            "_view_name": "LayoutView",
            "align_content": null,
            "align_items": null,
            "align_self": null,
            "border": null,
            "bottom": null,
            "display": null,
            "flex": null,
            "flex_flow": null,
            "grid_area": null,
            "grid_auto_columns": null,
            "grid_auto_flow": null,
            "grid_auto_rows": null,
            "grid_column": null,
            "grid_gap": null,
            "grid_row": null,
            "grid_template_areas": null,
            "grid_template_columns": null,
            "grid_template_rows": null,
            "height": null,
            "justify_content": null,
            "justify_items": null,
            "left": null,
            "margin": null,
            "max_height": null,
            "max_width": null,
            "min_height": null,
            "min_width": null,
            "object_fit": null,
            "object_position": null,
            "order": null,
            "overflow": null,
            "overflow_x": null,
            "overflow_y": null,
            "padding": null,
            "right": null,
            "top": null,
            "visibility": null,
            "width": null
          }
        },
        "28d4debcb48d48f9bd29915c362264ff": {
          "model_module": "@jupyter-widgets/base",
          "model_name": "LayoutModel",
          "model_module_version": "1.2.0",
          "state": {
            "_model_module": "@jupyter-widgets/base",
            "_model_module_version": "1.2.0",
            "_model_name": "LayoutModel",
            "_view_count": null,
            "_view_module": "@jupyter-widgets/base",
            "_view_module_version": "1.2.0",
            "_view_name": "LayoutView",
            "align_content": null,
            "align_items": null,
            "align_self": null,
            "border": null,
            "bottom": null,
            "display": null,
            "flex": null,
            "flex_flow": null,
            "grid_area": null,
            "grid_auto_columns": null,
            "grid_auto_flow": null,
            "grid_auto_rows": null,
            "grid_column": null,
            "grid_gap": null,
            "grid_row": null,
            "grid_template_areas": null,
            "grid_template_columns": null,
            "grid_template_rows": null,
            "height": "28px",
            "justify_content": null,
            "justify_items": null,
            "left": null,
            "margin": null,
            "max_height": null,
            "max_width": null,
            "min_height": null,
            "min_width": null,
            "object_fit": null,
            "object_position": null,
            "order": null,
            "overflow": null,
            "overflow_x": null,
            "overflow_y": null,
            "padding": "0px 0px 0px 4px",
            "right": null,
            "top": null,
            "visibility": null,
            "width": "28px"
          }
        },
        "c1aea269fa674b4faf7c00721959120a": {
          "model_module": "@jupyter-widgets/controls",
          "model_name": "DescriptionStyleModel",
          "model_module_version": "1.5.0",
          "state": {
            "_model_module": "@jupyter-widgets/controls",
            "_model_module_version": "1.5.0",
            "_model_name": "DescriptionStyleModel",
            "_view_count": null,
            "_view_module": "@jupyter-widgets/base",
            "_view_module_version": "1.2.0",
            "_view_name": "StyleView",
            "description_width": ""
          }
        },
        "b40b57416bca4fe7a5ae11c825208368": {
          "model_module": "@jupyter-widgets/base",
          "model_name": "LayoutModel",
          "model_module_version": "1.2.0",
          "state": {
            "_model_module": "@jupyter-widgets/base",
            "_model_module_version": "1.2.0",
            "_model_name": "LayoutModel",
            "_view_count": null,
            "_view_module": "@jupyter-widgets/base",
            "_view_module_version": "1.2.0",
            "_view_name": "LayoutView",
            "align_content": null,
            "align_items": null,
            "align_self": null,
            "border": null,
            "bottom": null,
            "display": null,
            "flex": null,
            "flex_flow": null,
            "grid_area": null,
            "grid_auto_columns": null,
            "grid_auto_flow": null,
            "grid_auto_rows": null,
            "grid_column": null,
            "grid_gap": null,
            "grid_row": null,
            "grid_template_areas": null,
            "grid_template_columns": null,
            "grid_template_rows": null,
            "height": "28px",
            "justify_content": null,
            "justify_items": null,
            "left": null,
            "margin": null,
            "max_height": null,
            "max_width": null,
            "min_height": null,
            "min_width": null,
            "object_fit": null,
            "object_position": null,
            "order": null,
            "overflow": null,
            "overflow_x": null,
            "overflow_y": null,
            "padding": "0px 0px 0px 4px",
            "right": null,
            "top": null,
            "visibility": null,
            "width": "28px"
          }
        },
        "9cba23341163409c8d2844079bbf0348": {
          "model_module": "@jupyter-widgets/controls",
          "model_name": "DescriptionStyleModel",
          "model_module_version": "1.5.0",
          "state": {
            "_model_module": "@jupyter-widgets/controls",
            "_model_module_version": "1.5.0",
            "_model_name": "DescriptionStyleModel",
            "_view_count": null,
            "_view_module": "@jupyter-widgets/base",
            "_view_module_version": "1.2.0",
            "_view_name": "StyleView",
            "description_width": ""
          }
        }
      }
    }
  },
  "nbformat": 4,
  "nbformat_minor": 0
}