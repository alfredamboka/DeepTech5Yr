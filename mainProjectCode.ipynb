{
  "cells": [
    {
      "cell_type": "markdown",
      "metadata": {
        "id": "view-in-github",
        "colab_type": "text"
      },
      "source": [
        "<a href=\"https://colab.research.google.com/github/alfredamboka/DeepTech5Yr/blob/main/mainProjectCode.ipynb\" target=\"_parent\"><img src=\"https://colab.research.google.com/assets/colab-badge.svg\" alt=\"Open In Colab\"/></a>"
      ]
    },
    {
      "cell_type": "code",
      "execution_count": 19,
      "metadata": {
        "id": "6aFQY78WaEYX"
      },
      "outputs": [],
      "source": [
        "import math\n",
        "import ee\n",
        "#import geemap\n",
        "#ee.Authenticate()\n",
        "#ee.Initialize()\n",
        "\n",
        "\n"
      ]
    },
    {
      "cell_type": "markdown",
      "source": [
        "install and import geemap for convertion on js to py\n",
        "Only applicable to Colab. In other cases or environment install normally and comment the cell below."
      ],
      "metadata": {
        "id": "0ybsA7lDv0wf"
      }
    },
    {
      "cell_type": "code",
      "execution_count": 20,
      "metadata": {
        "id": "TvgN33GVaEYd"
      },
      "outputs": [],
      "source": [
        "try:\n",
        "    import geemap\n",
        "except ModuleNotFoundError:\n",
        "    if 'google.colab' in str(get_ipython()):\n",
        "        print('geemap not found, installing via pip in Google Colab...')\n",
        "        !pip install geemap --quiet\n",
        "        import geemap\n",
        "    else:\n",
        "        print('geemap not found, please install via conda in your environment')"
      ]
    },
    {
      "cell_type": "markdown",
      "metadata": {
        "id": "EBYhSRuRaEYl"
      },
      "source": [
        "##J.S - P.y\n",
        "Code to automatically convert GEE code from JavaScript to Python\n",
        "- The cell below is used.\n",
        "- Any js code provided will be converted to python.\n",
        "- Write python code and js code in different cells"
      ]
    },
    {
      "cell_type": "code",
      "execution_count": 21,
      "metadata": {
        "id": "552WMZ0LaEYq"
      },
      "outputs": [],
      "source": [
        "javascript_code = \"\"\"\n",
        "// Series of strings here!\n",
        "\n",
        "\n",
        "\"\"\""
      ]
    },
    {
      "cell_type": "code",
      "source": [
        "lines = geemap.js_snippet_to_py(\n",
        "    javascript_code, add_new_cell=False,\n",
        "    import_ee=True, import_geemap=True, show_map=True)\n",
        "for line in lines:\n",
        "    print(line.rstrip())"
      ],
      "metadata": {
        "id": "N3f6a2_Nxksg",
        "colab": {
          "base_uri": "https://localhost:8080/"
        },
        "outputId": "79d7a1a9-947d-4130-eb51-464ab2f271a1"
      },
      "execution_count": 22,
      "outputs": [
        {
          "output_type": "stream",
          "name": "stdout",
          "text": [
            "import ee\n",
            "import geemap\n",
            "Map = geemap.Map()\n",
            "import geemap\n",
            "\n",
            "Map = geemap.Map()\n",
            "\n",
            "# Series of strings here!\n",
            "\n",
            "Map\n"
          ]
        }
      ]
    },
    {
      "cell_type": "markdown",
      "source": [
        "Testing Cell Bellow toconfirm if it is working."
      ],
      "metadata": {
        "id": "cysHyaBexpzy"
      }
    },
    {
      "cell_type": "code",
      "source": [
        "import csv\n",
        "import matplotlib.pyplot as plt\n",
        "\n",
        "# Load MODIS EVI and Sentinel-2 datasets\n",
        "modisCollection = ee.ImageCollection('MODIS/006/MOD13Q1')\n",
        "sentinelCollection = ee.ImageCollection('COPERNICUS/S2_SR')\n",
        "\n",
        "# Filter for the desired year (2021 or 2020)\n",
        "year = 2021\n",
        "\n",
        "# Filter for Tana River county\n",
        "countyName = 'Tana River'  # Change to the desired county name\n",
        "counties = ee.FeatureCollection('FAO/GAUL/2015/level2')\n",
        "county = counties.filter(ee.Filter.eq('ADM2_NAME', countyName))\n",
        "\n",
        "# Filter MODIS EVI and Sentinel-2 datasets for the region and year\n",
        "modisFiltered = modisCollection.filterBounds(county) \\\n",
        "    .filter(ee.Filter.calendarRange(year, year, 'year'))\n",
        "sentinelFiltered = sentinelCollection.filterBounds(county) \\\n",
        "    .filter(ee.Filter.calendarRange(year, year, 'year'))\n",
        "\n",
        "# Fusion of MODIS and Sentinel-2 data using the EVI band\n",
        "def fusion(image):\n",
        "    date = image.date()\n",
        "    sentinelImage = sentinelFiltered.filterDate(date, date.advance(8, 'day')).median()\n",
        "\n",
        "    return image.addBands(sentinelImage.select('B4').rename('Red')) \\\n",
        "        .addBands(sentinelImage.select('B8').rename('NIR'))\n",
        "\n",
        "fusedCollection = modisFiltered.map(fusion)\n",
        "\n",
        "# Calculate phenology period using EVI and NDVI thresholds\n",
        "thresholdEVI = 2500\n",
        "thresholdNDVI = 0.5\n",
        "\n",
        "def calculate_phenology(image):\n",
        "    evi = image.select('EVI')\n",
        "    ndvi = image.expression('(NIR - Red) / (NIR + Red)', {\n",
        "        'NIR': image.select('NIR'),\n",
        "        'Red': image.select('Red')\n",
        "    })\n",
        "\n",
        "    eviMasked = evi.gt(thresholdEVI)\n",
        "    ndviMasked = ndvi.gt(thresholdNDVI)\n",
        "\n",
        "    start = eviMasked.multiply(ndviMasked).reduce(ee.Reducer.min()).rename('start')\n",
        "    end = eviMasked.multiply(ndviMasked).reduce(ee.Reducer.max()).rename('end')\n",
        "\n",
        "    return image.addBands(start).addBands(end)\n",
        "\n",
        "phenologyPeriod = fusedCollection.map(calculate_phenology)\n",
        "\n",
        "# Extract start and end dates of phenological periods\n",
        "def extract_dates(image):\n",
        "    startDate = ee.Date(image.get('system:time_start'))\n",
        "    endDate = startDate.advance(8, 'day')\n",
        "\n",
        "    return ee.Feature(None, {\n",
        "        'start': startDate.millis(),\n",
        "        'end': endDate.millis()\n",
        "    })\n",
        "\n",
        "phenologyDates = phenologyPeriod.map(extract_dates)\n",
        "\n",
        "# Convert EE collection to a list for plotting\n",
        "phenologyDatesList = phenologyDates.toList(phenologyDates.size())\n",
        "startDates = phenologyDatesList.map(lambda f: ee.Feature(f).get('start')).getInfo()\n",
        "endDates = phenologyDatesList.map(lambda f: ee.Feature(f).get('end')).getInfo()\n",
        "\n",
        "# Plot the phenological periods\n",
        "plt.scatter(startDates, endDates)\n",
        "plt.title('Maize Crop Phenology Period - ' + str(year))\n",
        "plt.xlabel('Start Date')\n",
        "plt.ylabel('End Date')\n",
        "plt.show()\n",
        "\n",
        "# Export phenology dates to a CSV file\n",
        "csv_data = [['start', 'end']]\n",
        "for i in range(len(startDates)):\n",
        "    csv_data.append([startDates[i], endDates[i]])\n",
        "\n",
        "filename = 'Phenology_Dates_' + str(year) + '.csv'\n",
        "with open(filename, 'w', newline='') as csvfile:\n",
        "    writer = csv.writer(csvfile)\n",
        "    writer.writerows(csv_data)\n",
        "\n",
        "print('CSV file exported successfully.')\n"
      ],
      "metadata": {
        "id": "BqLJXW4D4-rp",
        "colab": {
          "base_uri": "https://localhost:8080/",
          "height": 490
        },
        "outputId": "98bba113-0683-44e6-e7d3-87b61a1de964"
      },
      "execution_count": 23,
      "outputs": [
        {
          "output_type": "display_data",
          "data": {
            "text/plain": [
              "<Figure size 640x480 with 1 Axes>"
            ],
            "image/png": "[encoded data removed]"
          },
          "metadata": {}
        },
        {
          "output_type": "stream",
          "name": "stdout",
          "text": [
            "CSV file exported successfully.\n"
          ]
        }
      ]
    },
    {
      "cell_type": "markdown",
      "source": [
        "## Datasets\n",
        "- Load all the required dataset in this section.\n"
      ],
      "metadata": {
        "id": "x3f0n8d_rxYv"
      }
    },
    {
      "cell_type": "code",
      "source": [
        "#"
      ],
      "metadata": {
        "id": "k7uISp_XsV0X"
      },
      "execution_count": 24,
      "outputs": []
    },
    {
      "cell_type": "markdown",
      "source": [
        "## Batch Export\n",
        "- Create a function that will enhance batch export of any output required."
      ],
      "metadata": {
        "id": "Ln7aMpXjd5wx"
      }
    },
    {
      "cell_type": "code",
      "source": [
        "#check end-to-end course solution to export bulk images."
      ],
      "metadata": {
        "id": "FOcKcciDeQi6"
      },
      "execution_count": 25,
      "outputs": []
    }
  ],
  "metadata": {
    "kernelspec": {
      "display_name": "Python 3",
      "language": "python",
      "name": "python3"
    },
    "language_info": {
      "codemirror_mode": {
        "name": "ipython",
        "version": 3
      },
      "file_extension": ".py",
      "mimetype": "text/x-python",
      "name": "python",
      "nbconvert_exporter": "python",
      "pygments_lexer": "ipython3",
      "version": "3.10.8"
    },
    "orig_nbformat": 4,
    "colab": {
      "provenance": [],
      "toc_visible": true,
      "collapsed_sections": [
        "Ln7aMpXjd5wx"
      ],
      "include_colab_link": true
    }
  },
  "nbformat": 4,
  "nbformat_minor": 0
}