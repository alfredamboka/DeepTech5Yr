{
  "cells": [
    {
      "cell_type": "markdown",
      "metadata": {
        "id": "view-in-github",
        "colab_type": "text"
      },
      "source": [
        "<a href=\"https://colab.research.google.com/github/alfredamboka/DeepTech5Yr/blob/main/CropTypeClassification.ipynb\" target=\"_parent\"><img src=\"https://colab.research.google.com/assets/colab-badge.svg\" alt=\"Open In Colab\"/></a>"
      ]
    },
    {
      "cell_type": "markdown",
      "id": "87ac999c-2105-4872-afb5-273db8928e79",
      "metadata": {
        "tags": [],
        "id": "87ac999c-2105-4872-afb5-273db8928e79"
      },
      "source": [
        "# Project Title: Machine Learning Algorithms based Crop Type Mapping in North-Western part of Bangladesh using Google Earth Engine (GEE) and Python\n",
        "## Group-3 Members:\n",
        "1. Shakhawat Hossain, Research Assistant, ASICT Division, BARI.\n",
        "2. Suman Biswas, Scientific Officer, ASICT Division, BARI.\n",
        "3. Dr. Md. Golam Mahboob, Principal Scientific Officer, Forestry Unit, BARC."
      ]
    },
    {
      "cell_type": "markdown",
      "id": "84fd9e10-add8-4c00-8e56-2bb768bfcca2",
      "metadata": {
        "id": "84fd9e10-add8-4c00-8e56-2bb768bfcca2"
      },
      "source": [
        "## Introduction"
      ]
    },
    {
      "cell_type": "markdown",
      "id": "0e6eb009-7159-4d46-967d-9a70d5118dde",
      "metadata": {
        "id": "0e6eb009-7159-4d46-967d-9a70d5118dde"
      },
      "source": [
        "### Background\n",
        " Precise crop type maps are crucial for monitoring cropping patterns, sustainable use of available natural resources and estimating harvests. Manual digitization and labeling—the usual method of creating crop type maps— is mostly time consuming, expensive and even prone to human errors. The Machine learning algorithms have been evolved as cost-effective alternatives for classifying crop varieties using satellite imageries in recent times. Coping with the recent advances, the machine learning algorithms will be deployed in this study to classify 6 crop types of north-western part (Godagari Upazila of Rajshahi district) in Bangladesh from Sentinel-2 imagery. Four machine learning algorithms (Random Forest, Artificial Neural Network, KNN and Support Vector Machine) will be investigated for mapping the crop types accurately.\n",
        "\n",
        "### Objectives\n",
        "1. To asses schematic approach for crop type classification\n",
        "2. To identify an optimal Machine Learning algorithm for 6 major Crop types in the north-western part of Bangladesh (Godagari Upazila of Rajshahi District).\n",
        "3. To map crop types using Machine Learning algorithm."
      ]
    },
    {
      "cell_type": "markdown",
      "id": "5e5da2cf-b981-49b9-876a-9f070f22d8bb",
      "metadata": {
        "id": "5e5da2cf-b981-49b9-876a-9f070f22d8bb"
      },
      "source": [
        "## Methodology"
      ]
    },
    {
      "cell_type": "markdown",
      "id": "a6eff9e1-269a-4929-9f17-f2e4a5f0b2b1",
      "metadata": {
        "id": "a6eff9e1-269a-4929-9f17-f2e4a5f0b2b1"
      },
      "source": [
        "### Dataset\n",
        "In this study, Sentinel-2 satellite data has been used. 15 images were available from October 2020 to March 2021 with a cloud coverage of less than or equal to five percent covering the study area. The details of the available images are as follows: imegery dates for October (20201016, single image), November (20201105, 20201110, 20201115, 20201125, 20201130, 5 images), December (20201230, single image), January (20210109, single image), February (20210203, 20210208, 20210218, 20210223, 20210228, 5 images), March (20210305, 20210315, 2 images). We also have 577 ground truth points (GTPs) which have been collected by field visits from 22 February to 9 March 2021 which have been used as well. These GTPs include samples for all 7 crop types (Rice-175, Wheat-45, Potato-44, Maize-86, Mustard-23, Lentil-46, and Others-158) which we wanted to classify in this project."
      ]
    },
    {
      "cell_type": "markdown",
      "id": "699dde23-2337-486e-826f-6fd6195d0bcb",
      "metadata": {
        "id": "699dde23-2337-486e-826f-6fd6195d0bcb"
      },
      "source": [
        "### Method\n",
        "In this study, GEE has been used to complete the task along with python API. The median image has been calculated for the study period during Oct-Mar. Median band reflectivity and vegetation indices (NDVI & EVI) for the total composite has been assessed here as well.\n",
        "Four experimental schemes:\n",
        "1. VIS bands;\n",
        "2. VIS bands + NIR;\n",
        "3. VIS bands + VI Indices;\n",
        "4. VIS bands + NIR + VI Indices\n",
        "<br> have been tested using RF, ANN (MPL), SVM , XGBoosting and KNN machine learning algorithms. Finally, the model results have been evaluated using Accuracy Assessment and F-score indices. The best algorithm then has been used to classify final crop type map of the study area."
      ]
    },
    {
      "cell_type": "code",
      "execution_count": null,
      "id": "e0d45901-e2e3-45e5-b1f9-4192f4199003",
      "metadata": {
        "id": "e0d45901-e2e3-45e5-b1f9-4192f4199003"
      },
      "outputs": [],
      "source": [
        "# from IPython.display import Image\n",
        "# print('Figure 1: Methodology Flowchart')\n",
        "# Image(filename = \"/data/private/Phase 3/Project/Method.JPG\", height=600, width=600)"
      ]
    },
    {
      "cell_type": "markdown",
      "id": "87703f1a-6eb5-4625-a42d-1d2b4510498b",
      "metadata": {
        "id": "87703f1a-6eb5-4625-a42d-1d2b4510498b"
      },
      "source": [
        "### Data Pre-processing"
      ]
    },
    {
      "cell_type": "markdown",
      "id": "dbe9e43e-cb37-4478-892e-2b8c054d36c7",
      "metadata": {
        "id": "dbe9e43e-cb37-4478-892e-2b8c054d36c7"
      },
      "source": [
        "#### Sentinel-2 Data Preprocessing:\n",
        "All the available 15 Sentinel-2 images have been used to derive a single band Median image for the six months during the study period (Oct. 2020-Mar. 2021). Here Sentinel-2 images have been processed using Google Earth Engine API, ee and geemap libraries. Using the Study area shapefile the respective median image has been derived, used and analyzed for further processing."
      ]
    },
    {
      "cell_type": "markdown",
      "id": "0f52fd49-82a1-45b4-9673-1c3123343172",
      "metadata": {
        "id": "0f52fd49-82a1-45b4-9673-1c3123343172"
      },
      "source": [
        "##### Installation of geemap\n",
        "geemap is a Python package for interactive mapping with Google Earth Engine, ipyleaflet, and ipywidgets, which is a cloud computing platform with a multi-petabyte catalog of satellite imagery and geospatial datasets. geemap is intended for students and researchers, who would like to utilize the Python ecosystem of diverse libraries and tools to explore Google Earth Engine. It is also designed for existing GEE users who would like to transition from the GEE JavaScript API to Python API. The automated JavaScript-to-Python conversion module of the geemap package can greatly reduce the time needed to convert existing GEE JavaScripts to Python scripts and Jupyter notebooks.\n",
        "\n",
        "For more details: https://geemap.org/"
      ]
    },
    {
      "cell_type": "code",
      "execution_count": null,
      "id": "f9a48a48-b488-4ad1-bf2d-4295ba2c636d",
      "metadata": {
        "id": "f9a48a48-b488-4ad1-bf2d-4295ba2c636d"
      },
      "outputs": [],
      "source": [
        "import ee\n",
        "# ee.Authenticate()\n",
        "# ee.Initialize()"
      ]
    },
    {
      "cell_type": "markdown",
      "id": "406324da-35b4-4564-88bb-41beb6baf54d",
      "metadata": {
        "id": "406324da-35b4-4564-88bb-41beb6baf54d"
      },
      "source": [
        "##### Initialize the Earth Engine library"
      ]
    },
    {
      "cell_type": "code",
      "execution_count": null,
      "id": "1cd94a61-fab5-4e67-a9a8-f9a6bed7ceda",
      "metadata": {
        "id": "1cd94a61-fab5-4e67-a9a8-f9a6bed7ceda"
      },
      "outputs": [],
      "source": [
        "# try:\n",
        "#   ee.Initialize()\n",
        "#   print('Google Earth Engine has initialized successfully!')\n",
        "# except ee.EEException as e:\n",
        "#   print('Google Earth Engine has failed to initialize!')\n",
        "# except:\n",
        "#     print(\"Unexpected error:\", sys.exc_info()[0])\n",
        "#     raise"
      ]
    },
    {
      "cell_type": "markdown",
      "id": "4ebc3307-2058-44f7-a0fa-ec84113916a8",
      "metadata": {
        "id": "4ebc3307-2058-44f7-a0fa-ec84113916a8"
      },
      "source": [
        "##### Creating an interactive map"
      ]
    },
    {
      "cell_type": "code",
      "source": [
        "try:\n",
        "    import geemap\n",
        "except ModuleNotFoundError:\n",
        "    if 'google.colab' in str(get_ipython()):\n",
        "        print('geemap not found, installing via pip in Google Colab...')\n",
        "        !pip install geemap --quiet\n",
        "        import geemap\n",
        "    else:\n",
        "        print('geemap not found, please install via conda in your environment')"
      ],
      "metadata": {
        "id": "tpCBqJpBklue"
      },
      "id": "tpCBqJpBklue",
      "execution_count": null,
      "outputs": []
    },
    {
      "cell_type": "code",
      "execution_count": null,
      "id": "200d440f-0e25-40f3-a56b-b893d1587878",
      "metadata": {
        "colab": {
          "base_uri": "https://localhost:8080/",
          "height": 621,
          "referenced_widgets": [
            "3d1b43f4d96f48f19d0299f510d736a4",
            "9de1c8da38974a86878910ffce113ff1",
            "48a900979c404b6fa891282ece4ed624",
            "d59e079654ee474e890bbc76d513cab4",
            "18a686882aa34b2abbe28b0804cafd3c",
            "019724ea734f4b788668515f99baa1c3",
            "94f527f3c427424fa60849d1722bc765",
            "5921c15a7dd046f0b71e30d19a417b41",
            "b7431713c7b04d708261f661930a7c59",
            "35b9ca7f31984a6195060c27a9d6908c",
            "7f24e87e99fa4e5a8b1f5671ad476aae",
            "355d06c50f5d4c689b50e1b12523510f",
            "c2cbed508cb14c6381d9d8caa31fb01f",
            "fd095ae7701d439ab0e505826561dfbe",
            "d56c70fbc37d41baaf446f680186a077",
            "a785d9b663c7474fa60c5d601d01afd2",
            "18d4f5749b434ab1a4912b7db4d67ff6",
            "b897e07eba9a453aa9e67ca2d0851aca",
            "68f600bee5fd45799d44b710c4487d36",
            "6f70c2c5f85349dfaca9f35a3f477286",
            "5b2b8ddd49d3497982cd5b63656e8684",
            "ebe15390c9e5448d94be33b8ea370fca",
            "adc17eb20292495da8333109935a48dc",
            "f7d415971f38433399cde09e8c080a22",
            "f1a983cb3c57424fa4e54ac2c1a5167b",
            "ffdd663cb833498688d1e3ebfd1a319b",
            "a786e91e5fb541c1ab695ae7ea34cdfe"
          ]
        },
        "id": "200d440f-0e25-40f3-a56b-b893d1587878",
        "outputId": "329f9a5f-33c5-446c-fa0f-8e73301c6a71"
      },
      "outputs": [
        {
          "output_type": "display_data",
          "data": {
            "text/plain": [
              "Map(center=[24.478, 88.43], controls=(WidgetControl(options=['position', 'transparent_bg'], widget=HBox(childr…"
            ],
            "application/vnd.jupyter.widget-view+json": {
              "version_major": 2,
              "version_minor": 0,
              "model_id": "3d1b43f4d96f48f19d0299f510d736a4"
            }
          },
          "metadata": {
            "application/vnd.jupyter.widget-view+json": {
              "colab": {
                "custom_widget_manager": {
                  "url": "https://ssl.gstatic.com/colaboratory-static/widgets/colab-cdn-widget-manager/b3e629b1971e1542/manager.min.js"
                }
              }
            }
          }
        }
      ],
      "source": [
        "Map = geemap.Map(center=(24.478, 88.43), zoom=11)\n",
        "Map"
      ]
    },
    {
      "cell_type": "markdown",
      "id": "5b6dd86a-8610-4a0c-addb-ed547396ec58",
      "metadata": {
        "id": "5b6dd86a-8610-4a0c-addb-ed547396ec58"
      },
      "source": [
        "##### Add Study area shapefile from your directory"
      ]
    },
    {
      "cell_type": "code",
      "execution_count": null,
      "id": "f67b558a-c25d-408d-b5eb-2de17c262cb0",
      "metadata": {
        "id": "f67b558a-c25d-408d-b5eb-2de17c262cb0"
      },
      "outputs": [],
      "source": [
        "roi = ee.FeatureCollection(\"users/shohelovro/CropTypePaper/Godagari_Upazila\")\n",
        "# roi = ee.FeatureCollection(\"projects/project5yr/assets/BuraStudyArea\")\n",
        "aoi = roi.geometry()       # Convert Feature Collecion to Geometry as String"
      ]
    },
    {
      "cell_type": "markdown",
      "id": "c890e592-d3d0-4547-8b6c-97f760cb399a",
      "metadata": {
        "id": "c890e592-d3d0-4547-8b6c-97f760cb399a"
      },
      "source": [
        "##### Add Earth Engine data and filter as per need"
      ]
    },
    {
      "cell_type": "code",
      "execution_count": null,
      "id": "2b0828e7-e5de-4c3e-b7ea-114ac9dd9d73",
      "metadata": {
        "id": "2b0828e7-e5de-4c3e-b7ea-114ac9dd9d73"
      },
      "outputs": [],
      "source": [
        "# Monthly dataset collection\n",
        "dataset = ee.ImageCollection(\"COPERNICUS/S2_SR\")\\\n",
        "            .filterDate('2020-10-01', '2021-03-31')\\\n",
        "            .filterBounds(roi)\\\n",
        "            .filter('CLOUDY_PIXEL_PERCENTAGE <= 5')"
      ]
    },
    {
      "cell_type": "markdown",
      "id": "1d34c14f-7430-484f-8ffe-60e51ac36c62",
      "metadata": {
        "tags": [],
        "id": "1d34c14f-7430-484f-8ffe-60e51ac36c62"
      },
      "source": [
        "##### Check the Image List"
      ]
    },
    {
      "cell_type": "code",
      "execution_count": null,
      "id": "81937d44-bdff-4d8c-9363-4b82db6aec8f",
      "metadata": {
        "tags": [],
        "colab": {
          "base_uri": "https://localhost:8080/"
        },
        "id": "81937d44-bdff-4d8c-9363-4b82db6aec8f",
        "outputId": "020d7b42-ca50-4599-9961-b8218eed9f80"
      },
      "outputs": [
        {
          "output_type": "stream",
          "name": "stdout",
          "text": [
            "Number of images in the collection:  33\n"
          ]
        },
        {
          "output_type": "execute_result",
          "data": {
            "text/plain": [
              "['20201016T043801_20201016T044709_T45RXH',\n",
              " '20201105T044001_20201105T044932_T45QXG',\n",
              " '20201105T044001_20201105T044932_T45RXH',\n",
              " '20201110T044019_20201110T044603_T45QXG',\n",
              " '20201110T044019_20201110T044603_T45RXH',\n",
              " '20201115T044051_20201115T044045_T45QXG',\n",
              " '20201115T044051_20201115T044045_T45RXH',\n",
              " '20201125T044121_20201125T044124_T45RXH',\n",
              " '20201130T044139_20201130T044138_T45QXG',\n",
              " '20201130T044139_20201130T044138_T45RXH',\n",
              " '20201215T044211_20201215T044207_T45QXG',\n",
              " '20201220T044209_20201220T044209_T45QXG',\n",
              " '20201230T044209_20201230T044924_T45QXG',\n",
              " '20201230T044209_20201230T044924_T45RXH',\n",
              " '20210109T044149_20210109T044908_T45QXG',\n",
              " '20210109T044149_20210109T044908_T45RXH',\n",
              " '20210203T044011_20210203T045035_T45QXG',\n",
              " '20210203T044011_20210203T045035_T45RXH',\n",
              " '20210208T043939_20210208T044440_T45QXG',\n",
              " '20210208T043939_20210208T044440_T45RXH',\n",
              " '20210218T043829_20210218T044429_T45QXG',\n",
              " '20210218T043829_20210218T044429_T45RXH',\n",
              " '20210223T043801_20210223T044723_T45QXG',\n",
              " '20210223T043801_20210223T044723_T45RXH',\n",
              " '20210228T043729_20210228T045110_T45QXG',\n",
              " '20210228T043729_20210228T045110_T45RXH',\n",
              " '20210305T043701_20210305T044333_T45QXG',\n",
              " '20210305T043701_20210305T044333_T45RXH',\n",
              " '20210315T043701_20210315T044445_T45QXG',\n",
              " '20210315T043701_20210315T044445_T45RXH',\n",
              " '20210320T043659_20210320T044941_T45QXG',\n",
              " '20210325T043701_20210325T044444_T45QXG',\n",
              " '20210330T043659_20210330T044035_T45QXG']"
            ]
          },
          "metadata": {},
          "execution_count": 25
        }
      ],
      "source": [
        "listOfImages = dataset.aggregate_array('system:index').getInfo()\n",
        "print('Number of images in the collection: ', len(listOfImages))\n",
        "\n",
        "listOfImages"
      ]
    },
    {
      "cell_type": "markdown",
      "id": "b245aeab-3298-4a06-9f83-d9513d24e241",
      "metadata": {
        "id": "b245aeab-3298-4a06-9f83-d9513d24e241"
      },
      "source": [
        "##### Set visualization parameters"
      ]
    },
    {
      "cell_type": "code",
      "execution_count": null,
      "id": "76e60b94-0b5c-4dcc-8abf-05e6be538e42",
      "metadata": {
        "id": "76e60b94-0b5c-4dcc-8abf-05e6be538e42"
      },
      "outputs": [],
      "source": [
        "rgb_vis = {'min':0, 'max':3000, 'bands':['B4','B3','B2']}\n",
        "ndvi_colorizedVis = {\"min\":0,\"max\":1,\"palette\":[\"FFFFFF\",\"CE7E45\",\"DF923D\", \\\n",
        "                    \"F1B555\",\"FCD163\",\"99B718\",\"74A901\",\"66A000\",\"529400\",\"3E8601\",\\\n",
        "                    \"207401\",\"056201\",\"004C00\",\"023B01\",\"012E01\",\"011D01\",\"011301\"]}"
      ]
    },
    {
      "cell_type": "markdown",
      "id": "a1c078d6-ebf2-450b-ab91-aad292987111",
      "metadata": {
        "id": "a1c078d6-ebf2-450b-ab91-aad292987111"
      },
      "source": [
        "### Oct-Mar Median Image Calculation"
      ]
    },
    {
      "cell_type": "code",
      "execution_count": null,
      "id": "fb70a361-7c14-4f20-9f3b-4312d5ac3669",
      "metadata": {
        "id": "fb70a361-7c14-4f20-9f3b-4312d5ac3669"
      },
      "outputs": [],
      "source": [
        "oct_mar_med = dataset.median().select('B2','B3','B4','B8','B5','B6','B7','B8A','B11','B12').clip(roi)"
      ]
    },
    {
      "cell_type": "markdown",
      "id": "dd15e67b-4870-4ffa-9462-51dcb008ad9a",
      "metadata": {
        "id": "dd15e67b-4870-4ffa-9462-51dcb008ad9a"
      },
      "source": [
        "##### Visualizing median image (optional)"
      ]
    },
    {
      "cell_type": "markdown",
      "id": "9a36e9ae-22f1-4eff-bc72-ae51b8faf2e8",
      "metadata": {
        "id": "9a36e9ae-22f1-4eff-bc72-ae51b8faf2e8"
      },
      "source": [
        "### Reflectance Band Calculation\n",
        "Convert band values to reflectance values"
      ]
    },
    {
      "cell_type": "code",
      "execution_count": null,
      "id": "22ad8875-51e7-4aa4-bc5f-8ef8dadf7607",
      "metadata": {
        "id": "22ad8875-51e7-4aa4-bc5f-8ef8dadf7607"
      },
      "outputs": [],
      "source": [
        "oct_mar_ref = oct_mar_med.divide(10000)"
      ]
    },
    {
      "cell_type": "markdown",
      "id": "e0d36b72-a67d-4b5b-88dc-d3b86031591e",
      "metadata": {
        "id": "e0d36b72-a67d-4b5b-88dc-d3b86031591e"
      },
      "source": [
        "### Indices Calculation"
      ]
    },
    {
      "cell_type": "markdown",
      "id": "3baf0415-9c9e-4861-9ee1-887d110f9b69",
      "metadata": {
        "id": "3baf0415-9c9e-4861-9ee1-887d110f9b69"
      },
      "source": [
        "##### NDVI Calculation"
      ]
    },
    {
      "cell_type": "code",
      "execution_count": null,
      "id": "8ab50a8c-ed31-4264-ad5c-823890b98f1f",
      "metadata": {
        "id": "8ab50a8c-ed31-4264-ad5c-823890b98f1f"
      },
      "outputs": [],
      "source": [
        "oct_mar_ndvi = oct_mar_med.normalizedDifference(['B8', 'B4']).rename('ndvi').toDouble()"
      ]
    },
    {
      "cell_type": "markdown",
      "id": "323c8134-0450-4a64-bd59-62906f6222d8",
      "metadata": {
        "id": "323c8134-0450-4a64-bd59-62906f6222d8"
      },
      "source": [
        "##### EVI Calculation"
      ]
    },
    {
      "cell_type": "code",
      "execution_count": null,
      "id": "8d5d71fa-9bfc-44ed-9204-67f6295ae3d3",
      "metadata": {
        "id": "8d5d71fa-9bfc-44ed-9204-67f6295ae3d3"
      },
      "outputs": [],
      "source": [
        "oct_mar_evi = oct_mar_med.expression('2.5*((NIR-R)/(NIR+6*R+1-7.5*B))',{\n",
        "                                        'NIR':oct_mar_med.select('B8'),\n",
        "                                        'R':oct_mar_med.select('B4'),\n",
        "                                        'B':oct_mar_med.select('B2')}) \\\n",
        "                                        .rename('evi')"
      ]
    },
    {
      "cell_type": "markdown",
      "id": "0d51b238-eeae-4d36-9aaf-9354e94c8803",
      "metadata": {
        "id": "0d51b238-eeae-4d36-9aaf-9354e94c8803"
      },
      "source": [
        "### Final Composite Layer Derivation"
      ]
    },
    {
      "cell_type": "code",
      "execution_count": null,
      "id": "83817544-e97b-47bc-bb1c-8aa850876d80",
      "metadata": {
        "id": "83817544-e97b-47bc-bb1c-8aa850876d80"
      },
      "outputs": [],
      "source": [
        "oct_mar_comp = oct_mar_ref.addBands(oct_mar_ndvi).addBands(oct_mar_evi)"
      ]
    },
    {
      "cell_type": "markdown",
      "id": "c78e2592-6969-4ddf-bea6-868774d639ad",
      "metadata": {
        "id": "c78e2592-6969-4ddf-bea6-868774d639ad"
      },
      "source": [
        "##### Output Investigation"
      ]
    },
    {
      "cell_type": "code",
      "execution_count": null,
      "id": "f63234ae-b1ed-4151-a500-31fcf56f6edb",
      "metadata": {
        "colab": {
          "base_uri": "https://localhost:8080/"
        },
        "id": "f63234ae-b1ed-4151-a500-31fcf56f6edb",
        "outputId": "5eb1b136-6dd9-40f0-91fe-84b675709cfb"
      },
      "outputs": [
        {
          "output_type": "stream",
          "name": "stdout",
          "text": [
            "Band Names:  ['B2', 'B3', 'B4', 'B8', 'B5', 'B6', 'B7', 'B8A', 'B11', 'B12', 'ndvi', 'evi']\n"
          ]
        }
      ],
      "source": [
        "# Get information about the bands as a list.\n",
        "bandNames = oct_mar_comp.bandNames()\n",
        "print('Band Names: ', bandNames.getInfo()) # ee.List of band names"
      ]
    },
    {
      "cell_type": "code",
      "execution_count": null,
      "id": "23cd6310-5b9b-4973-802d-0eb3fb3ac2b9",
      "metadata": {
        "colab": {
          "base_uri": "https://localhost:8080/"
        },
        "id": "23cd6310-5b9b-4973-802d-0eb3fb3ac2b9",
        "outputId": "12c70591-1e0d-4ba0-8019-382418527231"
      },
      "outputs": [
        {
          "output_type": "stream",
          "name": "stdout",
          "text": [
            "Band 2 projection:  {'type': 'Projection', 'crs': 'EPSG:4326', 'transform': [1, 0, 0, 0, 1, 0]}\n"
          ]
        }
      ],
      "source": [
        "# Get projection information from band 1.\n",
        "b2proj = oct_mar_comp.select('B2').projection()\n",
        "print('Band 2 projection: ', b2proj.getInfo()) # ee.Projection object"
      ]
    },
    {
      "cell_type": "markdown",
      "id": "f0abd7ed-2551-46b9-a59a-6d41acb651d5",
      "metadata": {
        "id": "f0abd7ed-2551-46b9-a59a-6d41acb651d5"
      },
      "source": [
        "# Reference Data Processing and Analysis\n",
        "Reference data have been processed here in two different ways.\n",
        "Firstly, we have prepared our data outside of this environment in ArcGIS so that reference dataset can be utilized in a better way. We have clipped the composite median image using sample polygons generated from point GPS values by manual digitization based on field experiences. The clipped pixels then converted again into sample points for 10 meter scale resolution. Now, the sample points cover 40784 pixels (Rice-10950, Wheat-786, Potato-5967, Maize-2806, Mustard-208, Lentil-482, and Others-19585). Finally the processed sample point shapefile has been exported into .csv file format and analyzed below:   "
      ]
    },
    {
      "cell_type": "markdown",
      "id": "6e6b5bfd-1903-47d6-a096-d57f3d0d812e",
      "metadata": {
        "id": "6e6b5bfd-1903-47d6-a096-d57f3d0d812e"
      },
      "source": [
        "##### Read the CSV data"
      ]
    },
    {
      "cell_type": "code",
      "source": [
        "from google.colab import drive\n",
        "drive.mount('/content/drive')"
      ],
      "metadata": {
        "colab": {
          "base_uri": "https://localhost:8080/"
        },
        "id": "7unhjF3AsEa_",
        "outputId": "1b18baae-61a7-447f-cdd6-0ba036eedd85"
      },
      "id": "7unhjF3AsEa_",
      "execution_count": null,
      "outputs": [
        {
          "output_type": "stream",
          "name": "stdout",
          "text": [
            "Mounted at /content/drive\n"
          ]
        }
      ]
    },
    {
      "cell_type": "code",
      "execution_count": null,
      "id": "b000f0db-8087-4e80-b0dc-eaa0f1cd3468",
      "metadata": {
        "colab": {
          "base_uri": "https://localhost:8080/",
          "height": 270
        },
        "id": "b000f0db-8087-4e80-b0dc-eaa0f1cd3468",
        "outputId": "647e97b0-55f6-423a-c070-6d746c565b69"
      },
      "outputs": [
        {
          "output_type": "execute_result",
          "data": {
            "text/plain": [
              "   FID  pointid  grid_code  Type  Value      B2      B3      B4      B8  \\\n",
              "0    0      312    0.08075  Rice      1  0.0666  0.0850  0.0897  0.1554   \n",
              "1    1      313    0.08070  Rice      1  0.0660  0.0830  0.0915  0.1724   \n",
              "2    2      314    0.08075  Rice      1  0.0662  0.0852  0.0902  0.1665   \n",
              "3    3      315    0.08085  Rice      1  0.0672  0.0851  0.0910  0.1681   \n",
              "4    4      316    0.08145  Rice      1  0.0653  0.0865  0.0926  0.1654   \n",
              "\n",
              "       B5      B6      B7     B8A     B11     B12      NDVI       EVI  \n",
              "0  0.1125  0.1356  0.1504  0.1682  0.1599  0.0896  0.268054  0.845778  \n",
              "1  0.1120  0.1379  0.1514  0.1694  0.1616  0.0926  0.306556  0.892936  \n",
              "2  0.1120  0.1379  0.1514  0.1694  0.1616  0.0926  0.297234  0.902745  \n",
              "3  0.1125  0.1356  0.1504  0.1682  0.1599  0.0896  0.297569  0.916984  \n",
              "4  0.1125  0.1356  0.1504  0.1682  0.1599  0.0896  0.282171  0.786687  "
            ],
            "text/html": [
              "\n",
              "\n",
              "  <div id=\"df-366bb5c4-9828-4f51-ba40-460b8718fad3\">\n",
              "    <div class=\"colab-df-container\">\n",
              "      <div>\n",
              "<style scoped>\n",
              "    .dataframe tbody tr th:only-of-type {\n",
              "        vertical-align: middle;\n",
              "    }\n",
              "\n",
              "    .dataframe tbody tr th {\n",
              "        vertical-align: top;\n",
              "    }\n",
              "\n",
              "    .dataframe thead th {\n",
              "        text-align: right;\n",
              "    }\n",
              "</style>\n",
              "<table border=\"1\" class=\"dataframe\">\n",
              "  <thead>\n",
              "    <tr style=\"text-align: right;\">\n",
              "      <th></th>\n",
              "      <th>FID</th>\n",
              "      <th>pointid</th>\n",
              "      <th>grid_code</th>\n",
              "      <th>Type</th>\n",
              "      <th>Value</th>\n",
              "      <th>B2</th>\n",
              "      <th>B3</th>\n",
              "      <th>B4</th>\n",
              "      <th>B8</th>\n",
              "      <th>B5</th>\n",
              "      <th>B6</th>\n",
              "      <th>B7</th>\n",
              "      <th>B8A</th>\n",
              "      <th>B11</th>\n",
              "      <th>B12</th>\n",
              "      <th>NDVI</th>\n",
              "      <th>EVI</th>\n",
              "    </tr>\n",
              "  </thead>\n",
              "  <tbody>\n",
              "    <tr>\n",
              "      <th>0</th>\n",
              "      <td>0</td>\n",
              "      <td>312</td>\n",
              "      <td>0.08075</td>\n",
              "      <td>Rice</td>\n",
              "      <td>1</td>\n",
              "      <td>0.0666</td>\n",
              "      <td>0.0850</td>\n",
              "      <td>0.0897</td>\n",
              "      <td>0.1554</td>\n",
              "      <td>0.1125</td>\n",
              "      <td>0.1356</td>\n",
              "      <td>0.1504</td>\n",
              "      <td>0.1682</td>\n",
              "      <td>0.1599</td>\n",
              "      <td>0.0896</td>\n",
              "      <td>0.268054</td>\n",
              "      <td>0.845778</td>\n",
              "    </tr>\n",
              "    <tr>\n",
              "      <th>1</th>\n",
              "      <td>1</td>\n",
              "      <td>313</td>\n",
              "      <td>0.08070</td>\n",
              "      <td>Rice</td>\n",
              "      <td>1</td>\n",
              "      <td>0.0660</td>\n",
              "      <td>0.0830</td>\n",
              "      <td>0.0915</td>\n",
              "      <td>0.1724</td>\n",
              "      <td>0.1120</td>\n",
              "      <td>0.1379</td>\n",
              "      <td>0.1514</td>\n",
              "      <td>0.1694</td>\n",
              "      <td>0.1616</td>\n",
              "      <td>0.0926</td>\n",
              "      <td>0.306556</td>\n",
              "      <td>0.892936</td>\n",
              "    </tr>\n",
              "    <tr>\n",
              "      <th>2</th>\n",
              "      <td>2</td>\n",
              "      <td>314</td>\n",
              "      <td>0.08075</td>\n",
              "      <td>Rice</td>\n",
              "      <td>1</td>\n",
              "      <td>0.0662</td>\n",
              "      <td>0.0852</td>\n",
              "      <td>0.0902</td>\n",
              "      <td>0.1665</td>\n",
              "      <td>0.1120</td>\n",
              "      <td>0.1379</td>\n",
              "      <td>0.1514</td>\n",
              "      <td>0.1694</td>\n",
              "      <td>0.1616</td>\n",
              "      <td>0.0926</td>\n",
              "      <td>0.297234</td>\n",
              "      <td>0.902745</td>\n",
              "    </tr>\n",
              "    <tr>\n",
              "      <th>3</th>\n",
              "      <td>3</td>\n",
              "      <td>315</td>\n",
              "      <td>0.08085</td>\n",
              "      <td>Rice</td>\n",
              "      <td>1</td>\n",
              "      <td>0.0672</td>\n",
              "      <td>0.0851</td>\n",
              "      <td>0.0910</td>\n",
              "      <td>0.1681</td>\n",
              "      <td>0.1125</td>\n",
              "      <td>0.1356</td>\n",
              "      <td>0.1504</td>\n",
              "      <td>0.1682</td>\n",
              "      <td>0.1599</td>\n",
              "      <td>0.0896</td>\n",
              "      <td>0.297569</td>\n",
              "      <td>0.916984</td>\n",
              "    </tr>\n",
              "    <tr>\n",
              "      <th>4</th>\n",
              "      <td>4</td>\n",
              "      <td>316</td>\n",
              "      <td>0.08145</td>\n",
              "      <td>Rice</td>\n",
              "      <td>1</td>\n",
              "      <td>0.0653</td>\n",
              "      <td>0.0865</td>\n",
              "      <td>0.0926</td>\n",
              "      <td>0.1654</td>\n",
              "      <td>0.1125</td>\n",
              "      <td>0.1356</td>\n",
              "      <td>0.1504</td>\n",
              "      <td>0.1682</td>\n",
              "      <td>0.1599</td>\n",
              "      <td>0.0896</td>\n",
              "      <td>0.282171</td>\n",
              "      <td>0.786687</td>\n",
              "    </tr>\n",
              "  </tbody>\n",
              "</table>\n",
              "</div>\n",
              "      <button class=\"colab-df-convert\" onclick=\"convertToInteractive('df-366bb5c4-9828-4f51-ba40-460b8718fad3')\"\n",
              "              title=\"Convert this dataframe to an interactive table.\"\n",
              "              style=\"display:none;\">\n",
              "\n",
              "  <svg xmlns=\"http://www.w3.org/2000/svg\" height=\"24px\"viewBox=\"0 0 24 24\"\n",
              "       width=\"24px\">\n",
              "    <path d=\"M0 0h24v24H0V0z\" fill=\"none\"/>\n",
              "    <path d=\"M18.56 5.44l.94 2.06.94-2.06 2.06-.94-2.06-.94-.94-2.06-.94 2.06-2.06.94zm-11 1L8.5 8.5l.94-2.06 2.06-.94-2.06-.94L8.5 2.5l-.94 2.06-2.06.94zm10 10l.94 2.06.94-2.06 2.06-.94-2.06-.94-.94-2.06-.94 2.06-2.06.94z\"/><path d=\"M17.41 7.96l-1.37-1.37c-.4-.4-.92-.59-1.43-.59-.52 0-1.04.2-1.43.59L10.3 9.45l-7.72 7.72c-.78.78-.78 2.05 0 2.83L4 21.41c.39.39.9.59 1.41.59.51 0 1.02-.2 1.41-.59l7.78-7.78 2.81-2.81c.8-.78.8-2.07 0-2.86zM5.41 20L4 18.59l7.72-7.72 1.47 1.35L5.41 20z\"/>\n",
              "  </svg>\n",
              "      </button>\n",
              "\n",
              "\n",
              "\n",
              "    <div id=\"df-096f50c5-81bd-4c86-bff5-fb5b76154808\">\n",
              "      <button class=\"colab-df-quickchart\" onclick=\"quickchart('df-096f50c5-81bd-4c86-bff5-fb5b76154808')\"\n",
              "              title=\"Suggest charts.\"\n",
              "              style=\"display:none;\">\n",
              "\n",
              "<svg xmlns=\"http://www.w3.org/2000/svg\" height=\"24px\"viewBox=\"0 0 24 24\"\n",
              "     width=\"24px\">\n",
              "    <g>\n",
              "        <path d=\"M19 3H5c-1.1 0-2 .9-2 2v14c0 1.1.9 2 2 2h14c1.1 0 2-.9 2-2V5c0-1.1-.9-2-2-2zM9 17H7v-7h2v7zm4 0h-2V7h2v10zm4 0h-2v-4h2v4z\"/>\n",
              "    </g>\n",
              "</svg>\n",
              "      </button>\n",
              "    </div>\n",
              "\n",
              "<style>\n",
              "  .colab-df-quickchart {\n",
              "    background-color: #E8F0FE;\n",
              "    border: none;\n",
              "    border-radius: 50%;\n",
              "    cursor: pointer;\n",
              "    display: none;\n",
              "    fill: #1967D2;\n",
              "    height: 32px;\n",
              "    padding: 0 0 0 0;\n",
              "    width: 32px;\n",
              "  }\n",
              "\n",
              "  .colab-df-quickchart:hover {\n",
              "    background-color: #E2EBFA;\n",
              "    box-shadow: 0px 1px 2px rgba(60, 64, 67, 0.3), 0px 1px 3px 1px rgba(60, 64, 67, 0.15);\n",
              "    fill: #174EA6;\n",
              "  }\n",
              "\n",
              "  [theme=dark] .colab-df-quickchart {\n",
              "    background-color: #3B4455;\n",
              "    fill: #D2E3FC;\n",
              "  }\n",
              "\n",
              "  [theme=dark] .colab-df-quickchart:hover {\n",
              "    background-color: #434B5C;\n",
              "    box-shadow: 0px 1px 3px 1px rgba(0, 0, 0, 0.15);\n",
              "    filter: drop-shadow(0px 1px 2px rgba(0, 0, 0, 0.3));\n",
              "    fill: #FFFFFF;\n",
              "  }\n",
              "</style>\n",
              "\n",
              "    <script>\n",
              "      async function quickchart(key) {\n",
              "        const containerElement = document.querySelector('#' + key);\n",
              "        const charts = await google.colab.kernel.invokeFunction(\n",
              "            'suggestCharts', [key], {});\n",
              "      }\n",
              "    </script>\n",
              "\n",
              "      <script>\n",
              "\n",
              "function displayQuickchartButton(domScope) {\n",
              "  let quickchartButtonEl =\n",
              "    domScope.querySelector('#df-096f50c5-81bd-4c86-bff5-fb5b76154808 button.colab-df-quickchart');\n",
              "  quickchartButtonEl.style.display =\n",
              "    google.colab.kernel.accessAllowed ? 'block' : 'none';\n",
              "}\n",
              "\n",
              "        displayQuickchartButton(document);\n",
              "      </script>\n",
              "      <style>\n",
              "    .colab-df-container {\n",
              "      display:flex;\n",
              "      flex-wrap:wrap;\n",
              "      gap: 12px;\n",
              "    }\n",
              "\n",
              "    .colab-df-convert {\n",
              "      background-color: #E8F0FE;\n",
              "      border: none;\n",
              "      border-radius: 50%;\n",
              "      cursor: pointer;\n",
              "      display: none;\n",
              "      fill: #1967D2;\n",
              "      height: 32px;\n",
              "      padding: 0 0 0 0;\n",
              "      width: 32px;\n",
              "    }\n",
              "\n",
              "    .colab-df-convert:hover {\n",
              "      background-color: #E2EBFA;\n",
              "      box-shadow: 0px 1px 2px rgba(60, 64, 67, 0.3), 0px 1px 3px 1px rgba(60, 64, 67, 0.15);\n",
              "      fill: #174EA6;\n",
              "    }\n",
              "\n",
              "    [theme=dark] .colab-df-convert {\n",
              "      background-color: #3B4455;\n",
              "      fill: #D2E3FC;\n",
              "    }\n",
              "\n",
              "    [theme=dark] .colab-df-convert:hover {\n",
              "      background-color: #434B5C;\n",
              "      box-shadow: 0px 1px 3px 1px rgba(0, 0, 0, 0.15);\n",
              "      filter: drop-shadow(0px 1px 2px rgba(0, 0, 0, 0.3));\n",
              "      fill: #FFFFFF;\n",
              "    }\n",
              "  </style>\n",
              "\n",
              "      <script>\n",
              "        const buttonEl =\n",
              "          document.querySelector('#df-366bb5c4-9828-4f51-ba40-460b8718fad3 button.colab-df-convert');\n",
              "        buttonEl.style.display =\n",
              "          google.colab.kernel.accessAllowed ? 'block' : 'none';\n",
              "\n",
              "        async function convertToInteractive(key) {\n",
              "          const element = document.querySelector('#df-366bb5c4-9828-4f51-ba40-460b8718fad3');\n",
              "          const dataTable =\n",
              "            await google.colab.kernel.invokeFunction('convertToInteractive',\n",
              "                                                     [key], {});\n",
              "          if (!dataTable) return;\n",
              "\n",
              "          const docLinkHtml = 'Like what you see? Visit the ' +\n",
              "            '<a target=\"_blank\" href=https://colab.research.google.com/notebooks/data_table.ipynb>data table notebook</a>'\n",
              "            + ' to learn more about interactive tables.';\n",
              "          element.innerHTML = '';\n",
              "          dataTable['output_type'] = 'display_data';\n",
              "          await google.colab.output.renderOutput(dataTable, element);\n",
              "          const docLink = document.createElement('div');\n",
              "          docLink.innerHTML = docLinkHtml;\n",
              "          element.appendChild(docLink);\n",
              "        }\n",
              "      </script>\n",
              "    </div>\n",
              "  </div>\n"
            ]
          },
          "metadata": {},
          "execution_count": 35
        }
      ],
      "source": [
        "import geopandas as gpd\n",
        "import pandas as pd\n",
        "# Data can be downloaded here --https://drive.google.com/file/d/1tB9yQfTZm_VdMswqOiArNxUjckdAWNvH/view?usp=sharing\n",
        "path = r'/content/drive/MyDrive/Colab Notebooks/SamplePtsUpdated.csv'\n",
        "data = pd.read_csv(path)\n",
        "data.head()"
      ]
    },
    {
      "cell_type": "code",
      "execution_count": null,
      "id": "baca3dd3-cc0e-4071-bf51-2a62a3f1aa6a",
      "metadata": {
        "colab": {
          "base_uri": "https://localhost:8080/"
        },
        "id": "baca3dd3-cc0e-4071-bf51-2a62a3f1aa6a",
        "outputId": "b2542c92-a1f3-4c21-a9cb-fc15f1453027"
      },
      "outputs": [
        {
          "output_type": "stream",
          "name": "stdout",
          "text": [
            "Shape (40784, 17)\n",
            "FID            int64\n",
            "pointid        int64\n",
            "grid_code    float64\n",
            "Type          object\n",
            "Value          int64\n",
            "B2           float64\n",
            "B3           float64\n",
            "B4           float64\n",
            "B8           float64\n",
            "B5           float64\n",
            "B6           float64\n",
            "B7           float64\n",
            "B8A          float64\n",
            "B11          float64\n",
            "B12          float64\n",
            "NDVI         float64\n",
            "EVI          float64\n",
            "dtype: object\n"
          ]
        }
      ],
      "source": [
        "# Get Data info (Optional)\n",
        "print(\"Shape\",data.shape)\n",
        "print(data.dtypes)"
      ]
    },
    {
      "cell_type": "code",
      "execution_count": null,
      "id": "41f24ee2-c457-4fb4-8c5f-e35d8a3d9fa7",
      "metadata": {
        "colab": {
          "base_uri": "https://localhost:8080/"
        },
        "id": "41f24ee2-c457-4fb4-8c5f-e35d8a3d9fa7",
        "outputId": "93ca4eaf-7eeb-430e-90f6-454083f78e95"
      },
      "outputs": [
        {
          "output_type": "execute_result",
          "data": {
            "text/plain": [
              "Mustard      208\n",
              "Lentil       482\n",
              "Wheat        786\n",
              "Maize       2806\n",
              "Potato      5967\n",
              "Rice       10950\n",
              "Others     19585\n",
              "Name: Type, dtype: int64"
            ]
          },
          "metadata": {},
          "execution_count": 37
        }
      ],
      "source": [
        "#No. of observation by crop type (Class)\n",
        "data['Type'].value_counts().sort_values()"
      ]
    },
    {
      "cell_type": "markdown",
      "id": "5f7d09c4-9bce-4d43-9939-05e76b02b65d",
      "metadata": {
        "id": "5f7d09c4-9bce-4d43-9939-05e76b02b65d"
      },
      "source": [
        "### Crop specific spectral response has been analyzed below:"
      ]
    },
    {
      "cell_type": "code",
      "execution_count": null,
      "id": "9c09bff8-848f-4085-82f2-a4e599261066",
      "metadata": {
        "tags": [],
        "colab": {
          "base_uri": "https://localhost:8080/",
          "height": 363
        },
        "id": "9c09bff8-848f-4085-82f2-a4e599261066",
        "outputId": "b03e798d-ceb1-4489-9ce1-781bda64f3eb"
      },
      "outputs": [
        {
          "output_type": "execute_result",
          "data": {
            "text/plain": [
              "Type    Lentil     Maize   Mustard    Others    Potato      Rice     Wheat\n",
              "B2    0.083534  0.077572  0.079573  0.096671  0.078404  0.077699  0.066113\n",
              "B3    0.111863  0.096939  0.108807  0.125035  0.107411  0.104933  0.088976\n",
              "B4    0.124080  0.081127  0.107191  0.114570  0.096299  0.100092  0.079622\n",
              "B8    0.262024  0.260879  0.271557  0.121021  0.312261  0.231420  0.267996\n",
              "B5    0.165522  0.112621  0.160313  0.126355  0.153658  0.142223  0.123366\n",
              "B6    0.226557  0.205998  0.231341  0.116221  0.259868  0.202418  0.217591\n",
              "B7    0.249095  0.253787  0.259280  0.121744  0.300461  0.221817  0.255961\n",
              "B8A   0.269411  0.266923  0.279192  0.118926  0.327353  0.238328  0.276281\n",
              "B11   0.254620  0.170973  0.216983  0.125592  0.226354  0.179965  0.185085\n",
              "B12   0.183351  0.096306  0.141231  0.112544  0.139435  0.103225  0.112439"
            ],
            "text/html": [
              "\n",
              "\n",
              "  <div id=\"df-a10d3313-3b39-4a3e-8471-b37fdaf4e200\">\n",
              "    <div class=\"colab-df-container\">\n",
              "      <div>\n",
              "<style scoped>\n",
              "    .dataframe tbody tr th:only-of-type {\n",
              "        vertical-align: middle;\n",
              "    }\n",
              "\n",
              "    .dataframe tbody tr th {\n",
              "        vertical-align: top;\n",
              "    }\n",
              "\n",
              "    .dataframe thead th {\n",
              "        text-align: right;\n",
              "    }\n",
              "</style>\n",
              "<table border=\"1\" class=\"dataframe\">\n",
              "  <thead>\n",
              "    <tr style=\"text-align: right;\">\n",
              "      <th>Type</th>\n",
              "      <th>Lentil</th>\n",
              "      <th>Maize</th>\n",
              "      <th>Mustard</th>\n",
              "      <th>Others</th>\n",
              "      <th>Potato</th>\n",
              "      <th>Rice</th>\n",
              "      <th>Wheat</th>\n",
              "    </tr>\n",
              "  </thead>\n",
              "  <tbody>\n",
              "    <tr>\n",
              "      <th>B2</th>\n",
              "      <td>0.083534</td>\n",
              "      <td>0.077572</td>\n",
              "      <td>0.079573</td>\n",
              "      <td>0.096671</td>\n",
              "      <td>0.078404</td>\n",
              "      <td>0.077699</td>\n",
              "      <td>0.066113</td>\n",
              "    </tr>\n",
              "    <tr>\n",
              "      <th>B3</th>\n",
              "      <td>0.111863</td>\n",
              "      <td>0.096939</td>\n",
              "      <td>0.108807</td>\n",
              "      <td>0.125035</td>\n",
              "      <td>0.107411</td>\n",
              "      <td>0.104933</td>\n",
              "      <td>0.088976</td>\n",
              "    </tr>\n",
              "    <tr>\n",
              "      <th>B4</th>\n",
              "      <td>0.124080</td>\n",
              "      <td>0.081127</td>\n",
              "      <td>0.107191</td>\n",
              "      <td>0.114570</td>\n",
              "      <td>0.096299</td>\n",
              "      <td>0.100092</td>\n",
              "      <td>0.079622</td>\n",
              "    </tr>\n",
              "    <tr>\n",
              "      <th>B8</th>\n",
              "      <td>0.262024</td>\n",
              "      <td>0.260879</td>\n",
              "      <td>0.271557</td>\n",
              "      <td>0.121021</td>\n",
              "      <td>0.312261</td>\n",
              "      <td>0.231420</td>\n",
              "      <td>0.267996</td>\n",
              "    </tr>\n",
              "    <tr>\n",
              "      <th>B5</th>\n",
              "      <td>0.165522</td>\n",
              "      <td>0.112621</td>\n",
              "      <td>0.160313</td>\n",
              "      <td>0.126355</td>\n",
              "      <td>0.153658</td>\n",
              "      <td>0.142223</td>\n",
              "      <td>0.123366</td>\n",
              "    </tr>\n",
              "    <tr>\n",
              "      <th>B6</th>\n",
              "      <td>0.226557</td>\n",
              "      <td>0.205998</td>\n",
              "      <td>0.231341</td>\n",
              "      <td>0.116221</td>\n",
              "      <td>0.259868</td>\n",
              "      <td>0.202418</td>\n",
              "      <td>0.217591</td>\n",
              "    </tr>\n",
              "    <tr>\n",
              "      <th>B7</th>\n",
              "      <td>0.249095</td>\n",
              "      <td>0.253787</td>\n",
              "      <td>0.259280</td>\n",
              "      <td>0.121744</td>\n",
              "      <td>0.300461</td>\n",
              "      <td>0.221817</td>\n",
              "      <td>0.255961</td>\n",
              "    </tr>\n",
              "    <tr>\n",
              "      <th>B8A</th>\n",
              "      <td>0.269411</td>\n",
              "      <td>0.266923</td>\n",
              "      <td>0.279192</td>\n",
              "      <td>0.118926</td>\n",
              "      <td>0.327353</td>\n",
              "      <td>0.238328</td>\n",
              "      <td>0.276281</td>\n",
              "    </tr>\n",
              "    <tr>\n",
              "      <th>B11</th>\n",
              "      <td>0.254620</td>\n",
              "      <td>0.170973</td>\n",
              "      <td>0.216983</td>\n",
              "      <td>0.125592</td>\n",
              "      <td>0.226354</td>\n",
              "      <td>0.179965</td>\n",
              "      <td>0.185085</td>\n",
              "    </tr>\n",
              "    <tr>\n",
              "      <th>B12</th>\n",
              "      <td>0.183351</td>\n",
              "      <td>0.096306</td>\n",
              "      <td>0.141231</td>\n",
              "      <td>0.112544</td>\n",
              "      <td>0.139435</td>\n",
              "      <td>0.103225</td>\n",
              "      <td>0.112439</td>\n",
              "    </tr>\n",
              "  </tbody>\n",
              "</table>\n",
              "</div>\n",
              "      <button class=\"colab-df-convert\" onclick=\"convertToInteractive('df-a10d3313-3b39-4a3e-8471-b37fdaf4e200')\"\n",
              "              title=\"Convert this dataframe to an interactive table.\"\n",
              "              style=\"display:none;\">\n",
              "\n",
              "  <svg xmlns=\"http://www.w3.org/2000/svg\" height=\"24px\"viewBox=\"0 0 24 24\"\n",
              "       width=\"24px\">\n",
              "    <path d=\"M0 0h24v24H0V0z\" fill=\"none\"/>\n",
              "    <path d=\"M18.56 5.44l.94 2.06.94-2.06 2.06-.94-2.06-.94-.94-2.06-.94 2.06-2.06.94zm-11 1L8.5 8.5l.94-2.06 2.06-.94-2.06-.94L8.5 2.5l-.94 2.06-2.06.94zm10 10l.94 2.06.94-2.06 2.06-.94-2.06-.94-.94-2.06-.94 2.06-2.06.94z\"/><path d=\"M17.41 7.96l-1.37-1.37c-.4-.4-.92-.59-1.43-.59-.52 0-1.04.2-1.43.59L10.3 9.45l-7.72 7.72c-.78.78-.78 2.05 0 2.83L4 21.41c.39.39.9.59 1.41.59.51 0 1.02-.2 1.41-.59l7.78-7.78 2.81-2.81c.8-.78.8-2.07 0-2.86zM5.41 20L4 18.59l7.72-7.72 1.47 1.35L5.41 20z\"/>\n",
              "  </svg>\n",
              "      </button>\n",
              "\n",
              "\n",
              "\n",
              "    <div id=\"df-3a4d834d-5c31-4a95-8df4-55a17b486275\">\n",
              "      <button class=\"colab-df-quickchart\" onclick=\"quickchart('df-3a4d834d-5c31-4a95-8df4-55a17b486275')\"\n",
              "              title=\"Suggest charts.\"\n",
              "              style=\"display:none;\">\n",
              "\n",
              "<svg xmlns=\"http://www.w3.org/2000/svg\" height=\"24px\"viewBox=\"0 0 24 24\"\n",
              "     width=\"24px\">\n",
              "    <g>\n",
              "        <path d=\"M19 3H5c-1.1 0-2 .9-2 2v14c0 1.1.9 2 2 2h14c1.1 0 2-.9 2-2V5c0-1.1-.9-2-2-2zM9 17H7v-7h2v7zm4 0h-2V7h2v10zm4 0h-2v-4h2v4z\"/>\n",
              "    </g>\n",
              "</svg>\n",
              "      </button>\n",
              "    </div>\n",
              "\n",
              "<style>\n",
              "  .colab-df-quickchart {\n",
              "    background-color: #E8F0FE;\n",
              "    border: none;\n",
              "    border-radius: 50%;\n",
              "    cursor: pointer;\n",
              "    display: none;\n",
              "    fill: #1967D2;\n",
              "    height: 32px;\n",
              "    padding: 0 0 0 0;\n",
              "    width: 32px;\n",
              "  }\n",
              "\n",
              "  .colab-df-quickchart:hover {\n",
              "    background-color: #E2EBFA;\n",
              "    box-shadow: 0px 1px 2px rgba(60, 64, 67, 0.3), 0px 1px 3px 1px rgba(60, 64, 67, 0.15);\n",
              "    fill: #174EA6;\n",
              "  }\n",
              "\n",
              "  [theme=dark] .colab-df-quickchart {\n",
              "    background-color: #3B4455;\n",
              "    fill: #D2E3FC;\n",
              "  }\n",
              "\n",
              "  [theme=dark] .colab-df-quickchart:hover {\n",
              "    background-color: #434B5C;\n",
              "    box-shadow: 0px 1px 3px 1px rgba(0, 0, 0, 0.15);\n",
              "    filter: drop-shadow(0px 1px 2px rgba(0, 0, 0, 0.3));\n",
              "    fill: #FFFFFF;\n",
              "  }\n",
              "</style>\n",
              "\n",
              "    <script>\n",
              "      async function quickchart(key) {\n",
              "        const containerElement = document.querySelector('#' + key);\n",
              "        const charts = await google.colab.kernel.invokeFunction(\n",
              "            'suggestCharts', [key], {});\n",
              "      }\n",
              "    </script>\n",
              "\n",
              "      <script>\n",
              "\n",
              "function displayQuickchartButton(domScope) {\n",
              "  let quickchartButtonEl =\n",
              "    domScope.querySelector('#df-3a4d834d-5c31-4a95-8df4-55a17b486275 button.colab-df-quickchart');\n",
              "  quickchartButtonEl.style.display =\n",
              "    google.colab.kernel.accessAllowed ? 'block' : 'none';\n",
              "}\n",
              "\n",
              "        displayQuickchartButton(document);\n",
              "      </script>\n",
              "      <style>\n",
              "    .colab-df-container {\n",
              "      display:flex;\n",
              "      flex-wrap:wrap;\n",
              "      gap: 12px;\n",
              "    }\n",
              "\n",
              "    .colab-df-convert {\n",
              "      background-color: #E8F0FE;\n",
              "      border: none;\n",
              "      border-radius: 50%;\n",
              "      cursor: pointer;\n",
              "      display: none;\n",
              "      fill: #1967D2;\n",
              "      height: 32px;\n",
              "      padding: 0 0 0 0;\n",
              "      width: 32px;\n",
              "    }\n",
              "\n",
              "    .colab-df-convert:hover {\n",
              "      background-color: #E2EBFA;\n",
              "      box-shadow: 0px 1px 2px rgba(60, 64, 67, 0.3), 0px 1px 3px 1px rgba(60, 64, 67, 0.15);\n",
              "      fill: #174EA6;\n",
              "    }\n",
              "\n",
              "    [theme=dark] .colab-df-convert {\n",
              "      background-color: #3B4455;\n",
              "      fill: #D2E3FC;\n",
              "    }\n",
              "\n",
              "    [theme=dark] .colab-df-convert:hover {\n",
              "      background-color: #434B5C;\n",
              "      box-shadow: 0px 1px 3px 1px rgba(0, 0, 0, 0.15);\n",
              "      filter: drop-shadow(0px 1px 2px rgba(0, 0, 0, 0.3));\n",
              "      fill: #FFFFFF;\n",
              "    }\n",
              "  </style>\n",
              "\n",
              "      <script>\n",
              "        const buttonEl =\n",
              "          document.querySelector('#df-a10d3313-3b39-4a3e-8471-b37fdaf4e200 button.colab-df-convert');\n",
              "        buttonEl.style.display =\n",
              "          google.colab.kernel.accessAllowed ? 'block' : 'none';\n",
              "\n",
              "        async function convertToInteractive(key) {\n",
              "          const element = document.querySelector('#df-a10d3313-3b39-4a3e-8471-b37fdaf4e200');\n",
              "          const dataTable =\n",
              "            await google.colab.kernel.invokeFunction('convertToInteractive',\n",
              "                                                     [key], {});\n",
              "          if (!dataTable) return;\n",
              "\n",
              "          const docLinkHtml = 'Like what you see? Visit the ' +\n",
              "            '<a target=\"_blank\" href=https://colab.research.google.com/notebooks/data_table.ipynb>data table notebook</a>'\n",
              "            + ' to learn more about interactive tables.';\n",
              "          element.innerHTML = '';\n",
              "          dataTable['output_type'] = 'display_data';\n",
              "          await google.colab.output.renderOutput(dataTable, element);\n",
              "          const docLink = document.createElement('div');\n",
              "          docLink.innerHTML = docLinkHtml;\n",
              "          element.appendChild(docLink);\n",
              "        }\n",
              "      </script>\n",
              "    </div>\n",
              "  </div>\n"
            ]
          },
          "metadata": {},
          "execution_count": 38
        }
      ],
      "source": [
        "# Descriptive statistics of the spectral values and VIs\n",
        "data1=data.drop(['Value', 'NDVI', 'EVI', 'FID', 'pointid', 'grid_code'], axis=1) # Drop Value column\n",
        "me_spec=data1.groupby(['Type']).mean()\n",
        "me_spec_t=me_spec.transpose()\n",
        "me_spec_t"
      ]
    },
    {
      "cell_type": "code",
      "execution_count": null,
      "id": "b36ada8e-cb6e-4810-bcbd-5c7e5d290bfe",
      "metadata": {
        "tags": [],
        "colab": {
          "base_uri": "https://localhost:8080/",
          "height": 617
        },
        "id": "b36ada8e-cb6e-4810-bcbd-5c7e5d290bfe",
        "outputId": "2afe7e09-75b2-4bf4-f63a-9dad654134c4"
      },
      "outputs": [
        {
          "output_type": "display_data",
          "data": {
            "text/plain": [
              "<Figure size 1200x700 with 1 Axes>"
            ],
            "image/png": "[encoded data removed]"
          },
          "metadata": {}
        }
      ],
      "source": [
        "from matplotlib import pyplot as plt\n",
        "import seaborn as sns\n",
        "%matplotlib inline\n",
        "\n",
        "plt.figure(figsize=(12,7))\n",
        "sns.lineplot(data=me_spec_t, alpha=0.75)\n",
        "plt.title(\"Spectral values at different Bands by Crop Type\")\n",
        "plt.xlabel(\"Different Bands\")\n",
        "plt.ylabel(\"Sepctral Values\")\n",
        "plt.xticks(rotation=90)\n",
        "\n",
        "# plt.tight_layout()\n",
        "plt.show()"
      ]
    },
    {
      "cell_type": "markdown",
      "id": "af8fcec5-fb23-49c1-a777-edbb00eb1bfd",
      "metadata": {
        "id": "af8fcec5-fb23-49c1-a777-edbb00eb1bfd"
      },
      "source": [
        "### Response of different crop types are:"
      ]
    },
    {
      "cell_type": "code",
      "execution_count": null,
      "id": "f015d3a4-fa23-49fa-bd92-bb7280b406d1",
      "metadata": {
        "colab": {
          "base_uri": "https://localhost:8080/",
          "height": 300
        },
        "id": "f015d3a4-fa23-49fa-bd92-bb7280b406d1",
        "outputId": "773f475a-bc4e-4f6a-f23e-2844118ae712"
      },
      "outputs": [
        {
          "output_type": "execute_result",
          "data": {
            "text/plain": [
              "             NDVI       EVI\n",
              "Type                       \n",
              "Lentil   0.357680  0.946214\n",
              "Maize    0.525370  2.906864\n",
              "Mustard  0.432894  1.350845\n",
              "Others  -0.101686  0.820563\n",
              "Potato   0.527948  1.908365\n",
              "Rice     0.390974  1.400188\n",
              "Wheat    0.540792  1.952659"
            ],
            "text/html": [
              "\n",
              "\n",
              "  <div id=\"df-31a2d440-ffe6-4cbe-b7bf-bd533c65cf15\">\n",
              "    <div class=\"colab-df-container\">\n",
              "      <div>\n",
              "<style scoped>\n",
              "    .dataframe tbody tr th:only-of-type {\n",
              "        vertical-align: middle;\n",
              "    }\n",
              "\n",
              "    .dataframe tbody tr th {\n",
              "        vertical-align: top;\n",
              "    }\n",
              "\n",
              "    .dataframe thead th {\n",
              "        text-align: right;\n",
              "    }\n",
              "</style>\n",
              "<table border=\"1\" class=\"dataframe\">\n",
              "  <thead>\n",
              "    <tr style=\"text-align: right;\">\n",
              "      <th></th>\n",
              "      <th>NDVI</th>\n",
              "      <th>EVI</th>\n",
              "    </tr>\n",
              "    <tr>\n",
              "      <th>Type</th>\n",
              "      <th></th>\n",
              "      <th></th>\n",
              "    </tr>\n",
              "  </thead>\n",
              "  <tbody>\n",
              "    <tr>\n",
              "      <th>Lentil</th>\n",
              "      <td>0.357680</td>\n",
              "      <td>0.946214</td>\n",
              "    </tr>\n",
              "    <tr>\n",
              "      <th>Maize</th>\n",
              "      <td>0.525370</td>\n",
              "      <td>2.906864</td>\n",
              "    </tr>\n",
              "    <tr>\n",
              "      <th>Mustard</th>\n",
              "      <td>0.432894</td>\n",
              "      <td>1.350845</td>\n",
              "    </tr>\n",
              "    <tr>\n",
              "      <th>Others</th>\n",
              "      <td>-0.101686</td>\n",
              "      <td>0.820563</td>\n",
              "    </tr>\n",
              "    <tr>\n",
              "      <th>Potato</th>\n",
              "      <td>0.527948</td>\n",
              "      <td>1.908365</td>\n",
              "    </tr>\n",
              "    <tr>\n",
              "      <th>Rice</th>\n",
              "      <td>0.390974</td>\n",
              "      <td>1.400188</td>\n",
              "    </tr>\n",
              "    <tr>\n",
              "      <th>Wheat</th>\n",
              "      <td>0.540792</td>\n",
              "      <td>1.952659</td>\n",
              "    </tr>\n",
              "  </tbody>\n",
              "</table>\n",
              "</div>\n",
              "      <button class=\"colab-df-convert\" onclick=\"convertToInteractive('df-31a2d440-ffe6-4cbe-b7bf-bd533c65cf15')\"\n",
              "              title=\"Convert this dataframe to an interactive table.\"\n",
              "              style=\"display:none;\">\n",
              "\n",
              "  <svg xmlns=\"http://www.w3.org/2000/svg\" height=\"24px\"viewBox=\"0 0 24 24\"\n",
              "       width=\"24px\">\n",
              "    <path d=\"M0 0h24v24H0V0z\" fill=\"none\"/>\n",
              "    <path d=\"M18.56 5.44l.94 2.06.94-2.06 2.06-.94-2.06-.94-.94-2.06-.94 2.06-2.06.94zm-11 1L8.5 8.5l.94-2.06 2.06-.94-2.06-.94L8.5 2.5l-.94 2.06-2.06.94zm10 10l.94 2.06.94-2.06 2.06-.94-2.06-.94-.94-2.06-.94 2.06-2.06.94z\"/><path d=\"M17.41 7.96l-1.37-1.37c-.4-.4-.92-.59-1.43-.59-.52 0-1.04.2-1.43.59L10.3 9.45l-7.72 7.72c-.78.78-.78 2.05 0 2.83L4 21.41c.39.39.9.59 1.41.59.51 0 1.02-.2 1.41-.59l7.78-7.78 2.81-2.81c.8-.78.8-2.07 0-2.86zM5.41 20L4 18.59l7.72-7.72 1.47 1.35L5.41 20z\"/>\n",
              "  </svg>\n",
              "      </button>\n",
              "\n",
              "\n",
              "\n",
              "    <div id=\"df-79cc9d2a-8b47-4f2e-a6e7-4cb9cbbad12f\">\n",
              "      <button class=\"colab-df-quickchart\" onclick=\"quickchart('df-79cc9d2a-8b47-4f2e-a6e7-4cb9cbbad12f')\"\n",
              "              title=\"Suggest charts.\"\n",
              "              style=\"display:none;\">\n",
              "\n",
              "<svg xmlns=\"http://www.w3.org/2000/svg\" height=\"24px\"viewBox=\"0 0 24 24\"\n",
              "     width=\"24px\">\n",
              "    <g>\n",
              "        <path d=\"M19 3H5c-1.1 0-2 .9-2 2v14c0 1.1.9 2 2 2h14c1.1 0 2-.9 2-2V5c0-1.1-.9-2-2-2zM9 17H7v-7h2v7zm4 0h-2V7h2v10zm4 0h-2v-4h2v4z\"/>\n",
              "    </g>\n",
              "</svg>\n",
              "      </button>\n",
              "    </div>\n",
              "\n",
              "<style>\n",
              "  .colab-df-quickchart {\n",
              "    background-color: #E8F0FE;\n",
              "    border: none;\n",
              "    border-radius: 50%;\n",
              "    cursor: pointer;\n",
              "    display: none;\n",
              "    fill: #1967D2;\n",
              "    height: 32px;\n",
              "    padding: 0 0 0 0;\n",
              "    width: 32px;\n",
              "  }\n",
              "\n",
              "  .colab-df-quickchart:hover {\n",
              "    background-color: #E2EBFA;\n",
              "    box-shadow: 0px 1px 2px rgba(60, 64, 67, 0.3), 0px 1px 3px 1px rgba(60, 64, 67, 0.15);\n",
              "    fill: #174EA6;\n",
              "  }\n",
              "\n",
              "  [theme=dark] .colab-df-quickchart {\n",
              "    background-color: #3B4455;\n",
              "    fill: #D2E3FC;\n",
              "  }\n",
              "\n",
              "  [theme=dark] .colab-df-quickchart:hover {\n",
              "    background-color: #434B5C;\n",
              "    box-shadow: 0px 1px 3px 1px rgba(0, 0, 0, 0.15);\n",
              "    filter: drop-shadow(0px 1px 2px rgba(0, 0, 0, 0.3));\n",
              "    fill: #FFFFFF;\n",
              "  }\n",
              "</style>\n",
              "\n",
              "    <script>\n",
              "      async function quickchart(key) {\n",
              "        const containerElement = document.querySelector('#' + key);\n",
              "        const charts = await google.colab.kernel.invokeFunction(\n",
              "            'suggestCharts', [key], {});\n",
              "      }\n",
              "    </script>\n",
              "\n",
              "      <script>\n",
              "\n",
              "function displayQuickchartButton(domScope) {\n",
              "  let quickchartButtonEl =\n",
              "    domScope.querySelector('#df-79cc9d2a-8b47-4f2e-a6e7-4cb9cbbad12f button.colab-df-quickchart');\n",
              "  quickchartButtonEl.style.display =\n",
              "    google.colab.kernel.accessAllowed ? 'block' : 'none';\n",
              "}\n",
              "\n",
              "        displayQuickchartButton(document);\n",
              "      </script>\n",
              "      <style>\n",
              "    .colab-df-container {\n",
              "      display:flex;\n",
              "      flex-wrap:wrap;\n",
              "      gap: 12px;\n",
              "    }\n",
              "\n",
              "    .colab-df-convert {\n",
              "      background-color: #E8F0FE;\n",
              "      border: none;\n",
              "      border-radius: 50%;\n",
              "      cursor: pointer;\n",
              "      display: none;\n",
              "      fill: #1967D2;\n",
              "      height: 32px;\n",
              "      padding: 0 0 0 0;\n",
              "      width: 32px;\n",
              "    }\n",
              "\n",
              "    .colab-df-convert:hover {\n",
              "      background-color: #E2EBFA;\n",
              "      box-shadow: 0px 1px 2px rgba(60, 64, 67, 0.3), 0px 1px 3px 1px rgba(60, 64, 67, 0.15);\n",
              "      fill: #174EA6;\n",
              "    }\n",
              "\n",
              "    [theme=dark] .colab-df-convert {\n",
              "      background-color: #3B4455;\n",
              "      fill: #D2E3FC;\n",
              "    }\n",
              "\n",
              "    [theme=dark] .colab-df-convert:hover {\n",
              "      background-color: #434B5C;\n",
              "      box-shadow: 0px 1px 3px 1px rgba(0, 0, 0, 0.15);\n",
              "      filter: drop-shadow(0px 1px 2px rgba(0, 0, 0, 0.3));\n",
              "      fill: #FFFFFF;\n",
              "    }\n",
              "  </style>\n",
              "\n",
              "      <script>\n",
              "        const buttonEl =\n",
              "          document.querySelector('#df-31a2d440-ffe6-4cbe-b7bf-bd533c65cf15 button.colab-df-convert');\n",
              "        buttonEl.style.display =\n",
              "          google.colab.kernel.accessAllowed ? 'block' : 'none';\n",
              "\n",
              "        async function convertToInteractive(key) {\n",
              "          const element = document.querySelector('#df-31a2d440-ffe6-4cbe-b7bf-bd533c65cf15');\n",
              "          const dataTable =\n",
              "            await google.colab.kernel.invokeFunction('convertToInteractive',\n",
              "                                                     [key], {});\n",
              "          if (!dataTable) return;\n",
              "\n",
              "          const docLinkHtml = 'Like what you see? Visit the ' +\n",
              "            '<a target=\"_blank\" href=https://colab.research.google.com/notebooks/data_table.ipynb>data table notebook</a>'\n",
              "            + ' to learn more about interactive tables.';\n",
              "          element.innerHTML = '';\n",
              "          dataTable['output_type'] = 'display_data';\n",
              "          await google.colab.output.renderOutput(dataTable, element);\n",
              "          const docLink = document.createElement('div');\n",
              "          docLink.innerHTML = docLinkHtml;\n",
              "          element.appendChild(docLink);\n",
              "        }\n",
              "      </script>\n",
              "    </div>\n",
              "  </div>\n"
            ]
          },
          "metadata": {},
          "execution_count": 40
        }
      ],
      "source": [
        "# Descriptive statistics of the spectral values and VIs\n",
        "data2=data.drop(['Value', 'B2', 'B3', 'B4', 'B8', 'B5', 'B6', 'B7', 'B8A', 'B11', 'B12', 'FID', 'pointid', 'grid_code'], axis=1) # Drop Value column\n",
        "me_spec=data2.groupby(['Type']).mean()\n",
        "me_spec_t=me_spec\n",
        "me_spec_t"
      ]
    },
    {
      "cell_type": "code",
      "execution_count": null,
      "id": "7f19a7a7-2df7-4537-80d9-9b6a795648c9",
      "metadata": {
        "colab": {
          "base_uri": "https://localhost:8080/",
          "height": 649
        },
        "id": "7f19a7a7-2df7-4537-80d9-9b6a795648c9",
        "outputId": "1b3090ec-bc06-4ee4-f7d4-967dc15e2580"
      },
      "outputs": [
        {
          "output_type": "display_data",
          "data": {
            "text/plain": [
              "<Figure size 1200x700 with 1 Axes>"
            ],
            "image/png": "[encoded data removed]"
          },
          "metadata": {}
        }
      ],
      "source": [
        "from matplotlib import pyplot as plt\n",
        "import seaborn as sns\n",
        "%matplotlib inline\n",
        "\n",
        "plt.figure(figsize=(12,7))\n",
        "sns.lineplot(data=me_spec_t, alpha=0.75)\n",
        "plt.title(\"Spectral values at different Bands by Crop Type\")\n",
        "plt.xlabel(\"Different Bands\")\n",
        "plt.ylabel(\"Sepctral Values\")\n",
        "plt.xticks(rotation=90)\n",
        "\n",
        "# plt.tight_layout()\n",
        "plt.show()"
      ]
    },
    {
      "cell_type": "markdown",
      "id": "a40d8155-a562-43dc-a60a-f5d7e429011a",
      "metadata": {
        "id": "a40d8155-a562-43dc-a60a-f5d7e429011a"
      },
      "source": [
        "# Model Development"
      ]
    },
    {
      "cell_type": "markdown",
      "id": "1ab9a50c-4473-4e96-b271-817d3262c9c3",
      "metadata": {
        "id": "1ab9a50c-4473-4e96-b271-817d3262c9c3"
      },
      "source": [
        "### Import Necessary Libraries"
      ]
    },
    {
      "cell_type": "code",
      "execution_count": null,
      "id": "15126543-a64c-4a71-b3f8-b54d961c199a",
      "metadata": {
        "id": "15126543-a64c-4a71-b3f8-b54d961c199a"
      },
      "outputs": [],
      "source": [
        "# linear algebra\n",
        "import numpy as np\n",
        "# data processing\n",
        "import pandas as pd\n",
        "# data visualization (Graphs are designed by this library)\n",
        "import seaborn as sns\n",
        "%matplotlib inline\n",
        "from matplotlib import pyplot as plt\n",
        "\n",
        "from sklearn.model_selection import KFold\n",
        "from sklearn.model_selection import train_test_split\n",
        "from sklearn.preprocessing import StandardScaler\n",
        "\n",
        "# Algorithms\n",
        "from sklearn.svm import SVC\n",
        "from sklearn.linear_model import LogisticRegression\n",
        "from sklearn.neural_network import MLPClassifier\n",
        "from sklearn.neighbors import KNeighborsClassifier\n",
        "from sklearn.svm import LinearSVC\n",
        "from sklearn.ensemble import RandomForestClassifier\n",
        "from sklearn.tree import DecisionTreeClassifier\n",
        "from sklearn.ensemble import GradientBoostingClassifier\n",
        "\n",
        "#Accuracy\n",
        "from sklearn.metrics import accuracy_score, classification_report\n",
        "from sklearn.metrics import confusion_matrix\n",
        "from sklearn.inspection import permutation_importance\n",
        "from sklearn import metrics\n",
        "from sklearn.metrics import f1_score"
      ]
    },
    {
      "cell_type": "markdown",
      "id": "24b54c24-08c3-46e5-a346-cf991b4dd13b",
      "metadata": {
        "id": "24b54c24-08c3-46e5-a346-cf991b4dd13b"
      },
      "source": [
        "### Read Data"
      ]
    },
    {
      "cell_type": "code",
      "execution_count": null,
      "id": "55a36f30-3b37-47c4-b055-434e98f18a0a",
      "metadata": {
        "colab": {
          "base_uri": "https://localhost:8080/",
          "height": 312
        },
        "id": "55a36f30-3b37-47c4-b055-434e98f18a0a",
        "outputId": "4a992836-7070-4ca2-d5a9-917766cfe200"
      },
      "outputs": [
        {
          "output_type": "execute_result",
          "data": {
            "text/plain": [
              "   pointid  grid_code  Type  Value      B2      B3      B4      B8      B5  \\\n",
              "0      312    0.08075  Rice      1  0.0666  0.0850  0.0897  0.1554  0.1125   \n",
              "1      313    0.08070  Rice      1  0.0660  0.0830  0.0915  0.1724  0.1120   \n",
              "2      314    0.08075  Rice      1  0.0662  0.0852  0.0902  0.1665  0.1120   \n",
              "\n",
              "       B6      B7     B8A     B11     B12      NDVI       EVI  \\\n",
              "0  0.1356  0.1504  0.1682  0.1599  0.0896  0.268054  0.845778   \n",
              "1  0.1379  0.1514  0.1694  0.1616  0.0926  0.306556  0.892936   \n",
              "2  0.1379  0.1514  0.1694  0.1616  0.0926  0.297234  0.902745   \n",
              "\n",
              "                    geometry  \n",
              "0  POINT (88.31001 24.55415)  \n",
              "1  POINT (88.30974 24.55406)  \n",
              "2  POINT (88.30983 24.55406)  "
            ],
            "text/html": [
              "\n",
              "\n",
              "  <div id=\"df-bf98425d-761f-4aa5-9c06-45329ca88508\">\n",
              "    <div class=\"colab-df-container\">\n",
              "      <div>\n",
              "<style scoped>\n",
              "    .dataframe tbody tr th:only-of-type {\n",
              "        vertical-align: middle;\n",
              "    }\n",
              "\n",
              "    .dataframe tbody tr th {\n",
              "        vertical-align: top;\n",
              "    }\n",
              "\n",
              "    .dataframe thead th {\n",
              "        text-align: right;\n",
              "    }\n",
              "</style>\n",
              "<table border=\"1\" class=\"dataframe\">\n",
              "  <thead>\n",
              "    <tr style=\"text-align: right;\">\n",
              "      <th></th>\n",
              "      <th>pointid</th>\n",
              "      <th>grid_code</th>\n",
              "      <th>Type</th>\n",
              "      <th>Value</th>\n",
              "      <th>B2</th>\n",
              "      <th>B3</th>\n",
              "      <th>B4</th>\n",
              "      <th>B8</th>\n",
              "      <th>B5</th>\n",
              "      <th>B6</th>\n",
              "      <th>B7</th>\n",
              "      <th>B8A</th>\n",
              "      <th>B11</th>\n",
              "      <th>B12</th>\n",
              "      <th>NDVI</th>\n",
              "      <th>EVI</th>\n",
              "      <th>geometry</th>\n",
              "    </tr>\n",
              "  </thead>\n",
              "  <tbody>\n",
              "    <tr>\n",
              "      <th>0</th>\n",
              "      <td>312</td>\n",
              "      <td>0.08075</td>\n",
              "      <td>Rice</td>\n",
              "      <td>1</td>\n",
              "      <td>0.0666</td>\n",
              "      <td>0.0850</td>\n",
              "      <td>0.0897</td>\n",
              "      <td>0.1554</td>\n",
              "      <td>0.1125</td>\n",
              "      <td>0.1356</td>\n",
              "      <td>0.1504</td>\n",
              "      <td>0.1682</td>\n",
              "      <td>0.1599</td>\n",
              "      <td>0.0896</td>\n",
              "      <td>0.268054</td>\n",
              "      <td>0.845778</td>\n",
              "      <td>POINT (88.31001 24.55415)</td>\n",
              "    </tr>\n",
              "    <tr>\n",
              "      <th>1</th>\n",
              "      <td>313</td>\n",
              "      <td>0.08070</td>\n",
              "      <td>Rice</td>\n",
              "      <td>1</td>\n",
              "      <td>0.0660</td>\n",
              "      <td>0.0830</td>\n",
              "      <td>0.0915</td>\n",
              "      <td>0.1724</td>\n",
              "      <td>0.1120</td>\n",
              "      <td>0.1379</td>\n",
              "      <td>0.1514</td>\n",
              "      <td>0.1694</td>\n",
              "      <td>0.1616</td>\n",
              "      <td>0.0926</td>\n",
              "      <td>0.306556</td>\n",
              "      <td>0.892936</td>\n",
              "      <td>POINT (88.30974 24.55406)</td>\n",
              "    </tr>\n",
              "    <tr>\n",
              "      <th>2</th>\n",
              "      <td>314</td>\n",
              "      <td>0.08075</td>\n",
              "      <td>Rice</td>\n",
              "      <td>1</td>\n",
              "      <td>0.0662</td>\n",
              "      <td>0.0852</td>\n",
              "      <td>0.0902</td>\n",
              "      <td>0.1665</td>\n",
              "      <td>0.1120</td>\n",
              "      <td>0.1379</td>\n",
              "      <td>0.1514</td>\n",
              "      <td>0.1694</td>\n",
              "      <td>0.1616</td>\n",
              "      <td>0.0926</td>\n",
              "      <td>0.297234</td>\n",
              "      <td>0.902745</td>\n",
              "      <td>POINT (88.30983 24.55406)</td>\n",
              "    </tr>\n",
              "  </tbody>\n",
              "</table>\n",
              "</div>\n",
              "      <button class=\"colab-df-convert\" onclick=\"convertToInteractive('df-bf98425d-761f-4aa5-9c06-45329ca88508')\"\n",
              "              title=\"Convert this dataframe to an interactive table.\"\n",
              "              style=\"display:none;\">\n",
              "\n",
              "  <svg xmlns=\"http://www.w3.org/2000/svg\" height=\"24px\"viewBox=\"0 0 24 24\"\n",
              "       width=\"24px\">\n",
              "    <path d=\"M0 0h24v24H0V0z\" fill=\"none\"/>\n",
              "    <path d=\"M18.56 5.44l.94 2.06.94-2.06 2.06-.94-2.06-.94-.94-2.06-.94 2.06-2.06.94zm-11 1L8.5 8.5l.94-2.06 2.06-.94-2.06-.94L8.5 2.5l-.94 2.06-2.06.94zm10 10l.94 2.06.94-2.06 2.06-.94-2.06-.94-.94-2.06-.94 2.06-2.06.94z\"/><path d=\"M17.41 7.96l-1.37-1.37c-.4-.4-.92-.59-1.43-.59-.52 0-1.04.2-1.43.59L10.3 9.45l-7.72 7.72c-.78.78-.78 2.05 0 2.83L4 21.41c.39.39.9.59 1.41.59.51 0 1.02-.2 1.41-.59l7.78-7.78 2.81-2.81c.8-.78.8-2.07 0-2.86zM5.41 20L4 18.59l7.72-7.72 1.47 1.35L5.41 20z\"/>\n",
              "  </svg>\n",
              "      </button>\n",
              "\n",
              "\n",
              "\n",
              "    <div id=\"df-06c749e1-3a94-4539-b5bd-646bb9878490\">\n",
              "      <button class=\"colab-df-quickchart\" onclick=\"quickchart('df-06c749e1-3a94-4539-b5bd-646bb9878490')\"\n",
              "              title=\"Suggest charts.\"\n",
              "              style=\"display:none;\">\n",
              "\n",
              "<svg xmlns=\"http://www.w3.org/2000/svg\" height=\"24px\"viewBox=\"0 0 24 24\"\n",
              "     width=\"24px\">\n",
              "    <g>\n",
              "        <path d=\"M19 3H5c-1.1 0-2 .9-2 2v14c0 1.1.9 2 2 2h14c1.1 0 2-.9 2-2V5c0-1.1-.9-2-2-2zM9 17H7v-7h2v7zm4 0h-2V7h2v10zm4 0h-2v-4h2v4z\"/>\n",
              "    </g>\n",
              "</svg>\n",
              "      </button>\n",
              "    </div>\n",
              "\n",
              "<style>\n",
              "  .colab-df-quickchart {\n",
              "    background-color: #E8F0FE;\n",
              "    border: none;\n",
              "    border-radius: 50%;\n",
              "    cursor: pointer;\n",
              "    display: none;\n",
              "    fill: #1967D2;\n",
              "    height: 32px;\n",
              "    padding: 0 0 0 0;\n",
              "    width: 32px;\n",
              "  }\n",
              "\n",
              "  .colab-df-quickchart:hover {\n",
              "    background-color: #E2EBFA;\n",
              "    box-shadow: 0px 1px 2px rgba(60, 64, 67, 0.3), 0px 1px 3px 1px rgba(60, 64, 67, 0.15);\n",
              "    fill: #174EA6;\n",
              "  }\n",
              "\n",
              "  [theme=dark] .colab-df-quickchart {\n",
              "    background-color: #3B4455;\n",
              "    fill: #D2E3FC;\n",
              "  }\n",
              "\n",
              "  [theme=dark] .colab-df-quickchart:hover {\n",
              "    background-color: #434B5C;\n",
              "    box-shadow: 0px 1px 3px 1px rgba(0, 0, 0, 0.15);\n",
              "    filter: drop-shadow(0px 1px 2px rgba(0, 0, 0, 0.3));\n",
              "    fill: #FFFFFF;\n",
              "  }\n",
              "</style>\n",
              "\n",
              "    <script>\n",
              "      async function quickchart(key) {\n",
              "        const containerElement = document.querySelector('#' + key);\n",
              "        const charts = await google.colab.kernel.invokeFunction(\n",
              "            'suggestCharts', [key], {});\n",
              "      }\n",
              "    </script>\n",
              "\n",
              "      <script>\n",
              "\n",
              "function displayQuickchartButton(domScope) {\n",
              "  let quickchartButtonEl =\n",
              "    domScope.querySelector('#df-06c749e1-3a94-4539-b5bd-646bb9878490 button.colab-df-quickchart');\n",
              "  quickchartButtonEl.style.display =\n",
              "    google.colab.kernel.accessAllowed ? 'block' : 'none';\n",
              "}\n",
              "\n",
              "        displayQuickchartButton(document);\n",
              "      </script>\n",
              "      <style>\n",
              "    .colab-df-container {\n",
              "      display:flex;\n",
              "      flex-wrap:wrap;\n",
              "      gap: 12px;\n",
              "    }\n",
              "\n",
              "    .colab-df-convert {\n",
              "      background-color: #E8F0FE;\n",
              "      border: none;\n",
              "      border-radius: 50%;\n",
              "      cursor: pointer;\n",
              "      display: none;\n",
              "      fill: #1967D2;\n",
              "      height: 32px;\n",
              "      padding: 0 0 0 0;\n",
              "      width: 32px;\n",
              "    }\n",
              "\n",
              "    .colab-df-convert:hover {\n",
              "      background-color: #E2EBFA;\n",
              "      box-shadow: 0px 1px 2px rgba(60, 64, 67, 0.3), 0px 1px 3px 1px rgba(60, 64, 67, 0.15);\n",
              "      fill: #174EA6;\n",
              "    }\n",
              "\n",
              "    [theme=dark] .colab-df-convert {\n",
              "      background-color: #3B4455;\n",
              "      fill: #D2E3FC;\n",
              "    }\n",
              "\n",
              "    [theme=dark] .colab-df-convert:hover {\n",
              "      background-color: #434B5C;\n",
              "      box-shadow: 0px 1px 3px 1px rgba(0, 0, 0, 0.15);\n",
              "      filter: drop-shadow(0px 1px 2px rgba(0, 0, 0, 0.3));\n",
              "      fill: #FFFFFF;\n",
              "    }\n",
              "  </style>\n",
              "\n",
              "      <script>\n",
              "        const buttonEl =\n",
              "          document.querySelector('#df-bf98425d-761f-4aa5-9c06-45329ca88508 button.colab-df-convert');\n",
              "        buttonEl.style.display =\n",
              "          google.colab.kernel.accessAllowed ? 'block' : 'none';\n",
              "\n",
              "        async function convertToInteractive(key) {\n",
              "          const element = document.querySelector('#df-bf98425d-761f-4aa5-9c06-45329ca88508');\n",
              "          const dataTable =\n",
              "            await google.colab.kernel.invokeFunction('convertToInteractive',\n",
              "                                                     [key], {});\n",
              "          if (!dataTable) return;\n",
              "\n",
              "          const docLinkHtml = 'Like what you see? Visit the ' +\n",
              "            '<a target=\"_blank\" href=https://colab.research.google.com/notebooks/data_table.ipynb>data table notebook</a>'\n",
              "            + ' to learn more about interactive tables.';\n",
              "          element.innerHTML = '';\n",
              "          dataTable['output_type'] = 'display_data';\n",
              "          await google.colab.output.renderOutput(dataTable, element);\n",
              "          const docLink = document.createElement('div');\n",
              "          docLink.innerHTML = docLinkHtml;\n",
              "          element.appendChild(docLink);\n",
              "        }\n",
              "      </script>\n",
              "    </div>\n",
              "  </div>\n"
            ]
          },
          "metadata": {},
          "execution_count": 43
        }
      ],
      "source": [
        "import geopandas as gpd\n",
        "from shapely.geometry import shape\n",
        "\n",
        "path = r\"/content/drive/MyDrive/Colab Notebooks/RefData.geojson\"\n",
        "data = gpd.read_file(path, driver='GeoJSON')\n",
        "data.head(3)\n",
        "\n",
        "\n",
        "# # Read the shapefile from GEE assets as a GeoDataFrame\n",
        "# ee_object = ee.FeatureCollection(\"projects/project5yr/assets/RefData\")\n",
        "\n",
        "# # Get the number of features in the shapefile\n",
        "# num_features = ee_object.size().getInfo()\n",
        "\n",
        "# # Initialize empty lists for geometries and properties\n",
        "# geometries_list = []\n",
        "# properties_list = []\n",
        "\n",
        "# # Set batch size to limit the number of features per query\n",
        "# batch_size = 1000\n",
        "\n",
        "# # Iterate over the features in batches\n",
        "# for start_idx in range(0, num_features, batch_size):\n",
        "#     end_idx = start_idx + batch_size\n",
        "\n",
        "#     # Get the batch of features\n",
        "#     batch_features = ee_object.toList(batch_size, start_idx)\n",
        "\n",
        "#     # Extract the geometries and properties from the batch\n",
        "#     batch_geometries = []\n",
        "#     batch_properties = []\n",
        "\n",
        "#     for i in range(batch_features.length().getInfo()):\n",
        "#         feature = ee.Feature(batch_features.get(i))\n",
        "#         geometry = feature.geometry()\n",
        "#         properties = feature.toDictionary()\n",
        "\n",
        "#         batch_geometries.append(shape(geometry.getInfo()))\n",
        "#         batch_properties.append(properties)\n",
        "\n",
        "#     geometries_list.extend(batch_geometries)\n",
        "#     properties_list.extend(batch_properties)\n",
        "\n",
        "# # Create a GeoDataFrame from the geometries and properties\n",
        "# data = gpd.GeoDataFrame(properties_list, geometry=geometries_list)\n",
        "\n",
        "# data.head()"
      ]
    },
    {
      "cell_type": "code",
      "execution_count": null,
      "id": "86e6aa82-ac58-456c-8fc0-f715f98ffd04",
      "metadata": {
        "colab": {
          "base_uri": "https://localhost:8080/"
        },
        "id": "86e6aa82-ac58-456c-8fc0-f715f98ffd04",
        "outputId": "7e41b2d2-cdc1-42ad-dc0f-6add6c63f092"
      },
      "outputs": [
        {
          "output_type": "execute_result",
          "data": {
            "text/plain": [
              "Index(['pointid', 'grid_code', 'Type', 'Value', 'B2', 'B3', 'B4', 'B8', 'B5',\n",
              "       'B6', 'B7', 'B8A', 'B11', 'B12', 'NDVI', 'EVI', 'geometry'],\n",
              "      dtype='object')"
            ]
          },
          "metadata": {},
          "execution_count": 44
        }
      ],
      "source": [
        "df = pd.DataFrame(data)\n",
        "type(df)\n",
        "df.columns"
      ]
    },
    {
      "cell_type": "markdown",
      "id": "4d0dbef7-b008-4091-838d-f2c19a652144",
      "metadata": {
        "tags": [],
        "id": "4d0dbef7-b008-4091-838d-f2c19a652144"
      },
      "source": [
        "# Scheme 1"
      ]
    },
    {
      "cell_type": "markdown",
      "id": "c3b63fe8-8015-4378-998d-4262491fa33f",
      "metadata": {
        "id": "c3b63fe8-8015-4378-998d-4262491fa33f"
      },
      "source": [
        "## Variable declaration"
      ]
    },
    {
      "cell_type": "code",
      "execution_count": null,
      "id": "397815af-18e3-4876-8cd1-b776753b558d",
      "metadata": {
        "colab": {
          "base_uri": "https://localhost:8080/"
        },
        "id": "397815af-18e3-4876-8cd1-b776753b558d",
        "outputId": "9b5bcfbe-4af1-4a49-aa17-8c29c5bddfd6"
      },
      "outputs": [
        {
          "output_type": "execute_result",
          "data": {
            "text/plain": [
              "Index(['B2', 'B3', 'B4'], dtype='object')"
            ]
          },
          "metadata": {},
          "execution_count": 45
        }
      ],
      "source": [
        "df_model = pd.get_dummies(df[['pointid', 'grid_code', 'Type', 'Value', 'B2', 'B3', 'B4', 'B8', 'B5', 'B6', 'B7', 'B8A', 'B11', 'B12', 'NDVI', 'EVI', 'geometry']])\n",
        "# df_model.tail()\n",
        "df_model.drop(columns=['pointid', 'grid_code','geometry'],inplace=True)\n",
        "# df_model.tail()\n",
        "y = df_model.pop('Value')\n",
        "df_model = df_model.iloc[:, 0:3] # Scheme_1 (RGB Bands)\n",
        "# df_model = df_model.iloc[:, 0:4] # Scheme_2 (RGB + NIR Bands)\n",
        "# df_model = df_model.loc[:, ['B2', 'B3', 'B4', 'NDVI', 'EVI']] # Scheme_3 (RGB + Indices)\n",
        "# df_model = df_model.loc[:, ['B2', 'B3', 'B4', 'B8','NDVI', 'EVI']] # Scheme_4 (RGB + NIR Bands + Indices)\n",
        "X = df_model\n",
        "X.columns"
      ]
    },
    {
      "cell_type": "markdown",
      "id": "8b73bf9f-9e91-4f9c-8aff-405a8746ac3a",
      "metadata": {
        "id": "8b73bf9f-9e91-4f9c-8aff-405a8746ac3a"
      },
      "source": [
        "## Test-Train Splitting"
      ]
    },
    {
      "cell_type": "code",
      "execution_count": null,
      "id": "272e1064-dce9-4053-9b86-0ed7dd0905ce",
      "metadata": {
        "colab": {
          "base_uri": "https://localhost:8080/"
        },
        "id": "272e1064-dce9-4053-9b86-0ed7dd0905ce",
        "outputId": "bb55801c-f908-461f-c23d-047699ce19ce"
      },
      "outputs": [
        {
          "output_type": "execute_result",
          "data": {
            "text/plain": [
              "((28548, 3), (12236, 3), (28548,), (12236,))"
            ]
          },
          "metadata": {},
          "execution_count": 46
        }
      ],
      "source": [
        "from sklearn.model_selection import train_test_split\n",
        "X_train,X_test,y_train,y_test = train_test_split(X,y,test_size=0.30, random_state=42)\n",
        "X_train.shape,X_test.shape,y_train.shape,y_test.shape\n",
        "\n",
        "scaler = StandardScaler() #scaler = MinMaxScaler(feature_range=(0, 1))\n",
        "scaler.fit(X_train)\n",
        "\n",
        "X_train = scaler.transform(X_train)\n",
        "X_test= scaler.transform(X_test)\n",
        "X_train.shape,X_test.shape,y_train.shape,y_test.shape"
      ]
    },
    {
      "cell_type": "markdown",
      "id": "0465901e-ac44-497f-b0dc-da11a63058bc",
      "metadata": {
        "id": "0465901e-ac44-497f-b0dc-da11a63058bc"
      },
      "source": [
        "# RF"
      ]
    },
    {
      "cell_type": "code",
      "execution_count": null,
      "id": "15681309-cb11-4d09-aaa6-32e2228450d4",
      "metadata": {
        "colab": {
          "base_uri": "https://localhost:8080/"
        },
        "id": "15681309-cb11-4d09-aaa6-32e2228450d4",
        "outputId": "26132844-437f-48a4-d17c-ccfe9ecb4a02"
      },
      "outputs": [
        {
          "output_type": "stream",
          "name": "stdout",
          "text": [
            "82.31448185681596\n",
            "              precision    recall  f1-score   support\n",
            "\n",
            "           1       0.73      0.81      0.77      3335\n",
            "           2       0.57      0.46      0.51       210\n",
            "           3       0.61      0.57      0.59      1748\n",
            "           4       0.79      0.74      0.77       808\n",
            "           5       0.53      0.13      0.21        62\n",
            "           6       0.46      0.20      0.28       153\n",
            "           7       0.96      0.95      0.96      5920\n",
            "\n",
            "    accuracy                           0.82     12236\n",
            "   macro avg       0.67      0.55      0.58     12236\n",
            "weighted avg       0.82      0.82      0.82     12236\n",
            "\n"
          ]
        }
      ],
      "source": [
        "from sklearn.ensemble import RandomForestClassifier\n",
        "\n",
        "rf = RandomForestClassifier(n_estimators=50) # Try with different number of estimators\n",
        "rf = rf.fit(X_train, y_train.values.ravel())\n",
        "\n",
        "# Prediction Using Random Forest Classifier\n",
        "from sklearn.metrics import accuracy_score, confusion_matrix\n",
        "\n",
        "Y_pred_rf = rf.predict(X_test)\n",
        "\n",
        "Class_Acc_RF1 = accuracy_score(y_test, Y_pred_rf)*100\n",
        "print(Class_Acc_RF1)\n",
        "# print(\"Classification accuracy of RF is\", Class_Acc_RF)\n",
        "print(classification_report(y_test, Y_pred_rf))"
      ]
    },
    {
      "cell_type": "markdown",
      "id": "7bc35959-900a-4cfd-a863-4ef087e18510",
      "metadata": {
        "id": "7bc35959-900a-4cfd-a863-4ef087e18510"
      },
      "source": [
        "# KNN"
      ]
    },
    {
      "cell_type": "code",
      "execution_count": null,
      "id": "2a8235cf-3bba-4660-bf7e-a43d14fa8fef",
      "metadata": {
        "colab": {
          "base_uri": "https://localhost:8080/"
        },
        "id": "2a8235cf-3bba-4660-bf7e-a43d14fa8fef",
        "outputId": "c0333df8-0728-4174-e7a6-cd5552b35a45"
      },
      "outputs": [
        {
          "output_type": "stream",
          "name": "stdout",
          "text": [
            "80.09970578620465\n",
            "              precision    recall  f1-score   support\n",
            "\n",
            "           1       0.69      0.82      0.75      3335\n",
            "           2       0.49      0.46      0.47       210\n",
            "           3       0.56      0.47      0.51      1748\n",
            "           4       0.76      0.70      0.73       808\n",
            "           5       0.00      0.00      0.00        62\n",
            "           6       0.38      0.16      0.23       153\n",
            "           7       0.96      0.94      0.95      5920\n",
            "\n",
            "    accuracy                           0.80     12236\n",
            "   macro avg       0.55      0.51      0.52     12236\n",
            "weighted avg       0.80      0.80      0.80     12236\n",
            "\n"
          ]
        }
      ],
      "source": [
        "from sklearn.neighbors import KNeighborsClassifier\n",
        "from sklearn.metrics import accuracy_score, classification_report\n",
        "\n",
        "# K-NNC\n",
        "knn = KNeighborsClassifier(n_neighbors=6)\n",
        "\n",
        "knn.fit(X_train, y_train)\n",
        "\n",
        "# Predict the labels of test data\n",
        "\n",
        "knn_pred = knn.predict(X_test)\n",
        "Class_Acc_KNN1 = accuracy_score(y_test, knn_pred)*100\n",
        "print(Class_Acc_KNN1)\n",
        "\n",
        "print(classification_report(y_test, knn_pred))"
      ]
    },
    {
      "cell_type": "markdown",
      "id": "d2502cb1-b60a-4498-9ed1-c25aa3cf778d",
      "metadata": {
        "id": "d2502cb1-b60a-4498-9ed1-c25aa3cf778d"
      },
      "source": [
        "# ANN (MLP)"
      ]
    },
    {
      "cell_type": "code",
      "execution_count": null,
      "id": "9a4c3379-4a11-4ddd-9d29-b42539d0efef",
      "metadata": {
        "colab": {
          "base_uri": "https://localhost:8080/"
        },
        "id": "9a4c3379-4a11-4ddd-9d29-b42539d0efef",
        "outputId": "cd705e27-09e9-41fa-8247-0e1603e50c9b"
      },
      "outputs": [
        {
          "output_type": "stream",
          "name": "stdout",
          "text": [
            "78.78391631252043\n",
            "              precision    recall  f1-score   support\n",
            "\n",
            "           1       0.67      0.83      0.74      3335\n",
            "           2       0.42      0.25      0.31       210\n",
            "           3       0.58      0.39      0.47      1748\n",
            "           4       0.69      0.71      0.70       808\n",
            "           5       0.00      0.00      0.00        62\n",
            "           6       0.00      0.00      0.00       153\n",
            "           7       0.93      0.94      0.94      5920\n",
            "\n",
            "    accuracy                           0.79     12236\n",
            "   macro avg       0.47      0.45      0.45     12236\n",
            "weighted avg       0.77      0.79      0.77     12236\n",
            "\n"
          ]
        }
      ],
      "source": [
        "# Feature Scaling\n",
        "from sklearn.preprocessing import StandardScaler, MinMaxScaler\n",
        "\n",
        "\n",
        "# Train the Model\n",
        "from sklearn.neural_network import MLPClassifier\n",
        "\n",
        "mlp = MLPClassifier(activation = 'relu', solver='adam', alpha=1e-5, hidden_layer_sizes=(15), max_iter=5000)\n",
        "#Hidden ayer Sizes, iterations and other parameters can be tuned for better results furthermore.\n",
        "mlp.fit(X_train, y_train.values.ravel())\n",
        "\n",
        "# Prediction Using MLP (ANN) Classifier\n",
        "Y_pred_mlp = mlp.predict(X_test)\n",
        "\n",
        "Class_Acc_MLP1 = accuracy_score(y_test, Y_pred_mlp)*100\n",
        "print(Class_Acc_MLP1)\n",
        "print(classification_report(y_test, Y_pred_mlp))"
      ]
    },
    {
      "cell_type": "markdown",
      "id": "e9214f34-242b-48b5-89d7-a789fa88e755",
      "metadata": {
        "id": "e9214f34-242b-48b5-89d7-a789fa88e755"
      },
      "source": [
        "# SVM"
      ]
    },
    {
      "cell_type": "code",
      "execution_count": null,
      "id": "482992a3-2fc2-454b-8c30-1497954513b3",
      "metadata": {
        "colab": {
          "base_uri": "https://localhost:8080/"
        },
        "id": "482992a3-2fc2-454b-8c30-1497954513b3",
        "outputId": "a976f26e-6981-45ef-a08e-bfb87950ce19"
      },
      "outputs": [
        {
          "output_type": "stream",
          "name": "stdout",
          "text": [
            "78.47335730630925\n",
            "              precision    recall  f1-score   support\n",
            "\n",
            "           1       0.65      0.87      0.74      3335\n",
            "           2       0.42      0.28      0.33       210\n",
            "           3       0.60      0.30      0.41      1748\n",
            "           4       0.76      0.67      0.71       808\n",
            "           5       0.00      0.00      0.00        62\n",
            "           6       0.00      0.00      0.00       153\n",
            "           7       0.93      0.94      0.93      5920\n",
            "\n",
            "    accuracy                           0.78     12236\n",
            "   macro avg       0.48      0.44      0.45     12236\n",
            "weighted avg       0.77      0.78      0.76     12236\n",
            "\n"
          ]
        }
      ],
      "source": [
        "from sklearn.svm import SVC\n",
        "\n",
        "svm = SVC(degree=7, random_state=42)\n",
        "\n",
        "# Fit Data\n",
        "svm.fit(X_train, y_train)\n",
        "\n",
        "# Predict labels for test data\n",
        "svm_pred = svm.predict(X_test)\n",
        "Class_Acc_SVM1 = accuracy_score(y_test, svm_pred)*100\n",
        "print(Class_Acc_SVM1)\n",
        "# Accuracy and Classification Reeport\n",
        "# print(f\"Accuracy: {accuracy_score(y_test, svm_pred)*100}\")\n",
        "print(classification_report(y_test, svm_pred))"
      ]
    },
    {
      "cell_type": "markdown",
      "id": "75f6148c-9dad-4c4e-8ad5-6edbba5f5e3b",
      "metadata": {
        "id": "75f6148c-9dad-4c4e-8ad5-6edbba5f5e3b"
      },
      "source": [
        "# XGBoosting"
      ]
    },
    {
      "cell_type": "code",
      "execution_count": null,
      "id": "fc8bf00d-b1f5-4c14-9562-897841244c28",
      "metadata": {
        "colab": {
          "base_uri": "https://localhost:8080/"
        },
        "id": "fc8bf00d-b1f5-4c14-9562-897841244c28",
        "outputId": "6d639e5b-3436-4a96-ca36-633fea817be6"
      },
      "outputs": [
        {
          "output_type": "stream",
          "name": "stdout",
          "text": [
            "0.7110166721150702\n",
            "              precision    recall  f1-score   support\n",
            "\n",
            "           0       0.00      0.00      0.00         0\n",
            "           1       0.16      0.01      0.02      3335\n",
            "           2       0.00      0.02      0.00       210\n",
            "           3       0.04      0.02      0.02      1748\n",
            "           4       0.00      0.00      0.00       808\n",
            "           5       0.02      0.02      0.02        62\n",
            "           6       0.00      0.15      0.01       153\n",
            "           7       0.00      0.00      0.00      5920\n",
            "\n",
            "    accuracy                           0.01     12236\n",
            "   macro avg       0.03      0.03      0.01     12236\n",
            "weighted avg       0.05      0.01      0.01     12236\n",
            "\n"
          ]
        }
      ],
      "source": [
        "import numpy as np\n",
        "\n",
        "y_train = np.array(y_train) - 1 #Added\n",
        "\n",
        "from xgboost import XGBClassifier\n",
        "import xgboost as xgb\n",
        "xgb_model  = XGBClassifier()\n",
        "xgb_model.fit(X_train, y_train)\n",
        "\n",
        "xgb_model_pred = xgb_model.predict(X_test)\n",
        "Class_Acc_XGB1 = accuracy_score(y_test, xgb_model_pred)*100\n",
        "print(Class_Acc_XGB1)\n",
        "\n",
        "# print(f\"Accuracy: {accuracy_score(y_test, xgb_model_pred)*100}\")\n",
        "\n",
        "print(classification_report(y_test, xgb_model_pred))"
      ]
    },
    {
      "cell_type": "code",
      "execution_count": null,
      "id": "a65e05ed-2a38-48f5-af5e-159c5297d73a",
      "metadata": {
        "colab": {
          "base_uri": "https://localhost:8080/",
          "height": 206
        },
        "id": "a65e05ed-2a38-48f5-af5e-159c5297d73a",
        "outputId": "580b374f-8e64-48f8-f6af-e3e251fc1593"
      },
      "outputs": [
        {
          "output_type": "execute_result",
          "data": {
            "text/plain": [
              "               Models   Accuracy\n",
              "0                 RF1  82.314482\n",
              "1                KNN1  80.099706\n",
              "2          ANN (MLP)1  78.783916\n",
              "3                SVM1  78.473357\n",
              "4  XGradientBoosting1   0.711017"
            ],
            "text/html": [
              "\n",
              "\n",
              "  <div id=\"df-f79bdf8b-9467-4f56-943f-4fa52121836c\">\n",
              "    <div class=\"colab-df-container\">\n",
              "      <div>\n",
              "<style scoped>\n",
              "    .dataframe tbody tr th:only-of-type {\n",
              "        vertical-align: middle;\n",
              "    }\n",
              "\n",
              "    .dataframe tbody tr th {\n",
              "        vertical-align: top;\n",
              "    }\n",
              "\n",
              "    .dataframe thead th {\n",
              "        text-align: right;\n",
              "    }\n",
              "</style>\n",
              "<table border=\"1\" class=\"dataframe\">\n",
              "  <thead>\n",
              "    <tr style=\"text-align: right;\">\n",
              "      <th></th>\n",
              "      <th>Models</th>\n",
              "      <th>Accuracy</th>\n",
              "    </tr>\n",
              "  </thead>\n",
              "  <tbody>\n",
              "    <tr>\n",
              "      <th>0</th>\n",
              "      <td>RF1</td>\n",
              "      <td>82.314482</td>\n",
              "    </tr>\n",
              "    <tr>\n",
              "      <th>1</th>\n",
              "      <td>KNN1</td>\n",
              "      <td>80.099706</td>\n",
              "    </tr>\n",
              "    <tr>\n",
              "      <th>2</th>\n",
              "      <td>ANN (MLP)1</td>\n",
              "      <td>78.783916</td>\n",
              "    </tr>\n",
              "    <tr>\n",
              "      <th>3</th>\n",
              "      <td>SVM1</td>\n",
              "      <td>78.473357</td>\n",
              "    </tr>\n",
              "    <tr>\n",
              "      <th>4</th>\n",
              "      <td>XGradientBoosting1</td>\n",
              "      <td>0.711017</td>\n",
              "    </tr>\n",
              "  </tbody>\n",
              "</table>\n",
              "</div>\n",
              "      <button class=\"colab-df-convert\" onclick=\"convertToInteractive('df-f79bdf8b-9467-4f56-943f-4fa52121836c')\"\n",
              "              title=\"Convert this dataframe to an interactive table.\"\n",
              "              style=\"display:none;\">\n",
              "\n",
              "  <svg xmlns=\"http://www.w3.org/2000/svg\" height=\"24px\"viewBox=\"0 0 24 24\"\n",
              "       width=\"24px\">\n",
              "    <path d=\"M0 0h24v24H0V0z\" fill=\"none\"/>\n",
              "    <path d=\"M18.56 5.44l.94 2.06.94-2.06 2.06-.94-2.06-.94-.94-2.06-.94 2.06-2.06.94zm-11 1L8.5 8.5l.94-2.06 2.06-.94-2.06-.94L8.5 2.5l-.94 2.06-2.06.94zm10 10l.94 2.06.94-2.06 2.06-.94-2.06-.94-.94-2.06-.94 2.06-2.06.94z\"/><path d=\"M17.41 7.96l-1.37-1.37c-.4-.4-.92-.59-1.43-.59-.52 0-1.04.2-1.43.59L10.3 9.45l-7.72 7.72c-.78.78-.78 2.05 0 2.83L4 21.41c.39.39.9.59 1.41.59.51 0 1.02-.2 1.41-.59l7.78-7.78 2.81-2.81c.8-.78.8-2.07 0-2.86zM5.41 20L4 18.59l7.72-7.72 1.47 1.35L5.41 20z\"/>\n",
              "  </svg>\n",
              "      </button>\n",
              "\n",
              "\n",
              "\n",
              "    <div id=\"df-c39d2c1c-344e-4017-9ab8-4823c12969af\">\n",
              "      <button class=\"colab-df-quickchart\" onclick=\"quickchart('df-c39d2c1c-344e-4017-9ab8-4823c12969af')\"\n",
              "              title=\"Suggest charts.\"\n",
              "              style=\"display:none;\">\n",
              "\n",
              "<svg xmlns=\"http://www.w3.org/2000/svg\" height=\"24px\"viewBox=\"0 0 24 24\"\n",
              "     width=\"24px\">\n",
              "    <g>\n",
              "        <path d=\"M19 3H5c-1.1 0-2 .9-2 2v14c0 1.1.9 2 2 2h14c1.1 0 2-.9 2-2V5c0-1.1-.9-2-2-2zM9 17H7v-7h2v7zm4 0h-2V7h2v10zm4 0h-2v-4h2v4z\"/>\n",
              "    </g>\n",
              "</svg>\n",
              "      </button>\n",
              "    </div>\n",
              "\n",
              "<style>\n",
              "  .colab-df-quickchart {\n",
              "    background-color: #E8F0FE;\n",
              "    border: none;\n",
              "    border-radius: 50%;\n",
              "    cursor: pointer;\n",
              "    display: none;\n",
              "    fill: #1967D2;\n",
              "    height: 32px;\n",
              "    padding: 0 0 0 0;\n",
              "    width: 32px;\n",
              "  }\n",
              "\n",
              "  .colab-df-quickchart:hover {\n",
              "    background-color: #E2EBFA;\n",
              "    box-shadow: 0px 1px 2px rgba(60, 64, 67, 0.3), 0px 1px 3px 1px rgba(60, 64, 67, 0.15);\n",
              "    fill: #174EA6;\n",
              "  }\n",
              "\n",
              "  [theme=dark] .colab-df-quickchart {\n",
              "    background-color: #3B4455;\n",
              "    fill: #D2E3FC;\n",
              "  }\n",
              "\n",
              "  [theme=dark] .colab-df-quickchart:hover {\n",
              "    background-color: #434B5C;\n",
              "    box-shadow: 0px 1px 3px 1px rgba(0, 0, 0, 0.15);\n",
              "    filter: drop-shadow(0px 1px 2px rgba(0, 0, 0, 0.3));\n",
              "    fill: #FFFFFF;\n",
              "  }\n",
              "</style>\n",
              "\n",
              "    <script>\n",
              "      async function quickchart(key) {\n",
              "        const containerElement = document.querySelector('#' + key);\n",
              "        const charts = await google.colab.kernel.invokeFunction(\n",
              "            'suggestCharts', [key], {});\n",
              "      }\n",
              "    </script>\n",
              "\n",
              "      <script>\n",
              "\n",
              "function displayQuickchartButton(domScope) {\n",
              "  let quickchartButtonEl =\n",
              "    domScope.querySelector('#df-c39d2c1c-344e-4017-9ab8-4823c12969af button.colab-df-quickchart');\n",
              "  quickchartButtonEl.style.display =\n",
              "    google.colab.kernel.accessAllowed ? 'block' : 'none';\n",
              "}\n",
              "\n",
              "        displayQuickchartButton(document);\n",
              "      </script>\n",
              "      <style>\n",
              "    .colab-df-container {\n",
              "      display:flex;\n",
              "      flex-wrap:wrap;\n",
              "      gap: 12px;\n",
              "    }\n",
              "\n",
              "    .colab-df-convert {\n",
              "      background-color: #E8F0FE;\n",
              "      border: none;\n",
              "      border-radius: 50%;\n",
              "      cursor: pointer;\n",
              "      display: none;\n",
              "      fill: #1967D2;\n",
              "      height: 32px;\n",
              "      padding: 0 0 0 0;\n",
              "      width: 32px;\n",
              "    }\n",
              "\n",
              "    .colab-df-convert:hover {\n",
              "      background-color: #E2EBFA;\n",
              "      box-shadow: 0px 1px 2px rgba(60, 64, 67, 0.3), 0px 1px 3px 1px rgba(60, 64, 67, 0.15);\n",
              "      fill: #174EA6;\n",
              "    }\n",
              "\n",
              "    [theme=dark] .colab-df-convert {\n",
              "      background-color: #3B4455;\n",
              "      fill: #D2E3FC;\n",
              "    }\n",
              "\n",
              "    [theme=dark] .colab-df-convert:hover {\n",
              "      background-color: #434B5C;\n",
              "      box-shadow: 0px 1px 3px 1px rgba(0, 0, 0, 0.15);\n",
              "      filter: drop-shadow(0px 1px 2px rgba(0, 0, 0, 0.3));\n",
              "      fill: #FFFFFF;\n",
              "    }\n",
              "  </style>\n",
              "\n",
              "      <script>\n",
              "        const buttonEl =\n",
              "          document.querySelector('#df-f79bdf8b-9467-4f56-943f-4fa52121836c button.colab-df-convert');\n",
              "        buttonEl.style.display =\n",
              "          google.colab.kernel.accessAllowed ? 'block' : 'none';\n",
              "\n",
              "        async function convertToInteractive(key) {\n",
              "          const element = document.querySelector('#df-f79bdf8b-9467-4f56-943f-4fa52121836c');\n",
              "          const dataTable =\n",
              "            await google.colab.kernel.invokeFunction('convertToInteractive',\n",
              "                                                     [key], {});\n",
              "          if (!dataTable) return;\n",
              "\n",
              "          const docLinkHtml = 'Like what you see? Visit the ' +\n",
              "            '<a target=\"_blank\" href=https://colab.research.google.com/notebooks/data_table.ipynb>data table notebook</a>'\n",
              "            + ' to learn more about interactive tables.';\n",
              "          element.innerHTML = '';\n",
              "          dataTable['output_type'] = 'display_data';\n",
              "          await google.colab.output.renderOutput(dataTable, element);\n",
              "          const docLink = document.createElement('div');\n",
              "          docLink.innerHTML = docLinkHtml;\n",
              "          element.appendChild(docLink);\n",
              "        }\n",
              "      </script>\n",
              "    </div>\n",
              "  </div>\n"
            ]
          },
          "metadata": {},
          "execution_count": 52
        }
      ],
      "source": [
        "performance_matrix_list = {'Models':['RF1','KNN1','ANN (MLP)1','SVM1', 'XGradientBoosting1'],\n",
        "                           'Accuracy':[Class_Acc_RF1, Class_Acc_KNN1, Class_Acc_MLP1, Class_Acc_SVM1, Class_Acc_XGB1]}\n",
        "\n",
        "performance_df = pd.DataFrame(performance_matrix_list)\n",
        "performance_df = performance_df.sort_values(by='Accuracy', ascending=False)\n",
        "performance_df"
      ]
    },
    {
      "cell_type": "markdown",
      "id": "b74c4524-cf5a-4643-99b0-a0487bad7f5d",
      "metadata": {
        "id": "b74c4524-cf5a-4643-99b0-a0487bad7f5d"
      },
      "source": [
        "# Scheme 2"
      ]
    },
    {
      "cell_type": "markdown",
      "id": "e1039d0d-84a9-412e-8949-e12b9bec46a2",
      "metadata": {
        "id": "e1039d0d-84a9-412e-8949-e12b9bec46a2"
      },
      "source": [
        "# Variable declaration"
      ]
    },
    {
      "cell_type": "code",
      "execution_count": null,
      "id": "90f142db-3b2b-4e74-acdb-0a0865cfad06",
      "metadata": {
        "colab": {
          "base_uri": "https://localhost:8080/"
        },
        "id": "90f142db-3b2b-4e74-acdb-0a0865cfad06",
        "outputId": "e594e949-fc30-4615-bb96-2d2aee23895e"
      },
      "outputs": [
        {
          "output_type": "execute_result",
          "data": {
            "text/plain": [
              "Index(['B2', 'B3', 'B4', 'B8'], dtype='object')"
            ]
          },
          "metadata": {},
          "execution_count": 53
        }
      ],
      "source": [
        "df_model = pd.get_dummies(df[['pointid', 'grid_code', 'Type', 'Value', 'B2', 'B3', 'B4', 'B8', 'B5', 'B6', 'B7', 'B8A', 'B11', 'B12', 'NDVI', 'EVI', 'geometry']])\n",
        "# df_model.tail()\n",
        "df_model.drop(columns=['pointid', 'grid_code','geometry'],inplace=True)\n",
        "# df_model.tail()\n",
        "y = df_model.pop('Value')\n",
        "# df_model = df_model.iloc[:, 0:3] # Scheme_1 (RGB Bands)\n",
        "df_model = df_model.iloc[:, 0:4] # Scheme_2 (RGB + NIR Bands)\n",
        "# df_model = df_model.loc[:, ['B2', 'B3', 'B4', 'NDVI', 'EVI']] # Scheme_3 (RGB + Indices)\n",
        "# df_model = df_model.loc[:, ['B2', 'B3', 'B4', 'B8','NDVI', 'EVI']] # Scheme_4 (RGB + NIR Bands + Indices)\n",
        "X = df_model\n",
        "X.columns"
      ]
    },
    {
      "cell_type": "markdown",
      "id": "46242fd0-a682-47b8-b3f6-5259eb33873e",
      "metadata": {
        "id": "46242fd0-a682-47b8-b3f6-5259eb33873e"
      },
      "source": [
        "## Test-Train Splitting"
      ]
    },
    {
      "cell_type": "code",
      "execution_count": null,
      "id": "bde8470c-67de-45f1-ac41-c08de14ebb5a",
      "metadata": {
        "colab": {
          "base_uri": "https://localhost:8080/"
        },
        "id": "bde8470c-67de-45f1-ac41-c08de14ebb5a",
        "outputId": "e0b07226-cbec-4ccb-8a76-5fd9fef5afab"
      },
      "outputs": [
        {
          "output_type": "execute_result",
          "data": {
            "text/plain": [
              "((28548, 4), (12236, 4), (28548,), (12236,))"
            ]
          },
          "metadata": {},
          "execution_count": 54
        }
      ],
      "source": [
        "from sklearn.model_selection import train_test_split\n",
        "X_train,X_test,y_train,y_test = train_test_split(X,y,test_size=0.30, random_state=42)\n",
        "X_train.shape,X_test.shape,y_train.shape,y_test.shape\n",
        "\n",
        "scaler = StandardScaler() #scaler = MinMaxScaler(feature_range=(0, 1))\n",
        "scaler.fit(X_train)\n",
        "\n",
        "X_train = scaler.transform(X_train)\n",
        "X_test= scaler.transform(X_test)\n",
        "X_train.shape,X_test.shape,y_train.shape,y_test.shape"
      ]
    },
    {
      "cell_type": "markdown",
      "id": "b391c43b-a959-4140-8562-22cde9a6a2b6",
      "metadata": {
        "id": "b391c43b-a959-4140-8562-22cde9a6a2b6"
      },
      "source": [
        "# RF"
      ]
    },
    {
      "cell_type": "code",
      "execution_count": null,
      "id": "d9722d60-9342-4c80-b333-b11656e9f107",
      "metadata": {
        "colab": {
          "base_uri": "https://localhost:8080/"
        },
        "id": "d9722d60-9342-4c80-b333-b11656e9f107",
        "outputId": "7f807ffa-02fc-480f-af11-639e7656ddad"
      },
      "outputs": [
        {
          "output_type": "stream",
          "name": "stdout",
          "text": [
            "93.49460608041844\n",
            "              precision    recall  f1-score   support\n",
            "\n",
            "           1       0.89      0.93      0.91      3335\n",
            "           2       0.73      0.67      0.69       210\n",
            "           3       0.91      0.94      0.93      1748\n",
            "           4       0.86      0.85      0.86       808\n",
            "           5       0.82      0.15      0.25        62\n",
            "           6       0.64      0.32      0.43       153\n",
            "           7       0.99      0.98      0.98      5920\n",
            "\n",
            "    accuracy                           0.93     12236\n",
            "   macro avg       0.83      0.69      0.72     12236\n",
            "weighted avg       0.93      0.93      0.93     12236\n",
            "\n"
          ]
        }
      ],
      "source": [
        "from sklearn.ensemble import RandomForestClassifier\n",
        "\n",
        "rf = RandomForestClassifier(n_estimators=50) # Try with different number of estimators\n",
        "rf = rf.fit(X_train, y_train.values.ravel())\n",
        "\n",
        "# Prediction Using Random Forest Classifier\n",
        "from sklearn.metrics import accuracy_score, confusion_matrix\n",
        "\n",
        "Y_pred_rf = rf.predict(X_test)\n",
        "\n",
        "Class_Acc_RF2 = accuracy_score(y_test, Y_pred_rf)*100\n",
        "print(Class_Acc_RF2)\n",
        "# print(\"Classification accuracy of RF is\", Class_Acc_RF)\n",
        "print(classification_report(y_test, Y_pred_rf))"
      ]
    },
    {
      "cell_type": "markdown",
      "id": "80ddc3b0-702b-423e-8e14-b0683ec503bd",
      "metadata": {
        "id": "80ddc3b0-702b-423e-8e14-b0683ec503bd"
      },
      "source": [
        "# KNN"
      ]
    },
    {
      "cell_type": "code",
      "execution_count": null,
      "id": "ca8ea879-af59-4496-952f-96ea094547b2",
      "metadata": {
        "colab": {
          "base_uri": "https://localhost:8080/"
        },
        "id": "ca8ea879-af59-4496-952f-96ea094547b2",
        "outputId": "ded9f6b3-3dc1-42a6-ed99-a736ed75a763"
      },
      "outputs": [
        {
          "output_type": "stream",
          "name": "stdout",
          "text": [
            "92.99607714939523\n",
            "              precision    recall  f1-score   support\n",
            "\n",
            "           1       0.88      0.93      0.90      3335\n",
            "           2       0.70      0.70      0.70       210\n",
            "           3       0.91      0.92      0.91      1748\n",
            "           4       0.86      0.82      0.84       808\n",
            "           5       0.00      0.00      0.00        62\n",
            "           6       0.65      0.35      0.46       153\n",
            "           7       0.99      0.98      0.98      5920\n",
            "\n",
            "    accuracy                           0.93     12236\n",
            "   macro avg       0.71      0.67      0.69     12236\n",
            "weighted avg       0.93      0.93      0.93     12236\n",
            "\n"
          ]
        }
      ],
      "source": [
        "from sklearn.neighbors import KNeighborsClassifier\n",
        "from sklearn.metrics import accuracy_score, classification_report\n",
        "\n",
        "# K-NNC\n",
        "knn = KNeighborsClassifier(n_neighbors=6)\n",
        "\n",
        "knn.fit(X_train, y_train)\n",
        "\n",
        "# Predict the labels of test data\n",
        "\n",
        "knn_pred = knn.predict(X_test)\n",
        "Class_Acc_KNN2 = accuracy_score(y_test, knn_pred)*100\n",
        "print(Class_Acc_KNN2)\n",
        "\n",
        "print(classification_report(y_test, knn_pred))"
      ]
    },
    {
      "cell_type": "markdown",
      "id": "aadfae6f-a95b-4417-8ceb-a6829819fc63",
      "metadata": {
        "id": "aadfae6f-a95b-4417-8ceb-a6829819fc63"
      },
      "source": [
        "# ANN (MLP)"
      ]
    },
    {
      "cell_type": "code",
      "execution_count": null,
      "id": "bd5418ea-ffb0-4320-91cc-a35fe146b8b7",
      "metadata": {
        "colab": {
          "base_uri": "https://localhost:8080/"
        },
        "id": "bd5418ea-ffb0-4320-91cc-a35fe146b8b7",
        "outputId": "666d43d7-c8cb-480d-80bd-9dbcaf4dc37f"
      },
      "outputs": [
        {
          "output_type": "stream",
          "name": "stdout",
          "text": [
            "91.41059169663288\n",
            "              precision    recall  f1-score   support\n",
            "\n",
            "           1       0.86      0.91      0.88      3335\n",
            "           2       0.58      0.64      0.61       210\n",
            "           3       0.89      0.92      0.90      1748\n",
            "           4       0.81      0.82      0.81       808\n",
            "           5       0.00      0.00      0.00        62\n",
            "           6       0.53      0.12      0.20       153\n",
            "           7       0.98      0.97      0.98      5920\n",
            "\n",
            "    accuracy                           0.91     12236\n",
            "   macro avg       0.67      0.63      0.63     12236\n",
            "weighted avg       0.91      0.91      0.91     12236\n",
            "\n"
          ]
        }
      ],
      "source": [
        "# Feature Scaling\n",
        "from sklearn.preprocessing import StandardScaler, MinMaxScaler\n",
        "\n",
        "\n",
        "# Train the Model\n",
        "from sklearn.neural_network import MLPClassifier\n",
        "\n",
        "mlp = MLPClassifier(activation = 'relu', solver='adam', alpha=1e-5, hidden_layer_sizes=(15), max_iter=5000)\n",
        "#Hidden ayer Sizes, iterations and other parameters can be tuned for better results furthermore.\n",
        "mlp.fit(X_train, y_train)\n",
        "\n",
        "# Prediction Using MLP (ANN) Classifier\n",
        "Y_pred_mlp = mlp.predict(X_test)\n",
        "\n",
        "Class_Acc_MLP2 = accuracy_score(y_test, Y_pred_mlp)*100\n",
        "print(Class_Acc_MLP2)\n",
        "print(classification_report(y_test, Y_pred_mlp))"
      ]
    },
    {
      "cell_type": "markdown",
      "id": "47f24c37-c67f-49a2-9ba2-e3e66d0bb799",
      "metadata": {
        "id": "47f24c37-c67f-49a2-9ba2-e3e66d0bb799"
      },
      "source": [
        "# SVM"
      ]
    },
    {
      "cell_type": "code",
      "execution_count": null,
      "id": "b16b4827-d2cd-40ca-a241-9538f7148854",
      "metadata": {
        "colab": {
          "base_uri": "https://localhost:8080/"
        },
        "id": "b16b4827-d2cd-40ca-a241-9538f7148854",
        "outputId": "056fab60-38a0-4261-f059-32060a2f761b"
      },
      "outputs": [
        {
          "output_type": "stream",
          "name": "stdout",
          "text": [
            "90.83850931677019\n",
            "              precision    recall  f1-score   support\n",
            "\n",
            "           1       0.85      0.91      0.88      3335\n",
            "           2       0.59      0.58      0.58       210\n",
            "           3       0.88      0.91      0.90      1748\n",
            "           4       0.78      0.78      0.78       808\n",
            "           5       0.00      0.00      0.00        62\n",
            "           6       0.00      0.00      0.00       153\n",
            "           7       0.98      0.97      0.98      5920\n",
            "\n",
            "    accuracy                           0.91     12236\n",
            "   macro avg       0.58      0.59      0.59     12236\n",
            "weighted avg       0.89      0.91      0.90     12236\n",
            "\n"
          ]
        }
      ],
      "source": [
        "from sklearn.svm import SVC\n",
        "\n",
        "svm = SVC(degree=7, random_state=42)\n",
        "\n",
        "# Fit Data\n",
        "svm.fit(X_train, y_train)\n",
        "\n",
        "# Predict labels for test data\n",
        "svm_pred = svm.predict(X_test)\n",
        "Class_Acc_SVM2 = accuracy_score(y_test, svm_pred)*100\n",
        "print(Class_Acc_SVM2)\n",
        "# Accuracy and Classification Reeport\n",
        "# print(f\"Accuracy: {accuracy_score(y_test, svm_pred)*100}\")\n",
        "print(classification_report(y_test, svm_pred))"
      ]
    },
    {
      "cell_type": "markdown",
      "id": "e8d0d587-eab9-4f9d-89e7-107d04134293",
      "metadata": {
        "id": "e8d0d587-eab9-4f9d-89e7-107d04134293"
      },
      "source": [
        "# XGBoosting"
      ]
    },
    {
      "cell_type": "code",
      "execution_count": null,
      "id": "c4b0dcdc-713c-498e-8ace-2cd762222202",
      "metadata": {
        "colab": {
          "base_uri": "https://localhost:8080/"
        },
        "id": "c4b0dcdc-713c-498e-8ace-2cd762222202",
        "outputId": "71aad668-a74a-4fc0-b4fa-b57b6eff38e1"
      },
      "outputs": [
        {
          "output_type": "stream",
          "name": "stdout",
          "text": [
            "0.2778685845047401\n",
            "              precision    recall  f1-score   support\n",
            "\n",
            "           0       0.00      0.00      0.00         0\n",
            "           1       0.07      0.00      0.01      3335\n",
            "           2       0.00      0.02      0.00       210\n",
            "           3       0.00      0.00      0.00      1748\n",
            "           4       0.00      0.00      0.00       808\n",
            "           5       0.00      0.00      0.00        62\n",
            "           6       0.00      0.08      0.00       153\n",
            "           7       0.00      0.00      0.00      5920\n",
            "\n",
            "    accuracy                           0.00     12236\n",
            "   macro avg       0.01      0.01      0.00     12236\n",
            "weighted avg       0.02      0.00      0.00     12236\n",
            "\n"
          ]
        }
      ],
      "source": [
        "import numpy as np\n",
        "\n",
        "y_train = np.array(y_train) - 1 #added\n",
        "\n",
        "from xgboost import XGBClassifier\n",
        "import xgboost as xgb\n",
        "xgb_model  = XGBClassifier()\n",
        "xgb_model.fit(X_train, y_train)\n",
        "\n",
        "xgb_model_pred = xgb_model.predict(X_test)\n",
        "Class_Acc_XGB2 = accuracy_score(y_test, xgb_model_pred)*100\n",
        "print(Class_Acc_XGB2)\n",
        "\n",
        "# print(f\"Accuracy: {accuracy_score(y_test, xgb_model_pred)*100}\")\n",
        "\n",
        "print(classification_report(y_test, xgb_model_pred))"
      ]
    },
    {
      "cell_type": "code",
      "execution_count": null,
      "id": "5261dc45-a320-451c-acbb-239ca60c573c",
      "metadata": {
        "colab": {
          "base_uri": "https://localhost:8080/",
          "height": 206
        },
        "id": "5261dc45-a320-451c-acbb-239ca60c573c",
        "outputId": "123fe12f-e404-4779-96c2-55c1d0defd4a"
      },
      "outputs": [
        {
          "output_type": "execute_result",
          "data": {
            "text/plain": [
              "               Models   Accuracy\n",
              "0                 RF2  93.494606\n",
              "1                KNN2  92.996077\n",
              "2          ANN (MLP)2  91.410592\n",
              "3                SVM2  90.838509\n",
              "4  XGradientBoosting2   0.277869"
            ],
            "text/html": [
              "\n",
              "\n",
              "  <div id=\"df-8d070095-64ab-41dc-9dbc-56c6baea9987\">\n",
              "    <div class=\"colab-df-container\">\n",
              "      <div>\n",
              "<style scoped>\n",
              "    .dataframe tbody tr th:only-of-type {\n",
              "        vertical-align: middle;\n",
              "    }\n",
              "\n",
              "    .dataframe tbody tr th {\n",
              "        vertical-align: top;\n",
              "    }\n",
              "\n",
              "    .dataframe thead th {\n",
              "        text-align: right;\n",
              "    }\n",
              "</style>\n",
              "<table border=\"1\" class=\"dataframe\">\n",
              "  <thead>\n",
              "    <tr style=\"text-align: right;\">\n",
              "      <th></th>\n",
              "      <th>Models</th>\n",
              "      <th>Accuracy</th>\n",
              "    </tr>\n",
              "  </thead>\n",
              "  <tbody>\n",
              "    <tr>\n",
              "      <th>0</th>\n",
              "      <td>RF2</td>\n",
              "      <td>93.494606</td>\n",
              "    </tr>\n",
              "    <tr>\n",
              "      <th>1</th>\n",
              "      <td>KNN2</td>\n",
              "      <td>92.996077</td>\n",
              "    </tr>\n",
              "    <tr>\n",
              "      <th>2</th>\n",
              "      <td>ANN (MLP)2</td>\n",
              "      <td>91.410592</td>\n",
              "    </tr>\n",
              "    <tr>\n",
              "      <th>3</th>\n",
              "      <td>SVM2</td>\n",
              "      <td>90.838509</td>\n",
              "    </tr>\n",
              "    <tr>\n",
              "      <th>4</th>\n",
              "      <td>XGradientBoosting2</td>\n",
              "      <td>0.277869</td>\n",
              "    </tr>\n",
              "  </tbody>\n",
              "</table>\n",
              "</div>\n",
              "      <button class=\"colab-df-convert\" onclick=\"convertToInteractive('df-8d070095-64ab-41dc-9dbc-56c6baea9987')\"\n",
              "              title=\"Convert this dataframe to an interactive table.\"\n",
              "              style=\"display:none;\">\n",
              "\n",
              "  <svg xmlns=\"http://www.w3.org/2000/svg\" height=\"24px\"viewBox=\"0 0 24 24\"\n",
              "       width=\"24px\">\n",
              "    <path d=\"M0 0h24v24H0V0z\" fill=\"none\"/>\n",
              "    <path d=\"M18.56 5.44l.94 2.06.94-2.06 2.06-.94-2.06-.94-.94-2.06-.94 2.06-2.06.94zm-11 1L8.5 8.5l.94-2.06 2.06-.94-2.06-.94L8.5 2.5l-.94 2.06-2.06.94zm10 10l.94 2.06.94-2.06 2.06-.94-2.06-.94-.94-2.06-.94 2.06-2.06.94z\"/><path d=\"M17.41 7.96l-1.37-1.37c-.4-.4-.92-.59-1.43-.59-.52 0-1.04.2-1.43.59L10.3 9.45l-7.72 7.72c-.78.78-.78 2.05 0 2.83L4 21.41c.39.39.9.59 1.41.59.51 0 1.02-.2 1.41-.59l7.78-7.78 2.81-2.81c.8-.78.8-2.07 0-2.86zM5.41 20L4 18.59l7.72-7.72 1.47 1.35L5.41 20z\"/>\n",
              "  </svg>\n",
              "      </button>\n",
              "\n",
              "\n",
              "\n",
              "    <div id=\"df-06151867-4c57-40ab-9db8-7cea9540619e\">\n",
              "      <button class=\"colab-df-quickchart\" onclick=\"quickchart('df-06151867-4c57-40ab-9db8-7cea9540619e')\"\n",
              "              title=\"Suggest charts.\"\n",
              "              style=\"display:none;\">\n",
              "\n",
              "<svg xmlns=\"http://www.w3.org/2000/svg\" height=\"24px\"viewBox=\"0 0 24 24\"\n",
              "     width=\"24px\">\n",
              "    <g>\n",
              "        <path d=\"M19 3H5c-1.1 0-2 .9-2 2v14c0 1.1.9 2 2 2h14c1.1 0 2-.9 2-2V5c0-1.1-.9-2-2-2zM9 17H7v-7h2v7zm4 0h-2V7h2v10zm4 0h-2v-4h2v4z\"/>\n",
              "    </g>\n",
              "</svg>\n",
              "      </button>\n",
              "    </div>\n",
              "\n",
              "<style>\n",
              "  .colab-df-quickchart {\n",
              "    background-color: #E8F0FE;\n",
              "    border: none;\n",
              "    border-radius: 50%;\n",
              "    cursor: pointer;\n",
              "    display: none;\n",
              "    fill: #1967D2;\n",
              "    height: 32px;\n",
              "    padding: 0 0 0 0;\n",
              "    width: 32px;\n",
              "  }\n",
              "\n",
              "  .colab-df-quickchart:hover {\n",
              "    background-color: #E2EBFA;\n",
              "    box-shadow: 0px 1px 2px rgba(60, 64, 67, 0.3), 0px 1px 3px 1px rgba(60, 64, 67, 0.15);\n",
              "    fill: #174EA6;\n",
              "  }\n",
              "\n",
              "  [theme=dark] .colab-df-quickchart {\n",
              "    background-color: #3B4455;\n",
              "    fill: #D2E3FC;\n",
              "  }\n",
              "\n",
              "  [theme=dark] .colab-df-quickchart:hover {\n",
              "    background-color: #434B5C;\n",
              "    box-shadow: 0px 1px 3px 1px rgba(0, 0, 0, 0.15);\n",
              "    filter: drop-shadow(0px 1px 2px rgba(0, 0, 0, 0.3));\n",
              "    fill: #FFFFFF;\n",
              "  }\n",
              "</style>\n",
              "\n",
              "    <script>\n",
              "      async function quickchart(key) {\n",
              "        const containerElement = document.querySelector('#' + key);\n",
              "        const charts = await google.colab.kernel.invokeFunction(\n",
              "            'suggestCharts', [key], {});\n",
              "      }\n",
              "    </script>\n",
              "\n",
              "      <script>\n",
              "\n",
              "function displayQuickchartButton(domScope) {\n",
              "  let quickchartButtonEl =\n",
              "    domScope.querySelector('#df-06151867-4c57-40ab-9db8-7cea9540619e button.colab-df-quickchart');\n",
              "  quickchartButtonEl.style.display =\n",
              "    google.colab.kernel.accessAllowed ? 'block' : 'none';\n",
              "}\n",
              "\n",
              "        displayQuickchartButton(document);\n",
              "      </script>\n",
              "      <style>\n",
              "    .colab-df-container {\n",
              "      display:flex;\n",
              "      flex-wrap:wrap;\n",
              "      gap: 12px;\n",
              "    }\n",
              "\n",
              "    .colab-df-convert {\n",
              "      background-color: #E8F0FE;\n",
              "      border: none;\n",
              "      border-radius: 50%;\n",
              "      cursor: pointer;\n",
              "      display: none;\n",
              "      fill: #1967D2;\n",
              "      height: 32px;\n",
              "      padding: 0 0 0 0;\n",
              "      width: 32px;\n",
              "    }\n",
              "\n",
              "    .colab-df-convert:hover {\n",
              "      background-color: #E2EBFA;\n",
              "      box-shadow: 0px 1px 2px rgba(60, 64, 67, 0.3), 0px 1px 3px 1px rgba(60, 64, 67, 0.15);\n",
              "      fill: #174EA6;\n",
              "    }\n",
              "\n",
              "    [theme=dark] .colab-df-convert {\n",
              "      background-color: #3B4455;\n",
              "      fill: #D2E3FC;\n",
              "    }\n",
              "\n",
              "    [theme=dark] .colab-df-convert:hover {\n",
              "      background-color: #434B5C;\n",
              "      box-shadow: 0px 1px 3px 1px rgba(0, 0, 0, 0.15);\n",
              "      filter: drop-shadow(0px 1px 2px rgba(0, 0, 0, 0.3));\n",
              "      fill: #FFFFFF;\n",
              "    }\n",
              "  </style>\n",
              "\n",
              "      <script>\n",
              "        const buttonEl =\n",
              "          document.querySelector('#df-8d070095-64ab-41dc-9dbc-56c6baea9987 button.colab-df-convert');\n",
              "        buttonEl.style.display =\n",
              "          google.colab.kernel.accessAllowed ? 'block' : 'none';\n",
              "\n",
              "        async function convertToInteractive(key) {\n",
              "          const element = document.querySelector('#df-8d070095-64ab-41dc-9dbc-56c6baea9987');\n",
              "          const dataTable =\n",
              "            await google.colab.kernel.invokeFunction('convertToInteractive',\n",
              "                                                     [key], {});\n",
              "          if (!dataTable) return;\n",
              "\n",
              "          const docLinkHtml = 'Like what you see? Visit the ' +\n",
              "            '<a target=\"_blank\" href=https://colab.research.google.com/notebooks/data_table.ipynb>data table notebook</a>'\n",
              "            + ' to learn more about interactive tables.';\n",
              "          element.innerHTML = '';\n",
              "          dataTable['output_type'] = 'display_data';\n",
              "          await google.colab.output.renderOutput(dataTable, element);\n",
              "          const docLink = document.createElement('div');\n",
              "          docLink.innerHTML = docLinkHtml;\n",
              "          element.appendChild(docLink);\n",
              "        }\n",
              "      </script>\n",
              "    </div>\n",
              "  </div>\n"
            ]
          },
          "metadata": {},
          "execution_count": 60
        }
      ],
      "source": [
        "performance_matrix_list = {'Models':['RF2','KNN2','ANN (MLP)2','SVM2', 'XGradientBoosting2'],\n",
        "                           'Accuracy':[Class_Acc_RF2, Class_Acc_KNN2, Class_Acc_MLP2, Class_Acc_SVM2, Class_Acc_XGB2]}\n",
        "\n",
        "performance_df = pd.DataFrame(performance_matrix_list)\n",
        "performance_df = performance_df.sort_values(by='Accuracy', ascending=False)\n",
        "performance_df"
      ]
    },
    {
      "cell_type": "markdown",
      "id": "f1002a4d-5726-4c79-8dff-5edb95e6b573",
      "metadata": {
        "id": "f1002a4d-5726-4c79-8dff-5edb95e6b573"
      },
      "source": [
        "# Scheme 3"
      ]
    },
    {
      "cell_type": "markdown",
      "id": "1cfaafd2-522b-4621-9ec2-846999f72d90",
      "metadata": {
        "id": "1cfaafd2-522b-4621-9ec2-846999f72d90"
      },
      "source": [
        "# Variable Declaration"
      ]
    },
    {
      "cell_type": "code",
      "execution_count": null,
      "id": "2b9fe661-d3c6-4f19-a9f0-1d75d8d59ac7",
      "metadata": {
        "colab": {
          "base_uri": "https://localhost:8080/"
        },
        "id": "2b9fe661-d3c6-4f19-a9f0-1d75d8d59ac7",
        "outputId": "a61add67-5ab2-40d1-c839-cd34b670522b"
      },
      "outputs": [
        {
          "output_type": "execute_result",
          "data": {
            "text/plain": [
              "Index(['B2', 'B3', 'B4', 'NDVI', 'EVI'], dtype='object')"
            ]
          },
          "metadata": {},
          "execution_count": 61
        }
      ],
      "source": [
        "df_model = pd.get_dummies(df[['pointid', 'grid_code', 'Type', 'Value', 'B2', 'B3', 'B4', 'B8', 'B5', 'B6', 'B7', 'B8A', 'B11', 'B12', 'NDVI', 'EVI', 'geometry']])\n",
        "# df_model.tail()\n",
        "df_model.drop(columns=['pointid', 'grid_code','geometry'],inplace=True)\n",
        "# df_model.tail()\n",
        "y = df_model.pop('Value')\n",
        "# df_model = df_model.iloc[:, 0:3] # Scheme_1 (RGB Bands)\n",
        "# df_model = df_model.iloc[:, 0:4] # Scheme_2 (RGB + NIR Bands)\n",
        "df_model = df_model.loc[:, ['B2', 'B3', 'B4', 'NDVI', 'EVI']] # Scheme_3 (RGB + Indices)\n",
        "# df_model = df_model.loc[:, ['B2', 'B3', 'B4', 'B8','NDVI', 'EVI']] # Scheme_4 (RGB + NIR Bands + Indices)\n",
        "X = df_model\n",
        "X.columns"
      ]
    },
    {
      "cell_type": "markdown",
      "id": "588bd77f-2d8b-4bc0-a182-8394894e5432",
      "metadata": {
        "id": "588bd77f-2d8b-4bc0-a182-8394894e5432"
      },
      "source": [
        "# Test-Train Splitting"
      ]
    },
    {
      "cell_type": "code",
      "execution_count": null,
      "id": "7f131a78-2c8e-45b9-aee0-f6234fcd3d42",
      "metadata": {
        "colab": {
          "base_uri": "https://localhost:8080/"
        },
        "id": "7f131a78-2c8e-45b9-aee0-f6234fcd3d42",
        "outputId": "a626bf34-6d53-4de1-e0c8-e62d8742ea3f"
      },
      "outputs": [
        {
          "output_type": "execute_result",
          "data": {
            "text/plain": [
              "((28548, 5), (12236, 5), (28548,), (12236,))"
            ]
          },
          "metadata": {},
          "execution_count": 62
        }
      ],
      "source": [
        "from sklearn.model_selection import train_test_split\n",
        "X_train,X_test,y_train,y_test = train_test_split(X,y,test_size=0.30, random_state=42)\n",
        "X_train.shape,X_test.shape,y_train.shape,y_test.shape\n",
        "\n",
        "scaler = StandardScaler() #scaler = MinMaxScaler(feature_range=(0, 1))\n",
        "scaler.fit(X_train)\n",
        "\n",
        "X_train = scaler.transform(X_train)\n",
        "X_test= scaler.transform(X_test)\n",
        "X_train.shape,X_test.shape,y_train.shape,y_test.shape"
      ]
    },
    {
      "cell_type": "markdown",
      "id": "4cf5a295-8150-4081-91e0-2ff26c85ba64",
      "metadata": {
        "id": "4cf5a295-8150-4081-91e0-2ff26c85ba64"
      },
      "source": [
        "# RF"
      ]
    },
    {
      "cell_type": "code",
      "execution_count": null,
      "id": "cab9b59f-acf8-466c-b068-00f91bd42421",
      "metadata": {
        "colab": {
          "base_uri": "https://localhost:8080/"
        },
        "id": "cab9b59f-acf8-466c-b068-00f91bd42421",
        "outputId": "3687b83c-1d92-4823-caf6-db43c39d5757"
      },
      "outputs": [
        {
          "output_type": "stream",
          "name": "stdout",
          "text": [
            "93.12683883622098\n",
            "              precision    recall  f1-score   support\n",
            "\n",
            "           1       0.88      0.93      0.90      3335\n",
            "           2       0.72      0.69      0.70       210\n",
            "           3       0.91      0.93      0.92      1748\n",
            "           4       0.86      0.85      0.85       808\n",
            "           5       0.90      0.15      0.25        62\n",
            "           6       0.72      0.34      0.46       153\n",
            "           7       0.99      0.98      0.98      5920\n",
            "\n",
            "    accuracy                           0.93     12236\n",
            "   macro avg       0.85      0.69      0.72     12236\n",
            "weighted avg       0.93      0.93      0.93     12236\n",
            "\n"
          ]
        }
      ],
      "source": [
        "from sklearn.ensemble import RandomForestClassifier\n",
        "\n",
        "rf = RandomForestClassifier(n_estimators=50) # Try with different number of estimators\n",
        "rf = rf.fit(X_train, y_train.values.ravel())\n",
        "\n",
        "# Prediction Using Random Forest Classifier\n",
        "from sklearn.metrics import accuracy_score, confusion_matrix\n",
        "\n",
        "Y_pred_rf = rf.predict(X_test)\n",
        "\n",
        "Class_Acc_RF3 = accuracy_score(y_test, Y_pred_rf)*100\n",
        "print(Class_Acc_RF3)\n",
        "# print(\"Classification accuracy of RF is\", Class_Acc_RF)\n",
        "print(classification_report(y_test, Y_pred_rf))"
      ]
    },
    {
      "cell_type": "markdown",
      "id": "40d10b0e-b415-48f6-afbd-844dacccf59e",
      "metadata": {
        "id": "40d10b0e-b415-48f6-afbd-844dacccf59e"
      },
      "source": [
        "# KNN"
      ]
    },
    {
      "cell_type": "code",
      "execution_count": null,
      "id": "6c597bbf-7cd5-457e-9a7e-92d739db0936",
      "metadata": {
        "colab": {
          "base_uri": "https://localhost:8080/"
        },
        "id": "6c597bbf-7cd5-457e-9a7e-92d739db0936",
        "outputId": "925f3616-9b6a-4b59-f0fd-4f3f6d04b02d"
      },
      "outputs": [
        {
          "output_type": "stream",
          "name": "stdout",
          "text": [
            "92.45668519123896\n",
            "              precision    recall  f1-score   support\n",
            "\n",
            "           1       0.87      0.93      0.90      3335\n",
            "           2       0.64      0.68      0.66       210\n",
            "           3       0.91      0.92      0.91      1748\n",
            "           4       0.83      0.80      0.82       808\n",
            "           5       0.00      0.00      0.00        62\n",
            "           6       0.60      0.34      0.44       153\n",
            "           7       0.99      0.97      0.98      5920\n",
            "\n",
            "    accuracy                           0.92     12236\n",
            "   macro avg       0.69      0.66      0.67     12236\n",
            "weighted avg       0.92      0.92      0.92     12236\n",
            "\n"
          ]
        }
      ],
      "source": [
        "from sklearn.neighbors import KNeighborsClassifier\n",
        "from sklearn.metrics import accuracy_score, classification_report\n",
        "\n",
        "# K-NNC\n",
        "knn = KNeighborsClassifier(n_neighbors=6)\n",
        "\n",
        "knn.fit(X_train, y_train)\n",
        "\n",
        "# Predict the labels of test data\n",
        "\n",
        "knn_pred = knn.predict(X_test)\n",
        "Class_Acc_KNN3 = accuracy_score(y_test, knn_pred)*100\n",
        "print(Class_Acc_KNN3)\n",
        "\n",
        "print(classification_report(y_test, knn_pred))"
      ]
    },
    {
      "cell_type": "markdown",
      "id": "30dab310-768a-448b-ab35-88190524bf40",
      "metadata": {
        "id": "30dab310-768a-448b-ab35-88190524bf40"
      },
      "source": [
        "# ANN (MLP)"
      ]
    },
    {
      "cell_type": "code",
      "execution_count": null,
      "id": "196ce461-740d-4bc1-8758-e6e6d0cb2e02",
      "metadata": {
        "colab": {
          "base_uri": "https://localhost:8080/"
        },
        "id": "196ce461-740d-4bc1-8758-e6e6d0cb2e02",
        "outputId": "23417c36-4fa2-46e4-8a0d-a863187c2e6f"
      },
      "outputs": [
        {
          "output_type": "stream",
          "name": "stdout",
          "text": [
            "90.80581889506375\n",
            "              precision    recall  f1-score   support\n",
            "\n",
            "           1       0.86      0.90      0.88      3335\n",
            "           2       0.62      0.46      0.53       210\n",
            "           3       0.88      0.92      0.90      1748\n",
            "           4       0.76      0.82      0.79       808\n",
            "           5       0.00      0.00      0.00        62\n",
            "           6       0.59      0.08      0.15       153\n",
            "           7       0.98      0.97      0.97      5920\n",
            "\n",
            "    accuracy                           0.91     12236\n",
            "   macro avg       0.67      0.59      0.60     12236\n",
            "weighted avg       0.90      0.91      0.90     12236\n",
            "\n"
          ]
        }
      ],
      "source": [
        "# Feature Scaling\n",
        "from sklearn.preprocessing import StandardScaler, MinMaxScaler\n",
        "\n",
        "\n",
        "# Train the Model\n",
        "from sklearn.neural_network import MLPClassifier\n",
        "\n",
        "mlp = MLPClassifier(activation = 'relu', solver='adam', alpha=1e-5, hidden_layer_sizes=(15), max_iter=5000)\n",
        "#Hidden ayer Sizes, iterations and other parameters can be tuned for better results furthermore.\n",
        "mlp.fit(X_train, y_train)\n",
        "\n",
        "# Prediction Using MLP (ANN) Classifier\n",
        "Y_pred_mlp = mlp.predict(X_test)\n",
        "\n",
        "Class_Acc_MLP3 = accuracy_score(y_test, Y_pred_mlp)*100\n",
        "print(Class_Acc_MLP3)\n",
        "print(classification_report(y_test, Y_pred_mlp))"
      ]
    },
    {
      "cell_type": "markdown",
      "id": "1a60a01a-a0f2-4d64-91f2-6ad837ba3f43",
      "metadata": {
        "id": "1a60a01a-a0f2-4d64-91f2-6ad837ba3f43"
      },
      "source": [
        "# SVM"
      ]
    },
    {
      "cell_type": "code",
      "execution_count": null,
      "id": "669bdd14-bf80-48a9-ad49-35dacb5eadd1",
      "metadata": {
        "colab": {
          "base_uri": "https://localhost:8080/"
        },
        "id": "669bdd14-bf80-48a9-ad49-35dacb5eadd1",
        "outputId": "f99ee505-d0db-45c5-ed3a-960fce501934"
      },
      "outputs": [
        {
          "output_type": "stream",
          "name": "stdout",
          "text": [
            "90.24190912062767\n",
            "              precision    recall  f1-score   support\n",
            "\n",
            "           1       0.84      0.90      0.87      3335\n",
            "           2       0.60      0.51      0.55       210\n",
            "           3       0.89      0.91      0.90      1748\n",
            "           4       0.77      0.76      0.76       808\n",
            "           5       0.00      0.00      0.00        62\n",
            "           6       0.00      0.00      0.00       153\n",
            "           7       0.97      0.97      0.97      5920\n",
            "\n",
            "    accuracy                           0.90     12236\n",
            "   macro avg       0.58      0.58      0.58     12236\n",
            "weighted avg       0.89      0.90      0.89     12236\n",
            "\n"
          ]
        }
      ],
      "source": [
        "from sklearn.svm import SVC\n",
        "\n",
        "svm = SVC(degree=7, random_state=42)\n",
        "\n",
        "# Fit Data\n",
        "svm.fit(X_train, y_train)\n",
        "\n",
        "# Predict labels for test data\n",
        "svm_pred = svm.predict(X_test)\n",
        "Class_Acc_SVM3 = accuracy_score(y_test, svm_pred)*100\n",
        "print(Class_Acc_SVM3)\n",
        "# Accuracy and Classification Reeport\n",
        "# print(f\"Accuracy: {accuracy_score(y_test, svm_pred)*100}\")\n",
        "print(classification_report(y_test, svm_pred))"
      ]
    },
    {
      "cell_type": "markdown",
      "id": "e1edfe76-1b61-4413-b198-5c997b2628f5",
      "metadata": {
        "id": "e1edfe76-1b61-4413-b198-5c997b2628f5"
      },
      "source": [
        "# XGBoosting"
      ]
    },
    {
      "cell_type": "code",
      "execution_count": null,
      "id": "dd6727e8-f2cf-4363-8cc7-e7fee4f58721",
      "metadata": {
        "colab": {
          "base_uri": "https://localhost:8080/"
        },
        "id": "dd6727e8-f2cf-4363-8cc7-e7fee4f58721",
        "outputId": "864887e0-7cab-42ac-c65d-6c28f9fe1efa"
      },
      "outputs": [
        {
          "output_type": "stream",
          "name": "stdout",
          "text": [
            "0.26969597907813014\n",
            "              precision    recall  f1-score   support\n",
            "\n",
            "           0       0.00      0.00      0.00         0\n",
            "           1       0.07      0.00      0.01      3335\n",
            "           2       0.00      0.02      0.01       210\n",
            "           3       0.00      0.00      0.00      1748\n",
            "           4       0.00      0.00      0.00       808\n",
            "           5       0.00      0.00      0.00        62\n",
            "           6       0.00      0.07      0.00       153\n",
            "           7       0.00      0.00      0.00      5920\n",
            "\n",
            "    accuracy                           0.00     12236\n",
            "   macro avg       0.01      0.01      0.00     12236\n",
            "weighted avg       0.02      0.00      0.00     12236\n",
            "\n"
          ]
        }
      ],
      "source": [
        "from xgboost import XGBClassifier\n",
        "import xgboost as xgb\n",
        "\n",
        "import numpy as np\n",
        "\n",
        "y_train = np.array(y_train) - 1 #added\n",
        "\n",
        "xgb_model  = XGBClassifier()\n",
        "xgb_model.fit(X_train, y_train)\n",
        "\n",
        "xgb_model_pred = xgb_model.predict(X_test)\n",
        "Class_Acc_XGB3 = accuracy_score(y_test, xgb_model_pred)*100\n",
        "print(Class_Acc_XGB3)\n",
        "\n",
        "# print(f\"Accuracy: {accuracy_score(y_test, xgb_model_pred)*100}\")\n",
        "\n",
        "print(classification_report(y_test, xgb_model_pred))"
      ]
    },
    {
      "cell_type": "code",
      "execution_count": null,
      "id": "b3828e0e-f3b0-450e-8536-f38f2be2d4b9",
      "metadata": {
        "colab": {
          "base_uri": "https://localhost:8080/",
          "height": 206
        },
        "id": "b3828e0e-f3b0-450e-8536-f38f2be2d4b9",
        "outputId": "8c3b1674-8b4e-4e1f-a101-4beb17c51c4e"
      },
      "outputs": [
        {
          "output_type": "execute_result",
          "data": {
            "text/plain": [
              "               Models   Accuracy\n",
              "0                 RF3  93.126839\n",
              "1                KNN3  92.456685\n",
              "2          ANN (MLP)3  90.805819\n",
              "3                SVM3  90.241909\n",
              "4  XGradientBoosting3   0.269696"
            ],
            "text/html": [
              "\n",
              "\n",
              "  <div id=\"df-b0e82dde-5775-4564-9a80-31fa4d89126d\">\n",
              "    <div class=\"colab-df-container\">\n",
              "      <div>\n",
              "<style scoped>\n",
              "    .dataframe tbody tr th:only-of-type {\n",
              "        vertical-align: middle;\n",
              "    }\n",
              "\n",
              "    .dataframe tbody tr th {\n",
              "        vertical-align: top;\n",
              "    }\n",
              "\n",
              "    .dataframe thead th {\n",
              "        text-align: right;\n",
              "    }\n",
              "</style>\n",
              "<table border=\"1\" class=\"dataframe\">\n",
              "  <thead>\n",
              "    <tr style=\"text-align: right;\">\n",
              "      <th></th>\n",
              "      <th>Models</th>\n",
              "      <th>Accuracy</th>\n",
              "    </tr>\n",
              "  </thead>\n",
              "  <tbody>\n",
              "    <tr>\n",
              "      <th>0</th>\n",
              "      <td>RF3</td>\n",
              "      <td>93.126839</td>\n",
              "    </tr>\n",
              "    <tr>\n",
              "      <th>1</th>\n",
              "      <td>KNN3</td>\n",
              "      <td>92.456685</td>\n",
              "    </tr>\n",
              "    <tr>\n",
              "      <th>2</th>\n",
              "      <td>ANN (MLP)3</td>\n",
              "      <td>90.805819</td>\n",
              "    </tr>\n",
              "    <tr>\n",
              "      <th>3</th>\n",
              "      <td>SVM3</td>\n",
              "      <td>90.241909</td>\n",
              "    </tr>\n",
              "    <tr>\n",
              "      <th>4</th>\n",
              "      <td>XGradientBoosting3</td>\n",
              "      <td>0.269696</td>\n",
              "    </tr>\n",
              "  </tbody>\n",
              "</table>\n",
              "</div>\n",
              "      <button class=\"colab-df-convert\" onclick=\"convertToInteractive('df-b0e82dde-5775-4564-9a80-31fa4d89126d')\"\n",
              "              title=\"Convert this dataframe to an interactive table.\"\n",
              "              style=\"display:none;\">\n",
              "\n",
              "  <svg xmlns=\"http://www.w3.org/2000/svg\" height=\"24px\"viewBox=\"0 0 24 24\"\n",
              "       width=\"24px\">\n",
              "    <path d=\"M0 0h24v24H0V0z\" fill=\"none\"/>\n",
              "    <path d=\"M18.56 5.44l.94 2.06.94-2.06 2.06-.94-2.06-.94-.94-2.06-.94 2.06-2.06.94zm-11 1L8.5 8.5l.94-2.06 2.06-.94-2.06-.94L8.5 2.5l-.94 2.06-2.06.94zm10 10l.94 2.06.94-2.06 2.06-.94-2.06-.94-.94-2.06-.94 2.06-2.06.94z\"/><path d=\"M17.41 7.96l-1.37-1.37c-.4-.4-.92-.59-1.43-.59-.52 0-1.04.2-1.43.59L10.3 9.45l-7.72 7.72c-.78.78-.78 2.05 0 2.83L4 21.41c.39.39.9.59 1.41.59.51 0 1.02-.2 1.41-.59l7.78-7.78 2.81-2.81c.8-.78.8-2.07 0-2.86zM5.41 20L4 18.59l7.72-7.72 1.47 1.35L5.41 20z\"/>\n",
              "  </svg>\n",
              "      </button>\n",
              "\n",
              "\n",
              "\n",
              "    <div id=\"df-ac7eb439-406c-4cc7-8c50-f08682b8eed0\">\n",
              "      <button class=\"colab-df-quickchart\" onclick=\"quickchart('df-ac7eb439-406c-4cc7-8c50-f08682b8eed0')\"\n",
              "              title=\"Suggest charts.\"\n",
              "              style=\"display:none;\">\n",
              "\n",
              "<svg xmlns=\"http://www.w3.org/2000/svg\" height=\"24px\"viewBox=\"0 0 24 24\"\n",
              "     width=\"24px\">\n",
              "    <g>\n",
              "        <path d=\"M19 3H5c-1.1 0-2 .9-2 2v14c0 1.1.9 2 2 2h14c1.1 0 2-.9 2-2V5c0-1.1-.9-2-2-2zM9 17H7v-7h2v7zm4 0h-2V7h2v10zm4 0h-2v-4h2v4z\"/>\n",
              "    </g>\n",
              "</svg>\n",
              "      </button>\n",
              "    </div>\n",
              "\n",
              "<style>\n",
              "  .colab-df-quickchart {\n",
              "    background-color: #E8F0FE;\n",
              "    border: none;\n",
              "    border-radius: 50%;\n",
              "    cursor: pointer;\n",
              "    display: none;\n",
              "    fill: #1967D2;\n",
              "    height: 32px;\n",
              "    padding: 0 0 0 0;\n",
              "    width: 32px;\n",
              "  }\n",
              "\n",
              "  .colab-df-quickchart:hover {\n",
              "    background-color: #E2EBFA;\n",
              "    box-shadow: 0px 1px 2px rgba(60, 64, 67, 0.3), 0px 1px 3px 1px rgba(60, 64, 67, 0.15);\n",
              "    fill: #174EA6;\n",
              "  }\n",
              "\n",
              "  [theme=dark] .colab-df-quickchart {\n",
              "    background-color: #3B4455;\n",
              "    fill: #D2E3FC;\n",
              "  }\n",
              "\n",
              "  [theme=dark] .colab-df-quickchart:hover {\n",
              "    background-color: #434B5C;\n",
              "    box-shadow: 0px 1px 3px 1px rgba(0, 0, 0, 0.15);\n",
              "    filter: drop-shadow(0px 1px 2px rgba(0, 0, 0, 0.3));\n",
              "    fill: #FFFFFF;\n",
              "  }\n",
              "</style>\n",
              "\n",
              "    <script>\n",
              "      async function quickchart(key) {\n",
              "        const containerElement = document.querySelector('#' + key);\n",
              "        const charts = await google.colab.kernel.invokeFunction(\n",
              "            'suggestCharts', [key], {});\n",
              "      }\n",
              "    </script>\n",
              "\n",
              "      <script>\n",
              "\n",
              "function displayQuickchartButton(domScope) {\n",
              "  let quickchartButtonEl =\n",
              "    domScope.querySelector('#df-ac7eb439-406c-4cc7-8c50-f08682b8eed0 button.colab-df-quickchart');\n",
              "  quickchartButtonEl.style.display =\n",
              "    google.colab.kernel.accessAllowed ? 'block' : 'none';\n",
              "}\n",
              "\n",
              "        displayQuickchartButton(document);\n",
              "      </script>\n",
              "      <style>\n",
              "    .colab-df-container {\n",
              "      display:flex;\n",
              "      flex-wrap:wrap;\n",
              "      gap: 12px;\n",
              "    }\n",
              "\n",
              "    .colab-df-convert {\n",
              "      background-color: #E8F0FE;\n",
              "      border: none;\n",
              "      border-radius: 50%;\n",
              "      cursor: pointer;\n",
              "      display: none;\n",
              "      fill: #1967D2;\n",
              "      height: 32px;\n",
              "      padding: 0 0 0 0;\n",
              "      width: 32px;\n",
              "    }\n",
              "\n",
              "    .colab-df-convert:hover {\n",
              "      background-color: #E2EBFA;\n",
              "      box-shadow: 0px 1px 2px rgba(60, 64, 67, 0.3), 0px 1px 3px 1px rgba(60, 64, 67, 0.15);\n",
              "      fill: #174EA6;\n",
              "    }\n",
              "\n",
              "    [theme=dark] .colab-df-convert {\n",
              "      background-color: #3B4455;\n",
              "      fill: #D2E3FC;\n",
              "    }\n",
              "\n",
              "    [theme=dark] .colab-df-convert:hover {\n",
              "      background-color: #434B5C;\n",
              "      box-shadow: 0px 1px 3px 1px rgba(0, 0, 0, 0.15);\n",
              "      filter: drop-shadow(0px 1px 2px rgba(0, 0, 0, 0.3));\n",
              "      fill: #FFFFFF;\n",
              "    }\n",
              "  </style>\n",
              "\n",
              "      <script>\n",
              "        const buttonEl =\n",
              "          document.querySelector('#df-b0e82dde-5775-4564-9a80-31fa4d89126d button.colab-df-convert');\n",
              "        buttonEl.style.display =\n",
              "          google.colab.kernel.accessAllowed ? 'block' : 'none';\n",
              "\n",
              "        async function convertToInteractive(key) {\n",
              "          const element = document.querySelector('#df-b0e82dde-5775-4564-9a80-31fa4d89126d');\n",
              "          const dataTable =\n",
              "            await google.colab.kernel.invokeFunction('convertToInteractive',\n",
              "                                                     [key], {});\n",
              "          if (!dataTable) return;\n",
              "\n",
              "          const docLinkHtml = 'Like what you see? Visit the ' +\n",
              "            '<a target=\"_blank\" href=https://colab.research.google.com/notebooks/data_table.ipynb>data table notebook</a>'\n",
              "            + ' to learn more about interactive tables.';\n",
              "          element.innerHTML = '';\n",
              "          dataTable['output_type'] = 'display_data';\n",
              "          await google.colab.output.renderOutput(dataTable, element);\n",
              "          const docLink = document.createElement('div');\n",
              "          docLink.innerHTML = docLinkHtml;\n",
              "          element.appendChild(docLink);\n",
              "        }\n",
              "      </script>\n",
              "    </div>\n",
              "  </div>\n"
            ]
          },
          "metadata": {},
          "execution_count": 68
        }
      ],
      "source": [
        "performance_matrix_list = {'Models':['RF3','KNN3','ANN (MLP)3','SVM3', 'XGradientBoosting3'],\n",
        "                           'Accuracy':[Class_Acc_RF3, Class_Acc_KNN3, Class_Acc_MLP3, Class_Acc_SVM3, Class_Acc_XGB3]}\n",
        "\n",
        "performance_df = pd.DataFrame(performance_matrix_list)\n",
        "performance_df = performance_df.sort_values(by='Accuracy', ascending=False)\n",
        "performance_df"
      ]
    },
    {
      "cell_type": "markdown",
      "id": "ecc98551-9c69-4938-ab15-142f58630e4d",
      "metadata": {
        "id": "ecc98551-9c69-4938-ab15-142f58630e4d"
      },
      "source": [
        "# Scheme 4"
      ]
    },
    {
      "cell_type": "markdown",
      "id": "2e0f1dc4-db0e-4362-abb0-5fc686952647",
      "metadata": {
        "id": "2e0f1dc4-db0e-4362-abb0-5fc686952647"
      },
      "source": [
        "# Variable Declaration"
      ]
    },
    {
      "cell_type": "code",
      "execution_count": null,
      "id": "d53f185b-29f0-4ab8-a94e-4ccfa6d056c9",
      "metadata": {
        "colab": {
          "base_uri": "https://localhost:8080/"
        },
        "id": "d53f185b-29f0-4ab8-a94e-4ccfa6d056c9",
        "outputId": "b1886593-d06a-47dd-f58b-0016e6360afd"
      },
      "outputs": [
        {
          "output_type": "execute_result",
          "data": {
            "text/plain": [
              "Index(['B2', 'B3', 'B4', 'B8', 'NDVI', 'EVI'], dtype='object')"
            ]
          },
          "metadata": {},
          "execution_count": 69
        }
      ],
      "source": [
        "df_model = pd.get_dummies(df[['pointid', 'grid_code', 'Type', 'Value', 'B2', 'B3', 'B4', 'B8', 'B5', 'B6', 'B7', 'B8A', 'B11', 'B12', 'NDVI', 'EVI', 'geometry']])\n",
        "# df_model.tail()\n",
        "df_model.drop(columns=['pointid', 'grid_code','geometry'],inplace=True)\n",
        "# df_model.tail()\n",
        "y = df_model.pop('Value')\n",
        "# df_model = df_model.iloc[:, 0:3] # Scheme_1 (RGB Bands)\n",
        "# df_model = df_model.iloc[:, 0:4] # Scheme_2 (RGB + NIR Bands)\n",
        "# df_model = df_model.loc[:, ['B2', 'B3', 'B4', 'NDVI', 'EVI']] # Scheme_3 (RGB + Indices)\n",
        "df_model = df_model.loc[:, ['B2', 'B3', 'B4', 'B8','NDVI', 'EVI']] # Scheme_4 (RGB + NIR Bands + Indices)\n",
        "X = df_model\n",
        "X.columns"
      ]
    },
    {
      "cell_type": "markdown",
      "id": "05f25493-a87a-4f8b-9398-ae8c68bc9663",
      "metadata": {
        "id": "05f25493-a87a-4f8b-9398-ae8c68bc9663"
      },
      "source": [
        "# Test-Train Splitting"
      ]
    },
    {
      "cell_type": "code",
      "execution_count": null,
      "id": "94fc9668-00ff-42c2-85b0-7113cf6f1940",
      "metadata": {
        "colab": {
          "base_uri": "https://localhost:8080/"
        },
        "id": "94fc9668-00ff-42c2-85b0-7113cf6f1940",
        "outputId": "2f09172d-1dd8-416b-8c35-2371cc512fc4"
      },
      "outputs": [
        {
          "output_type": "execute_result",
          "data": {
            "text/plain": [
              "((28548, 6), (12236, 6), (28548,), (12236,))"
            ]
          },
          "metadata": {},
          "execution_count": 70
        }
      ],
      "source": [
        "from sklearn.model_selection import train_test_split\n",
        "X_train,X_test,y_train,y_test = train_test_split(X,y,test_size=0.30, random_state=42)\n",
        "X_train.shape,X_test.shape,y_train.shape,y_test.shape\n",
        "\n",
        "scaler = StandardScaler() #scaler = MinMaxScaler(feature_range=(0, 1))\n",
        "scaler.fit(X_train)\n",
        "\n",
        "X_train = scaler.transform(X_train)\n",
        "X_test= scaler.transform(X_test)\n",
        "X_train.shape,X_test.shape,y_train.shape,y_test.shape"
      ]
    },
    {
      "cell_type": "markdown",
      "id": "0cd17074-e018-40fc-9b2b-33f2bb7f887d",
      "metadata": {
        "id": "0cd17074-e018-40fc-9b2b-33f2bb7f887d"
      },
      "source": [
        "# RF"
      ]
    },
    {
      "cell_type": "code",
      "execution_count": null,
      "id": "c0bc55e8-0107-4835-b1d4-8ca78659444a",
      "metadata": {
        "colab": {
          "base_uri": "https://localhost:8080/"
        },
        "id": "c0bc55e8-0107-4835-b1d4-8ca78659444a",
        "outputId": "fa62a0ec-3cf4-4131-ba92-14635a39fbbc"
      },
      "outputs": [
        {
          "output_type": "stream",
          "name": "stdout",
          "text": [
            "93.32298136645963\n",
            "              precision    recall  f1-score   support\n",
            "\n",
            "           1       0.89      0.93      0.91      3335\n",
            "           2       0.74      0.68      0.71       210\n",
            "           3       0.91      0.93      0.92      1748\n",
            "           4       0.85      0.85      0.85       808\n",
            "           5       0.82      0.15      0.25        62\n",
            "           6       0.68      0.35      0.47       153\n",
            "           7       0.99      0.98      0.98      5920\n",
            "\n",
            "    accuracy                           0.93     12236\n",
            "   macro avg       0.84      0.69      0.73     12236\n",
            "weighted avg       0.93      0.93      0.93     12236\n",
            "\n"
          ]
        }
      ],
      "source": [
        "from sklearn.ensemble import RandomForestClassifier\n",
        "\n",
        "rf = RandomForestClassifier(n_estimators=50) # Try with different number of estimators\n",
        "rf = rf.fit(X_train, y_train.values.ravel())\n",
        "\n",
        "# Prediction Using Random Forest Classifier\n",
        "from sklearn.metrics import accuracy_score, confusion_matrix\n",
        "\n",
        "Y_pred_rf = rf.predict(X_test)\n",
        "\n",
        "Class_Acc_RF4 = accuracy_score(y_test, Y_pred_rf)*100\n",
        "print(Class_Acc_RF4)\n",
        "# print(\"Classification accuracy of RF is\", Class_Acc_RF)\n",
        "print(classification_report(y_test, Y_pred_rf))"
      ]
    },
    {
      "cell_type": "markdown",
      "id": "340adbad-ea16-49b6-ab2c-3d64fe63555d",
      "metadata": {
        "id": "340adbad-ea16-49b6-ab2c-3d64fe63555d"
      },
      "source": [
        "# KNN"
      ]
    },
    {
      "cell_type": "code",
      "execution_count": null,
      "id": "fd9a2b15-78f2-4d56-9d8c-af9ea0ffa666",
      "metadata": {
        "colab": {
          "base_uri": "https://localhost:8080/"
        },
        "id": "fd9a2b15-78f2-4d56-9d8c-af9ea0ffa666",
        "outputId": "159d78bb-77e2-4e63-b8b5-45804527c334"
      },
      "outputs": [
        {
          "output_type": "stream",
          "name": "stdout",
          "text": [
            "93.02059496567506\n",
            "              precision    recall  f1-score   support\n",
            "\n",
            "           1       0.88      0.93      0.90      3335\n",
            "           2       0.69      0.69      0.69       210\n",
            "           3       0.91      0.93      0.92      1748\n",
            "           4       0.85      0.83      0.84       808\n",
            "           5       0.00      0.00      0.00        62\n",
            "           6       0.65      0.33      0.44       153\n",
            "           7       0.99      0.98      0.98      5920\n",
            "\n",
            "    accuracy                           0.93     12236\n",
            "   macro avg       0.71      0.67      0.68     12236\n",
            "weighted avg       0.93      0.93      0.93     12236\n",
            "\n"
          ]
        }
      ],
      "source": [
        "from sklearn.neighbors import KNeighborsClassifier\n",
        "from sklearn.metrics import accuracy_score, classification_report\n",
        "\n",
        "# K-NNC\n",
        "knn = KNeighborsClassifier(n_neighbors=6)\n",
        "\n",
        "knn.fit(X_train, y_train)\n",
        "\n",
        "# Predict the labels of test data\n",
        "\n",
        "knn_pred = knn.predict(X_test)\n",
        "Class_Acc_KNN4 = accuracy_score(y_test, knn_pred)*100\n",
        "print(Class_Acc_KNN4)\n",
        "\n",
        "print(classification_report(y_test, knn_pred))"
      ]
    },
    {
      "cell_type": "markdown",
      "id": "be42e008-46aa-4d7e-bc6f-fcec494002ae",
      "metadata": {
        "id": "be42e008-46aa-4d7e-bc6f-fcec494002ae"
      },
      "source": [
        "# ANN (MLP)"
      ]
    },
    {
      "cell_type": "code",
      "execution_count": null,
      "id": "21bed0ce-ef81-4e25-be46-4252b26816f2",
      "metadata": {
        "colab": {
          "base_uri": "https://localhost:8080/"
        },
        "id": "21bed0ce-ef81-4e25-be46-4252b26816f2",
        "outputId": "88480109-fa71-4c54-bf39-d32449bd24cc"
      },
      "outputs": [
        {
          "output_type": "stream",
          "name": "stdout",
          "text": [
            "91.28800261523374\n",
            "              precision    recall  f1-score   support\n",
            "\n",
            "           1       0.87      0.90      0.89      3335\n",
            "           2       0.58      0.60      0.59       210\n",
            "           3       0.88      0.93      0.90      1748\n",
            "           4       0.82      0.79      0.80       808\n",
            "           5       0.00      0.00      0.00        62\n",
            "           6       0.40      0.10      0.17       153\n",
            "           7       0.98      0.97      0.97      5920\n",
            "\n",
            "    accuracy                           0.91     12236\n",
            "   macro avg       0.65      0.61      0.62     12236\n",
            "weighted avg       0.90      0.91      0.91     12236\n",
            "\n"
          ]
        }
      ],
      "source": [
        "# Feature Scaling\n",
        "from sklearn.preprocessing import StandardScaler, MinMaxScaler\n",
        "\n",
        "\n",
        "# Train the Model\n",
        "from sklearn.neural_network import MLPClassifier\n",
        "\n",
        "mlp = MLPClassifier(activation = 'relu', solver='adam', alpha=1e-5, hidden_layer_sizes=(15), max_iter=5000)\n",
        "#Hidden ayer Sizes, iterations and other parameters can be tuned for better results furthermore.\n",
        "mlp.fit(X_train, y_train)\n",
        "\n",
        "# Prediction Using MLP (ANN) Classifier\n",
        "Y_pred_mlp = mlp.predict(X_test)\n",
        "\n",
        "Class_Acc_MLP4 = accuracy_score(y_test, Y_pred_mlp)*100\n",
        "print(Class_Acc_MLP4)\n",
        "print(classification_report(y_test, Y_pred_mlp))"
      ]
    },
    {
      "cell_type": "markdown",
      "id": "4a80fc08-3513-45a0-b982-98ec0f67db67",
      "metadata": {
        "id": "4a80fc08-3513-45a0-b982-98ec0f67db67"
      },
      "source": [
        "# SVM"
      ]
    },
    {
      "cell_type": "code",
      "execution_count": null,
      "id": "83702949-6c37-4346-8853-1f6b182588b2",
      "metadata": {
        "colab": {
          "base_uri": "https://localhost:8080/"
        },
        "id": "83702949-6c37-4346-8853-1f6b182588b2",
        "outputId": "3c61f595-0404-456d-aebd-6448cfeedb8b"
      },
      "outputs": [
        {
          "output_type": "stream",
          "name": "stdout",
          "text": [
            "90.47074207257275\n",
            "              precision    recall  f1-score   support\n",
            "\n",
            "           1       0.84      0.90      0.87      3335\n",
            "           2       0.62      0.56      0.58       210\n",
            "           3       0.88      0.91      0.89      1748\n",
            "           4       0.78      0.78      0.78       808\n",
            "           5       0.00      0.00      0.00        62\n",
            "           6       0.00      0.00      0.00       153\n",
            "           7       0.98      0.97      0.97      5920\n",
            "\n",
            "    accuracy                           0.90     12236\n",
            "   macro avg       0.58      0.59      0.59     12236\n",
            "weighted avg       0.89      0.90      0.90     12236\n",
            "\n"
          ]
        }
      ],
      "source": [
        "from sklearn.svm import SVC\n",
        "\n",
        "svm = SVC(degree=7, random_state=42)\n",
        "\n",
        "# Fit Data\n",
        "svm.fit(X_train, y_train)\n",
        "\n",
        "# Predict labels for test data\n",
        "svm_pred = svm.predict(X_test)\n",
        "Class_Acc_SVM4 = accuracy_score(y_test, svm_pred)*100\n",
        "print(Class_Acc_SVM4)\n",
        "# Accuracy and Classification Reeport\n",
        "# print(f\"Accuracy: {accuracy_score(y_test, svm_pred)*100}\")\n",
        "print(classification_report(y_test, svm_pred))"
      ]
    },
    {
      "cell_type": "markdown",
      "id": "beba22e0-61b5-422b-a919-787d830da5b9",
      "metadata": {
        "id": "beba22e0-61b5-422b-a919-787d830da5b9"
      },
      "source": [
        "# XGBoosting"
      ]
    },
    {
      "cell_type": "code",
      "execution_count": null,
      "id": "9d5b06fd-e24f-446b-a62b-281e80037c2c",
      "metadata": {
        "colab": {
          "base_uri": "https://localhost:8080/"
        },
        "id": "9d5b06fd-e24f-446b-a62b-281e80037c2c",
        "outputId": "93899c52-4aeb-45a6-d00b-6e130fdd5e94"
      },
      "outputs": [
        {
          "output_type": "stream",
          "name": "stdout",
          "text": [
            "0.2778685845047401\n",
            "              precision    recall  f1-score   support\n",
            "\n",
            "           0       0.00      0.00      0.00         0\n",
            "           1       0.07      0.00      0.01      3335\n",
            "           2       0.00      0.02      0.00       210\n",
            "           3       0.01      0.00      0.01      1748\n",
            "           4       0.00      0.00      0.00       808\n",
            "           5       0.00      0.00      0.00        62\n",
            "           6       0.00      0.06      0.00       153\n",
            "           7       0.00      0.00      0.00      5920\n",
            "\n",
            "    accuracy                           0.00     12236\n",
            "   macro avg       0.01      0.01      0.00     12236\n",
            "weighted avg       0.02      0.00      0.00     12236\n",
            "\n"
          ]
        }
      ],
      "source": [
        "from xgboost import XGBClassifier\n",
        "import xgboost as xgb\n",
        "import numpy as np\n",
        "\n",
        "y_train = np.array(y_train) - 1 #added\n",
        "\n",
        "xgb_model  = XGBClassifier()\n",
        "xgb_model.fit(X_train, y_train)\n",
        "\n",
        "xgb_model_pred = xgb_model.predict(X_test)\n",
        "Class_Acc_XGB4 = accuracy_score(y_test, xgb_model_pred)*100\n",
        "print(Class_Acc_XGB4)\n",
        "\n",
        "# print(f\"Accuracy: {accuracy_score(y_test, xgb_model_pred)*100}\")\n",
        "\n",
        "print(classification_report(y_test, xgb_model_pred))"
      ]
    },
    {
      "cell_type": "code",
      "execution_count": null,
      "id": "16b0b488-7972-46c7-90ef-89cd19abb7ab",
      "metadata": {
        "colab": {
          "base_uri": "https://localhost:8080/",
          "height": 206
        },
        "id": "16b0b488-7972-46c7-90ef-89cd19abb7ab",
        "outputId": "f6c769a5-9510-4a64-f4a1-05e856542242"
      },
      "outputs": [
        {
          "output_type": "execute_result",
          "data": {
            "text/plain": [
              "               Models   Accuracy\n",
              "0                 RF4  93.322981\n",
              "1                KNN4  93.020595\n",
              "2          ANN (MLP)4  91.288003\n",
              "3                SVM4  90.470742\n",
              "4  XGradientBoosting4   0.277869"
            ],
            "text/html": [
              "\n",
              "\n",
              "  <div id=\"df-559f74ef-01c1-473b-b397-6a08e75f40b7\">\n",
              "    <div class=\"colab-df-container\">\n",
              "      <div>\n",
              "<style scoped>\n",
              "    .dataframe tbody tr th:only-of-type {\n",
              "        vertical-align: middle;\n",
              "    }\n",
              "\n",
              "    .dataframe tbody tr th {\n",
              "        vertical-align: top;\n",
              "    }\n",
              "\n",
              "    .dataframe thead th {\n",
              "        text-align: right;\n",
              "    }\n",
              "</style>\n",
              "<table border=\"1\" class=\"dataframe\">\n",
              "  <thead>\n",
              "    <tr style=\"text-align: right;\">\n",
              "      <th></th>\n",
              "      <th>Models</th>\n",
              "      <th>Accuracy</th>\n",
              "    </tr>\n",
              "  </thead>\n",
              "  <tbody>\n",
              "    <tr>\n",
              "      <th>0</th>\n",
              "      <td>RF4</td>\n",
              "      <td>93.322981</td>\n",
              "    </tr>\n",
              "    <tr>\n",
              "      <th>1</th>\n",
              "      <td>KNN4</td>\n",
              "      <td>93.020595</td>\n",
              "    </tr>\n",
              "    <tr>\n",
              "      <th>2</th>\n",
              "      <td>ANN (MLP)4</td>\n",
              "      <td>91.288003</td>\n",
              "    </tr>\n",
              "    <tr>\n",
              "      <th>3</th>\n",
              "      <td>SVM4</td>\n",
              "      <td>90.470742</td>\n",
              "    </tr>\n",
              "    <tr>\n",
              "      <th>4</th>\n",
              "      <td>XGradientBoosting4</td>\n",
              "      <td>0.277869</td>\n",
              "    </tr>\n",
              "  </tbody>\n",
              "</table>\n",
              "</div>\n",
              "      <button class=\"colab-df-convert\" onclick=\"convertToInteractive('df-559f74ef-01c1-473b-b397-6a08e75f40b7')\"\n",
              "              title=\"Convert this dataframe to an interactive table.\"\n",
              "              style=\"display:none;\">\n",
              "\n",
              "  <svg xmlns=\"http://www.w3.org/2000/svg\" height=\"24px\"viewBox=\"0 0 24 24\"\n",
              "       width=\"24px\">\n",
              "    <path d=\"M0 0h24v24H0V0z\" fill=\"none\"/>\n",
              "    <path d=\"M18.56 5.44l.94 2.06.94-2.06 2.06-.94-2.06-.94-.94-2.06-.94 2.06-2.06.94zm-11 1L8.5 8.5l.94-2.06 2.06-.94-2.06-.94L8.5 2.5l-.94 2.06-2.06.94zm10 10l.94 2.06.94-2.06 2.06-.94-2.06-.94-.94-2.06-.94 2.06-2.06.94z\"/><path d=\"M17.41 7.96l-1.37-1.37c-.4-.4-.92-.59-1.43-.59-.52 0-1.04.2-1.43.59L10.3 9.45l-7.72 7.72c-.78.78-.78 2.05 0 2.83L4 21.41c.39.39.9.59 1.41.59.51 0 1.02-.2 1.41-.59l7.78-7.78 2.81-2.81c.8-.78.8-2.07 0-2.86zM5.41 20L4 18.59l7.72-7.72 1.47 1.35L5.41 20z\"/>\n",
              "  </svg>\n",
              "      </button>\n",
              "\n",
              "\n",
              "\n",
              "    <div id=\"df-d01e37e7-2a85-4f46-9680-cbb556d6248d\">\n",
              "      <button class=\"colab-df-quickchart\" onclick=\"quickchart('df-d01e37e7-2a85-4f46-9680-cbb556d6248d')\"\n",
              "              title=\"Suggest charts.\"\n",
              "              style=\"display:none;\">\n",
              "\n",
              "<svg xmlns=\"http://www.w3.org/2000/svg\" height=\"24px\"viewBox=\"0 0 24 24\"\n",
              "     width=\"24px\">\n",
              "    <g>\n",
              "        <path d=\"M19 3H5c-1.1 0-2 .9-2 2v14c0 1.1.9 2 2 2h14c1.1 0 2-.9 2-2V5c0-1.1-.9-2-2-2zM9 17H7v-7h2v7zm4 0h-2V7h2v10zm4 0h-2v-4h2v4z\"/>\n",
              "    </g>\n",
              "</svg>\n",
              "      </button>\n",
              "    </div>\n",
              "\n",
              "<style>\n",
              "  .colab-df-quickchart {\n",
              "    background-color: #E8F0FE;\n",
              "    border: none;\n",
              "    border-radius: 50%;\n",
              "    cursor: pointer;\n",
              "    display: none;\n",
              "    fill: #1967D2;\n",
              "    height: 32px;\n",
              "    padding: 0 0 0 0;\n",
              "    width: 32px;\n",
              "  }\n",
              "\n",
              "  .colab-df-quickchart:hover {\n",
              "    background-color: #E2EBFA;\n",
              "    box-shadow: 0px 1px 2px rgba(60, 64, 67, 0.3), 0px 1px 3px 1px rgba(60, 64, 67, 0.15);\n",
              "    fill: #174EA6;\n",
              "  }\n",
              "\n",
              "  [theme=dark] .colab-df-quickchart {\n",
              "    background-color: #3B4455;\n",
              "    fill: #D2E3FC;\n",
              "  }\n",
              "\n",
              "  [theme=dark] .colab-df-quickchart:hover {\n",
              "    background-color: #434B5C;\n",
              "    box-shadow: 0px 1px 3px 1px rgba(0, 0, 0, 0.15);\n",
              "    filter: drop-shadow(0px 1px 2px rgba(0, 0, 0, 0.3));\n",
              "    fill: #FFFFFF;\n",
              "  }\n",
              "</style>\n",
              "\n",
              "    <script>\n",
              "      async function quickchart(key) {\n",
              "        const containerElement = document.querySelector('#' + key);\n",
              "        const charts = await google.colab.kernel.invokeFunction(\n",
              "            'suggestCharts', [key], {});\n",
              "      }\n",
              "    </script>\n",
              "\n",
              "      <script>\n",
              "\n",
              "function displayQuickchartButton(domScope) {\n",
              "  let quickchartButtonEl =\n",
              "    domScope.querySelector('#df-d01e37e7-2a85-4f46-9680-cbb556d6248d button.colab-df-quickchart');\n",
              "  quickchartButtonEl.style.display =\n",
              "    google.colab.kernel.accessAllowed ? 'block' : 'none';\n",
              "}\n",
              "\n",
              "        displayQuickchartButton(document);\n",
              "      </script>\n",
              "      <style>\n",
              "    .colab-df-container {\n",
              "      display:flex;\n",
              "      flex-wrap:wrap;\n",
              "      gap: 12px;\n",
              "    }\n",
              "\n",
              "    .colab-df-convert {\n",
              "      background-color: #E8F0FE;\n",
              "      border: none;\n",
              "      border-radius: 50%;\n",
              "      cursor: pointer;\n",
              "      display: none;\n",
              "      fill: #1967D2;\n",
              "      height: 32px;\n",
              "      padding: 0 0 0 0;\n",
              "      width: 32px;\n",
              "    }\n",
              "\n",
              "    .colab-df-convert:hover {\n",
              "      background-color: #E2EBFA;\n",
              "      box-shadow: 0px 1px 2px rgba(60, 64, 67, 0.3), 0px 1px 3px 1px rgba(60, 64, 67, 0.15);\n",
              "      fill: #174EA6;\n",
              "    }\n",
              "\n",
              "    [theme=dark] .colab-df-convert {\n",
              "      background-color: #3B4455;\n",
              "      fill: #D2E3FC;\n",
              "    }\n",
              "\n",
              "    [theme=dark] .colab-df-convert:hover {\n",
              "      background-color: #434B5C;\n",
              "      box-shadow: 0px 1px 3px 1px rgba(0, 0, 0, 0.15);\n",
              "      filter: drop-shadow(0px 1px 2px rgba(0, 0, 0, 0.3));\n",
              "      fill: #FFFFFF;\n",
              "    }\n",
              "  </style>\n",
              "\n",
              "      <script>\n",
              "        const buttonEl =\n",
              "          document.querySelector('#df-559f74ef-01c1-473b-b397-6a08e75f40b7 button.colab-df-convert');\n",
              "        buttonEl.style.display =\n",
              "          google.colab.kernel.accessAllowed ? 'block' : 'none';\n",
              "\n",
              "        async function convertToInteractive(key) {\n",
              "          const element = document.querySelector('#df-559f74ef-01c1-473b-b397-6a08e75f40b7');\n",
              "          const dataTable =\n",
              "            await google.colab.kernel.invokeFunction('convertToInteractive',\n",
              "                                                     [key], {});\n",
              "          if (!dataTable) return;\n",
              "\n",
              "          const docLinkHtml = 'Like what you see? Visit the ' +\n",
              "            '<a target=\"_blank\" href=https://colab.research.google.com/notebooks/data_table.ipynb>data table notebook</a>'\n",
              "            + ' to learn more about interactive tables.';\n",
              "          element.innerHTML = '';\n",
              "          dataTable['output_type'] = 'display_data';\n",
              "          await google.colab.output.renderOutput(dataTable, element);\n",
              "          const docLink = document.createElement('div');\n",
              "          docLink.innerHTML = docLinkHtml;\n",
              "          element.appendChild(docLink);\n",
              "        }\n",
              "      </script>\n",
              "    </div>\n",
              "  </div>\n"
            ]
          },
          "metadata": {},
          "execution_count": 76
        }
      ],
      "source": [
        "performance_matrix_list = {'Models':['RF4','KNN4','ANN (MLP)4','SVM4', 'XGradientBoosting4'],\n",
        "                           'Accuracy':[Class_Acc_RF4, Class_Acc_KNN4, Class_Acc_MLP4, Class_Acc_SVM4, Class_Acc_XGB4]}\n",
        "\n",
        "performance_df = pd.DataFrame(performance_matrix_list)\n",
        "performance_df = performance_df.sort_values(by='Accuracy', ascending=False)\n",
        "performance_df"
      ]
    },
    {
      "cell_type": "code",
      "execution_count": null,
      "id": "57e1a51a-7af5-45e8-9512-87d5495f3c68",
      "metadata": {
        "colab": {
          "base_uri": "https://localhost:8080/",
          "height": 677
        },
        "id": "57e1a51a-7af5-45e8-9512-87d5495f3c68",
        "outputId": "2d379ecd-52c9-48af-ed4d-8ca24bd28c79"
      },
      "outputs": [
        {
          "output_type": "execute_result",
          "data": {
            "text/plain": [
              "                Models   Accuracy\n",
              "5                  RF2  93.494606\n",
              "15                 RF4  93.322981\n",
              "10                 RF3  93.126839\n",
              "16                KNN4  93.020595\n",
              "6                 KNN2  92.996077\n",
              "11                KNN3  92.456685\n",
              "7           ANN (MLP)2  91.410592\n",
              "17          ANN (MLP)4  91.288003\n",
              "8                 SVM2  90.838509\n",
              "12          ANN (MLP)3  90.805819\n",
              "18                SVM4  90.470742\n",
              "13                SVM3  90.241909\n",
              "0                  RF1  82.314482\n",
              "1                 KNN1  80.099706\n",
              "2           ANN (MLP)1  78.783916\n",
              "3                 SVM1  78.473357\n",
              "4   XGradientBoosting1   0.711017\n",
              "9   XGradientBoosting2   0.277869\n",
              "19  XGradientBoosting4   0.277869\n",
              "14  XGradientBoosting3   0.269696"
            ],
            "text/html": [
              "\n",
              "\n",
              "  <div id=\"df-77240827-0b27-4b74-a473-626b84156b1c\">\n",
              "    <div class=\"colab-df-container\">\n",
              "      <div>\n",
              "<style scoped>\n",
              "    .dataframe tbody tr th:only-of-type {\n",
              "        vertical-align: middle;\n",
              "    }\n",
              "\n",
              "    .dataframe tbody tr th {\n",
              "        vertical-align: top;\n",
              "    }\n",
              "\n",
              "    .dataframe thead th {\n",
              "        text-align: right;\n",
              "    }\n",
              "</style>\n",
              "<table border=\"1\" class=\"dataframe\">\n",
              "  <thead>\n",
              "    <tr style=\"text-align: right;\">\n",
              "      <th></th>\n",
              "      <th>Models</th>\n",
              "      <th>Accuracy</th>\n",
              "    </tr>\n",
              "  </thead>\n",
              "  <tbody>\n",
              "    <tr>\n",
              "      <th>5</th>\n",
              "      <td>RF2</td>\n",
              "      <td>93.494606</td>\n",
              "    </tr>\n",
              "    <tr>\n",
              "      <th>15</th>\n",
              "      <td>RF4</td>\n",
              "      <td>93.322981</td>\n",
              "    </tr>\n",
              "    <tr>\n",
              "      <th>10</th>\n",
              "      <td>RF3</td>\n",
              "      <td>93.126839</td>\n",
              "    </tr>\n",
              "    <tr>\n",
              "      <th>16</th>\n",
              "      <td>KNN4</td>\n",
              "      <td>93.020595</td>\n",
              "    </tr>\n",
              "    <tr>\n",
              "      <th>6</th>\n",
              "      <td>KNN2</td>\n",
              "      <td>92.996077</td>\n",
              "    </tr>\n",
              "    <tr>\n",
              "      <th>11</th>\n",
              "      <td>KNN3</td>\n",
              "      <td>92.456685</td>\n",
              "    </tr>\n",
              "    <tr>\n",
              "      <th>7</th>\n",
              "      <td>ANN (MLP)2</td>\n",
              "      <td>91.410592</td>\n",
              "    </tr>\n",
              "    <tr>\n",
              "      <th>17</th>\n",
              "      <td>ANN (MLP)4</td>\n",
              "      <td>91.288003</td>\n",
              "    </tr>\n",
              "    <tr>\n",
              "      <th>8</th>\n",
              "      <td>SVM2</td>\n",
              "      <td>90.838509</td>\n",
              "    </tr>\n",
              "    <tr>\n",
              "      <th>12</th>\n",
              "      <td>ANN (MLP)3</td>\n",
              "      <td>90.805819</td>\n",
              "    </tr>\n",
              "    <tr>\n",
              "      <th>18</th>\n",
              "      <td>SVM4</td>\n",
              "      <td>90.470742</td>\n",
              "    </tr>\n",
              "    <tr>\n",
              "      <th>13</th>\n",
              "      <td>SVM3</td>\n",
              "      <td>90.241909</td>\n",
              "    </tr>\n",
              "    <tr>\n",
              "      <th>0</th>\n",
              "      <td>RF1</td>\n",
              "      <td>82.314482</td>\n",
              "    </tr>\n",
              "    <tr>\n",
              "      <th>1</th>\n",
              "      <td>KNN1</td>\n",
              "      <td>80.099706</td>\n",
              "    </tr>\n",
              "    <tr>\n",
              "      <th>2</th>\n",
              "      <td>ANN (MLP)1</td>\n",
              "      <td>78.783916</td>\n",
              "    </tr>\n",
              "    <tr>\n",
              "      <th>3</th>\n",
              "      <td>SVM1</td>\n",
              "      <td>78.473357</td>\n",
              "    </tr>\n",
              "    <tr>\n",
              "      <th>4</th>\n",
              "      <td>XGradientBoosting1</td>\n",
              "      <td>0.711017</td>\n",
              "    </tr>\n",
              "    <tr>\n",
              "      <th>9</th>\n",
              "      <td>XGradientBoosting2</td>\n",
              "      <td>0.277869</td>\n",
              "    </tr>\n",
              "    <tr>\n",
              "      <th>19</th>\n",
              "      <td>XGradientBoosting4</td>\n",
              "      <td>0.277869</td>\n",
              "    </tr>\n",
              "    <tr>\n",
              "      <th>14</th>\n",
              "      <td>XGradientBoosting3</td>\n",
              "      <td>0.269696</td>\n",
              "    </tr>\n",
              "  </tbody>\n",
              "</table>\n",
              "</div>\n",
              "      <button class=\"colab-df-convert\" onclick=\"convertToInteractive('df-77240827-0b27-4b74-a473-626b84156b1c')\"\n",
              "              title=\"Convert this dataframe to an interactive table.\"\n",
              "              style=\"display:none;\">\n",
              "\n",
              "  <svg xmlns=\"http://www.w3.org/2000/svg\" height=\"24px\"viewBox=\"0 0 24 24\"\n",
              "       width=\"24px\">\n",
              "    <path d=\"M0 0h24v24H0V0z\" fill=\"none\"/>\n",
              "    <path d=\"M18.56 5.44l.94 2.06.94-2.06 2.06-.94-2.06-.94-.94-2.06-.94 2.06-2.06.94zm-11 1L8.5 8.5l.94-2.06 2.06-.94-2.06-.94L8.5 2.5l-.94 2.06-2.06.94zm10 10l.94 2.06.94-2.06 2.06-.94-2.06-.94-.94-2.06-.94 2.06-2.06.94z\"/><path d=\"M17.41 7.96l-1.37-1.37c-.4-.4-.92-.59-1.43-.59-.52 0-1.04.2-1.43.59L10.3 9.45l-7.72 7.72c-.78.78-.78 2.05 0 2.83L4 21.41c.39.39.9.59 1.41.59.51 0 1.02-.2 1.41-.59l7.78-7.78 2.81-2.81c.8-.78.8-2.07 0-2.86zM5.41 20L4 18.59l7.72-7.72 1.47 1.35L5.41 20z\"/>\n",
              "  </svg>\n",
              "      </button>\n",
              "\n",
              "\n",
              "\n",
              "    <div id=\"df-f2419e42-a451-46b7-a714-c67377e30ecc\">\n",
              "      <button class=\"colab-df-quickchart\" onclick=\"quickchart('df-f2419e42-a451-46b7-a714-c67377e30ecc')\"\n",
              "              title=\"Suggest charts.\"\n",
              "              style=\"display:none;\">\n",
              "\n",
              "<svg xmlns=\"http://www.w3.org/2000/svg\" height=\"24px\"viewBox=\"0 0 24 24\"\n",
              "     width=\"24px\">\n",
              "    <g>\n",
              "        <path d=\"M19 3H5c-1.1 0-2 .9-2 2v14c0 1.1.9 2 2 2h14c1.1 0 2-.9 2-2V5c0-1.1-.9-2-2-2zM9 17H7v-7h2v7zm4 0h-2V7h2v10zm4 0h-2v-4h2v4z\"/>\n",
              "    </g>\n",
              "</svg>\n",
              "      </button>\n",
              "    </div>\n",
              "\n",
              "<style>\n",
              "  .colab-df-quickchart {\n",
              "    background-color: #E8F0FE;\n",
              "    border: none;\n",
              "    border-radius: 50%;\n",
              "    cursor: pointer;\n",
              "    display: none;\n",
              "    fill: #1967D2;\n",
              "    height: 32px;\n",
              "    padding: 0 0 0 0;\n",
              "    width: 32px;\n",
              "  }\n",
              "\n",
              "  .colab-df-quickchart:hover {\n",
              "    background-color: #E2EBFA;\n",
              "    box-shadow: 0px 1px 2px rgba(60, 64, 67, 0.3), 0px 1px 3px 1px rgba(60, 64, 67, 0.15);\n",
              "    fill: #174EA6;\n",
              "  }\n",
              "\n",
              "  [theme=dark] .colab-df-quickchart {\n",
              "    background-color: #3B4455;\n",
              "    fill: #D2E3FC;\n",
              "  }\n",
              "\n",
              "  [theme=dark] .colab-df-quickchart:hover {\n",
              "    background-color: #434B5C;\n",
              "    box-shadow: 0px 1px 3px 1px rgba(0, 0, 0, 0.15);\n",
              "    filter: drop-shadow(0px 1px 2px rgba(0, 0, 0, 0.3));\n",
              "    fill: #FFFFFF;\n",
              "  }\n",
              "</style>\n",
              "\n",
              "    <script>\n",
              "      async function quickchart(key) {\n",
              "        const containerElement = document.querySelector('#' + key);\n",
              "        const charts = await google.colab.kernel.invokeFunction(\n",
              "            'suggestCharts', [key], {});\n",
              "      }\n",
              "    </script>\n",
              "\n",
              "      <script>\n",
              "\n",
              "function displayQuickchartButton(domScope) {\n",
              "  let quickchartButtonEl =\n",
              "    domScope.querySelector('#df-f2419e42-a451-46b7-a714-c67377e30ecc button.colab-df-quickchart');\n",
              "  quickchartButtonEl.style.display =\n",
              "    google.colab.kernel.accessAllowed ? 'block' : 'none';\n",
              "}\n",
              "\n",
              "        displayQuickchartButton(document);\n",
              "      </script>\n",
              "      <style>\n",
              "    .colab-df-container {\n",
              "      display:flex;\n",
              "      flex-wrap:wrap;\n",
              "      gap: 12px;\n",
              "    }\n",
              "\n",
              "    .colab-df-convert {\n",
              "      background-color: #E8F0FE;\n",
              "      border: none;\n",
              "      border-radius: 50%;\n",
              "      cursor: pointer;\n",
              "      display: none;\n",
              "      fill: #1967D2;\n",
              "      height: 32px;\n",
              "      padding: 0 0 0 0;\n",
              "      width: 32px;\n",
              "    }\n",
              "\n",
              "    .colab-df-convert:hover {\n",
              "      background-color: #E2EBFA;\n",
              "      box-shadow: 0px 1px 2px rgba(60, 64, 67, 0.3), 0px 1px 3px 1px rgba(60, 64, 67, 0.15);\n",
              "      fill: #174EA6;\n",
              "    }\n",
              "\n",
              "    [theme=dark] .colab-df-convert {\n",
              "      background-color: #3B4455;\n",
              "      fill: #D2E3FC;\n",
              "    }\n",
              "\n",
              "    [theme=dark] .colab-df-convert:hover {\n",
              "      background-color: #434B5C;\n",
              "      box-shadow: 0px 1px 3px 1px rgba(0, 0, 0, 0.15);\n",
              "      filter: drop-shadow(0px 1px 2px rgba(0, 0, 0, 0.3));\n",
              "      fill: #FFFFFF;\n",
              "    }\n",
              "  </style>\n",
              "\n",
              "      <script>\n",
              "        const buttonEl =\n",
              "          document.querySelector('#df-77240827-0b27-4b74-a473-626b84156b1c button.colab-df-convert');\n",
              "        buttonEl.style.display =\n",
              "          google.colab.kernel.accessAllowed ? 'block' : 'none';\n",
              "\n",
              "        async function convertToInteractive(key) {\n",
              "          const element = document.querySelector('#df-77240827-0b27-4b74-a473-626b84156b1c');\n",
              "          const dataTable =\n",
              "            await google.colab.kernel.invokeFunction('convertToInteractive',\n",
              "                                                     [key], {});\n",
              "          if (!dataTable) return;\n",
              "\n",
              "          const docLinkHtml = 'Like what you see? Visit the ' +\n",
              "            '<a target=\"_blank\" href=https://colab.research.google.com/notebooks/data_table.ipynb>data table notebook</a>'\n",
              "            + ' to learn more about interactive tables.';\n",
              "          element.innerHTML = '';\n",
              "          dataTable['output_type'] = 'display_data';\n",
              "          await google.colab.output.renderOutput(dataTable, element);\n",
              "          const docLink = document.createElement('div');\n",
              "          docLink.innerHTML = docLinkHtml;\n",
              "          element.appendChild(docLink);\n",
              "        }\n",
              "      </script>\n",
              "    </div>\n",
              "  </div>\n"
            ]
          },
          "metadata": {},
          "execution_count": 77
        }
      ],
      "source": [
        "performance_matrix_list = {'Models':['RF1','KNN1','ANN (MLP)1','SVM1', 'XGradientBoosting1',\n",
        "                                     'RF2','KNN2','ANN (MLP)2','SVM2', 'XGradientBoosting2',\n",
        "                                     'RF3','KNN3','ANN (MLP)3','SVM3', 'XGradientBoosting3',\n",
        "                                     'RF4','KNN4','ANN (MLP)4','SVM4', 'XGradientBoosting4'],\n",
        "                           'Accuracy':[Class_Acc_RF1, Class_Acc_KNN1, Class_Acc_MLP1, Class_Acc_SVM1, Class_Acc_XGB1,\n",
        "                                       Class_Acc_RF2, Class_Acc_KNN2, Class_Acc_MLP2, Class_Acc_SVM2, Class_Acc_XGB2,\n",
        "                                       Class_Acc_RF3, Class_Acc_KNN3, Class_Acc_MLP3, Class_Acc_SVM3, Class_Acc_XGB3,\n",
        "                                       Class_Acc_RF4, Class_Acc_KNN4, Class_Acc_MLP4, Class_Acc_SVM4, Class_Acc_XGB4]}\n",
        "\n",
        "performance_df = pd.DataFrame(performance_matrix_list)\n",
        "performance_df = performance_df.sort_values(by='Accuracy', ascending=False)\n",
        "performance_df"
      ]
    },
    {
      "cell_type": "code",
      "execution_count": null,
      "id": "1f60aa5b-2d14-46b3-8ed1-74e5959e29ad",
      "metadata": {
        "id": "1f60aa5b-2d14-46b3-8ed1-74e5959e29ad"
      },
      "outputs": [],
      "source": []
    },
    {
      "cell_type": "markdown",
      "id": "e88819f0-913a-4e46-a3b8-32af498d764d",
      "metadata": {
        "id": "e88819f0-913a-4e46-a3b8-32af498d764d"
      },
      "source": [
        "# Reference data for image classification\n",
        "The composite median image of the 6 months period has been classified using polygonized reference as stated earlier. The data is read in Eart Engine Feature Collection as 'gt_sample' below."
      ]
    },
    {
      "cell_type": "code",
      "execution_count": null,
      "id": "50a4bc97-e898-48b8-a107-0647e41aaf8a",
      "metadata": {
        "collapsed": true,
        "jupyter": {
          "outputs_hidden": true
        },
        "tags": [],
        "colab": {
          "base_uri": "https://localhost:8080/"
        },
        "id": "50a4bc97-e898-48b8-a107-0647e41aaf8a",
        "outputId": "c6222555-0ad1-4769-c9b2-15ddde3d0c58"
      },
      "outputs": [
        {
          "output_type": "stream",
          "name": "stdout",
          "text": [
            "{'type': 'FeatureCollection', 'columns': {'Id': 'Integer', 'system:index': 'String'}, 'version': 1689414547837864, 'id': 'projects/project5yr/assets/Bura/Maize', 'properties': {'Class': 2, 'system:asset_size': 15994}, 'features': [{'type': 'Feature', 'geometry': {'type': 'Point', 'coordinates': [88.31198356687447, 24.48461620649863]}, 'id': '00000000000000000000', 'properties': {'Id': 0}}, {'type': 'Feature', 'geometry': {'type': 'Polygon', 'coordinates': [[[88.30666382361012, 24.410831426306366], [88.30667279829667, 24.410795816851458], [88.30669059932235, 24.41076456532791], [88.30670847451164, 24.410733405257307], [88.30673517602548, 24.410711044120657], [88.3067619516937, 24.410688774435368], [88.30679317759063, 24.41067543626329], [88.30682885370666, 24.410666497963476], [88.30686452979337, 24.410662000661127], [88.30689575561651, 24.41066651712491], [88.30693143164824, 24.410675433458724], [88.30696258325278, 24.41068874046348], [88.30699380900539, 24.41071102093185], [88.30701613429217, 24.410733383658005], [88.30703845956748, 24.410764537758656], [88.30705181022496, 24.410795773296147], [88.307060710661, 24.41083149096907], [88.30706516087835, 24.410862718134904], [88.307060710661, 24.41089837793719], [88.30705181022496, 24.41093398823659], [88.30703845956748, 24.410965198661383], [88.30701613429217, 24.410991958885603], [88.30699380900539, 24.411018719104206], [88.30696258325278, 24.411036588940185], [88.30693143164824, 24.41105445959336], [88.30689575561651, 24.411063307272165], [88.30686452979337, 24.41106332244314], [88.30682885370666, 24.411063378733704], [88.30679317759063, 24.411054371745987], [88.3067619516937, 24.411036622886414], [88.30673517602548, 24.41101874226377], [88.30670847451164, 24.41099198045568], [88.30669059932235, 24.410965226204997], [88.30667279829667, 24.410934031772655], [88.30666382361012, 24.41089831326474], [88.30666382361012, 24.410862694601292], [88.30666382361012, 24.410831426306366]]]}, 'id': '00000000000000000001', 'properties': {'Id': 0}}, {'type': 'Feature', 'geometry': {'type': 'Polygon', 'coordinates': [[[88.30790349951585, 24.411562752314705], [88.30791239977725, 24.41154046500585], [88.30792130003684, 24.41151817769509], [88.30793472459159, 24.411500291047094], [88.30794807497341, 24.4114869352043], [88.30796594964487, 24.41147353902426], [88.30798820026297, 24.41146463248845], [88.30801052503831, 24.411460167773125], [88.30803277563356, 24.411455702229766], [88.30805065027013, 24.411460160669733], [88.3080729008448, 24.411464667752405], [88.3080952255766, 24.411473616655893], [88.30811310018746, 24.411486957087437], [88.30812645051441, 24.41150033785705], [88.30813980083727, 24.411518159624407], [88.30814877521865, 24.41154046437901], [88.30815767542977, 24.411562768307533], [88.30815767542977, 24.411585063933494], [88.30815767542977, 24.411607359558214], [88.30814877521865, 24.41162520588203], [88.30813980083727, 24.411647492377785], [88.30812645051441, 24.411665289230566], [88.30811310018746, 24.41167873571635], [88.3080952255766, 24.41169204127435], [88.3080729008448, 24.41170094699544], [88.30805065027013, 24.411709944169875], [88.30803277563356, 24.41170992672802], [88.30801052503831, 24.411709860636993], [88.30798820026297, 24.411701002356747], [88.30796594964487, 24.411692054265004], [88.30794807497341, 24.411678713821612], [88.30793472459159, 24.411665333041626], [88.30792130003684, 24.411647510438094], [88.30791239977725, 24.41162520650152], [88.30790349951585, 24.411607343561233], [88.30790349951585, 24.41158504793858], [88.30790349951585, 24.411562752314705]]]}, 'id': '00000000000000000002', 'properties': {'Id': 0}}, {'type': 'Feature', 'geometry': {'type': 'Polygon', 'coordinates': [[[88.30871059746681, 24.411402240055295], [88.30871504751501, 24.411379903231797], [88.30871949756273, 24.411362098041472], [88.30872839765682, 24.41133981066461], [88.30874182196195, 24.411321923928515], [88.30875962213914, 24.411304085814347], [88.3087774964764, 24.411295221159403], [88.30879529663896, 24.411281824042245], [88.30881762099919, 24.41127735919895], [88.30883987118068, 24.411277334531093], [88.30886219551797, 24.411277401316642], [88.30888451984379, 24.411281818469163], [88.30890231996247, 24.411295248621865], [88.30892019424094, 24.411304147960635], [88.30893799434499, 24.411321928478596], [88.30894689439427, 24.411339791374413], [88.30896031863182, 24.411362054904913], [88.30896476865439, 24.411379958988555], [88.30896476865439, 24.411402254631188], [88.30896476865439, 24.411424550272592], [88.30896031863182, 24.411446796470507], [88.30894689439427, 24.411469124223082], [88.30893799434499, 24.411486970606607], [88.30892019424094, 24.411500367733687], [88.30890231996247, 24.411513673401263], [88.30888451984379, 24.411522629522388], [88.30886219551797, 24.411527094371284], [88.30883987118068, 24.41153155921665], [88.30881762099919, 24.41152705224954], [88.30879529663896, 24.411522635087596], [88.3087774964764, 24.411513736561478], [88.30875962213914, 24.41150030557588], [88.30874182196195, 24.411486966044652], [88.30872839765682, 24.41146914350292], [88.30871949756273, 24.41144683959958], [88.30871504751501, 24.41142449451175], [88.30871059746681, 24.411402240055295]]]}, 'id': '00000000000000000003', 'properties': {'Id': 0}}, {'type': 'Feature', 'geometry': {'type': 'Polygon', 'coordinates': [[[88.30666834803911, 24.408258586172785], [88.30667279829667, 24.40821395345139], [88.30668169881042, 24.408169370231487], [88.30669949983245, 24.408129236418873], [88.30672182527061, 24.40809359396456], [88.3067530511964, 24.408057869245205], [88.30678427709972, 24.408031117219263], [88.3068244034651, 24.40800437355523], [88.30686452979337, 24.407991043618807], [88.30690910631789, 24.407977672536635], [88.30695368279662, 24.4079731835125], [88.30699825922959, 24.4079776671805], [88.30703845956748, 24.407990984236896], [88.3070830359134, 24.408004349951536], [88.3071187117912, 24.408031121041127], [88.30715438763968, 24.408057892120958], [88.30718108887925, 24.408093536087772], [88.3072078642724, 24.408129271505494], [88.3072212148778, 24.40816938928887], [88.30723463964907, 24.408213948926306], [88.30723463964907, 24.408258540530667], [88.30723463964907, 24.40830313213012], [88.3072212148778, 24.408347755695615], [88.3072078642724, 24.408387848414016], [88.30718108887925, 24.408427973093698], [88.30715438763968, 24.40845921652631], [88.3071187117912, 24.40849045077205], [88.3070830359134, 24.408512712311705], [88.30703845956748, 24.408530524451535], [88.30699825922959, 24.408539503189083], [88.30695368279662, 24.408543901578074], [88.30690910631789, 24.40853950852682], [88.30686452979337, 24.40853058379891], [88.3068244034651, 24.408512735867095], [88.30678427709972, 24.40849044689379], [88.3067530511964, 24.408459193591447], [88.30672182527061, 24.40842803091404], [88.30669949983245, 24.408387903912455], [88.30668169881042, 24.408347736602913], [88.30667279829667, 24.40830313663682], [88.30666834803911, 24.408258586172785]]]}, 'id': '00000000000000000004', 'properties': {'Id': 0}}, {'type': 'Feature', 'geometry': {'type': 'Polygon', 'coordinates': [[[88.30993241522775, 24.408597487358346], [88.30994131507312, 24.408557344965025], [88.30995466483773, 24.408517161341276], [88.30997253868283, 24.408481559611474], [88.30999923818875, 24.40844587459836], [88.31003046175678, 24.40841912187797], [88.31006613521201, 24.40839676895594], [88.31010625854346, 24.408378997096623], [88.3101463818378, 24.40837001666578], [88.31018657925999, 24.408365568717414], [88.31022670248008, 24.408370002008944], [88.3102712755517, 24.408378925724637], [88.31030694880899, 24.40839681397452], [88.31034262203694, 24.40841905261884], [88.31037384535792, 24.408445864162466], [88.31040061878154, 24.408481508376866], [88.3104184182784, 24.40851714360721], [88.31043176789626, 24.408557351741784], [88.31044074180373, 24.408597420668443], [88.31044074180373, 24.40863757124847], [88.31043176789626, 24.408682153882197], [88.3104184182784, 24.408722337539306], [88.31040061878154, 24.40875794012989], [88.31037384535792, 24.408789183334893], [88.31034262203694, 24.408820377135697], [88.31030694880899, 24.408842730098474], [88.3102712755517, 24.408860551385605], [88.31022670248008, 24.40886948243314], [88.31018657925999, 24.408873931202994], [88.3101463818378, 24.40886949707526], [88.31010625854346, 24.408860532095073], [88.31006613521201, 24.40884268504059], [88.3100304617568, 24.40882044634885], [88.30999923818875, 24.40878919372365], [88.30997253868283, 24.408757991321103], [88.30995466483773, 24.40872226460518], [88.30994131507312, 24.408682147083], [88.30993241522775, 24.408637547297545], [88.30993241522775, 24.408597487358346]]]}, 'id': '00000000000000000005', 'properties': {'Id': 0}}, {'type': 'Feature', 'geometry': {'type': 'Polygon', 'coordinates': [[[88.3093393105863, 24.40771900723229], [88.30934376057002, 24.40769667017536], [88.30934821055328, 24.407678864793862], [88.3093571846848, 24.40765657798264], [88.30937053462911, 24.407638780813745], [88.30938833454844, 24.407620942432715], [88.30940620862677, 24.40761198696062], [88.30942400853148, 24.407603030662315], [88.30944633256834, 24.407594124607016], [88.3094686565937, 24.407594191270523], [88.30949090644143, 24.407594166473395], [88.30951323044386, 24.407603115219043], [88.30953103030467, 24.407612013718467], [88.30954890432423, 24.40762091303929], [88.30956670417044, 24.407638784256104], [88.30958012821627, 24.407656606876134], [88.30958902813387, 24.407678910930542], [88.309593478092, 24.40769672452248], [88.309593478092, 24.407719020373026], [88.309593478092, 24.407741316222346], [88.30958902813387, 24.40776356265286], [88.30958012821627, 24.40778585029759], [88.30956670417044, 24.407803737289676], [88.30954890432423, 24.40781713464221], [88.30953103030467, 24.407830531168315], [88.30951323044386, 24.407839396839965], [88.30949090644143, 24.40784386185657], [88.3094686565937, 24.40784832769333], [88.30944633256834, 24.40784381998614], [88.30942400853148, 24.40783940290906], [88.30940620862677, 24.407830504400483], [88.30938833454844, 24.407817073390568], [88.30937053462911, 24.407803733835447], [88.3093571846848, 24.40778591202706], [88.30934821055328, 24.40776360714224], [88.30934376057002, 24.40774126187115], [88.3093393105863, 24.40771900723229]]]}, 'id': '00000000000000000006', 'properties': {'Id': 0}}, {'type': 'Feature', 'geometry': {'type': 'Polygon', 'coordinates': [[[88.3115867167879, 24.408419081276975], [88.311595616294, 24.408396793530734], [88.31160451579827, 24.408374505782586], [88.31161793921376, 24.408356618618228], [88.31163128846262, 24.40834326230231], [88.31164916161715, 24.408329865529694], [88.31167141034696, 24.408320958327053], [88.31169373322776, 24.40831205194326], [88.31171153219422, 24.408312068093284], [88.31173385505437, 24.408312043783592], [88.31175617790302, 24.40832099218447], [88.31177842657794, 24.408329939759355], [88.31179629967188, 24.408343279842004], [88.31180964886589, 24.40835666038216], [88.31182307221792, 24.408374482783064], [88.31183197167553, 24.40839678668222], [88.31184087113134, 24.408419090579756], [88.31184087113134, 24.408436945369864], [88.31184087113134, 24.408459241198035], [88.31183197167553, 24.40848152895755], [88.31182307221792, 24.408503816715157], [88.31180964886589, 24.408521613259023], [88.31179629967188, 24.408535060218757], [88.31177842657794, 24.408548366368507], [88.31175617790302, 24.408557364214342], [88.31173385505437, 24.408566270600474], [88.31171153219422, 24.408566204274653], [88.31169373322776, 24.408566278756396], [88.31167141034696, 24.408557330349606], [88.31164916161715, 24.408548382761975], [88.31163128846262, 24.408535042667488], [88.31161793921376, 24.408521662116947], [88.31160451579827, 24.40850383970433], [88.311595616294, 24.408481535798735], [88.3115867167879, 24.408459231891527], [88.3115867167879, 24.408436936065428], [88.3115867167879, 24.408419081276975]]]}, 'id': '00000000000000000007', 'properties': {'Id': 0}}, {'type': 'Feature', 'geometry': {'type': 'Polygon', 'coordinates': [[[88.31069045301375, 24.407879565616707], [88.31069490285893, 24.407857228516736], [88.31070380254793, 24.40783494079927], [88.310717152078, 24.407817143507447], [88.31073502560905, 24.407803746830126], [88.31075282496876, 24.407790349326973], [88.31077069848511, 24.407781393688587], [88.31079302182924, 24.40777701910704], [88.31081527099799, 24.407772553065396], [88.3108375943192, 24.40777696993267], [88.3108598434651, 24.407781476607145], [88.31087771693738, 24.4077903757674], [88.31089551623856, 24.407803715146922], [88.31091338969615, 24.407817145980527], [88.31092673916174, 24.4078349676559], [88.31093571296687, 24.407857272453143], [88.3109401627869, 24.4078795270491], [88.31094461260648, 24.40790187227732], [88.3109401627869, 24.407924118750863], [88.31093571296687, 24.40794192417997], [88.31092673916174, 24.40796430171777], [88.31091338969615, 24.407982099022888], [88.31089551623856, 24.407995495715802], [88.31087771693738, 24.408008893228903], [88.3108598434651, 24.408017758240668], [88.3108375943192, 24.408026665326425], [88.31081527099799, 24.408026689501742], [88.31079302182924, 24.408026714496685], [88.31077069848511, 24.408017765947957], [88.31075282496876, 24.408008866778488], [88.31073502560905, 24.40799543675421], [88.310717152078, 24.407982096537953], [88.31070380254793, 24.40796427485058], [88.31069490285893, 24.40794197086963], [88.31069045301375, 24.40792415731438], [88.31069045301375, 24.40790186146615], [88.31069045301375, 24.407879565616707]]]}, 'id': '00000000000000000008', 'properties': {'Id': 0}}, {'type': 'Feature', 'geometry': {'type': 'Polygon', 'coordinates': [[[88.31654523874666, 24.41567849306181], [88.31655413723568, 24.41564732346206], [88.31657200836231, 24.41561607185028], [88.31658980532757, 24.415584819413194], [88.31661657491573, 24.415562548160615], [88.31664334448735, 24.41554027690148], [88.31667456327439, 24.415526936788154], [88.31671023126727, 24.415517996217652], [88.3167458992308, 24.415513496607407], [88.31677711794401, 24.415518010980367], [88.31681278585255, 24.415526924893918], [88.31684400451763, 24.415540230559248], [88.31687522316027, 24.41556259941999], [88.31689746921019, 24.415584869038835], [88.31691978940215, 24.415616112042677], [88.31693313701976, 24.415647255808697], [88.31694210958263, 24.415678532449455], [88.31694655878665, 24.4157142000289], [88.31694210958263, 24.415749859824974], [88.31693313701976, 24.41578556022305], [88.31691978940215, 24.415816771264076], [88.31689746921019, 24.415843532731866], [88.31687522316027, 24.415870204382237], [88.31684400451763, 24.415888076121487], [88.31681278585255, 24.415905947852874], [88.31677711794401, 24.41591479780314], [88.3167458992308, 24.415914815027005], [88.31671023126727, 24.41591487366269], [88.31667456327439, 24.415905959727983], [88.31664334448735, 24.415888122438208], [88.31661657491573, 24.415870243725813], [88.31658980532757, 24.415843483077218], [88.31657200836231, 24.41581673104622], [88.31655413723568, 24.415785537225304], [88.31654523874666, 24.415749820427006], [88.31654523874666, 24.415714202061974], [88.31654523874666, 24.41567849306181]]]}, 'id': '00000000000000000009', 'properties': {'Id': 0}}, {'type': 'Feature', 'geometry': {'type': 'Polygon', 'coordinates': [[[88.31726311848246, 24.41792585268616], [88.31727209097706, 24.417890243091243], [88.31728988765508, 24.417858990751753], [88.31730775847856, 24.417832270803576], [88.3173344534709, 24.417805467163113], [88.3173612225995, 24.417787636857774], [88.31739244086987, 24.417774296687604], [88.31742810827242, 24.41776535601876], [88.31746377564565, 24.417760946918182], [88.31749944298953, 24.417765329068942], [88.31753066116042, 24.417774284228667], [88.31756187930884, 24.417787680327447], [88.3175930974348, 24.417805517364986], [88.31761541726878, 24.417832228540192], [88.31763773709129, 24.417859030342196], [88.31765108448798, 24.41789017388888], [88.31765998275014, 24.41792589045203], [88.31766443188054, 24.41796155782418], [88.31765998275014, 24.41799721744938], [88.31765108448798, 24.418028477571475], [88.31763773709129, 24.418059688501934], [88.31761541726878, 24.41809089086183], [88.3175930974348, 24.418113211331193], [88.31756187930884, 24.4181354334139], [88.31753066116042, 24.418148864236457], [88.31749944298953, 24.41815776347866], [88.31746377564565, 24.41816226320995], [88.31742810827242, 24.418157790418235], [88.31739244086987, 24.418148876676486], [88.3173612225995, 24.41813548055026], [88.3173344534709, 24.41811316110033], [88.31730775847856, 24.418090842464686], [88.31728988765508, 24.418059648886047], [88.31727209097706, 24.418028456123213], [88.31726311848246, 24.417997270304674], [88.31726311848246, 24.417961561497], [88.31726311848246, 24.41792585268616]]]}, 'id': '0000000000000000000a', 'properties': {'Id': 0}}, {'type': 'Feature', 'geometry': {'type': 'Polygon', 'coordinates': [[[88.31611714511384, 24.41397512885773], [88.31612604369069, 24.413948400137578], [88.31613946570731, 24.41391718984509], [88.31615726285003, 24.41389481929564], [88.31617958342287, 24.413872589421953], [88.31620635326418, 24.41385475912342], [88.31623312308898, 24.413841369805784], [88.3162642680167, 24.41383246987321], [88.31629548707656, 24.413828011741167], [88.31632670611395, 24.413832435576705], [88.3163579251289, 24.413841391025155], [88.31638469486015, 24.413854738233727], [88.31641146457488, 24.413872526424097], [88.31643378501691, 24.413894887641757], [88.3164515820389, 24.413917198816527], [88.31646492980057, 24.41394834274255], [88.31647390246027, 24.41397508791441], [88.31647390246027, 24.414006356078676], [88.31647390246027, 24.41403753360817], [88.31646492980057, 24.41406879314352], [88.3164515820389, 24.414100004277437], [88.31643378501691, 24.414122284220067], [88.31641146457488, 24.414144604751154], [88.31638469486015, 24.414162435072924], [88.3163579251289, 24.414175824405262], [88.31632670611395, 24.414184723526226], [88.31629548707656, 24.414189181656987], [88.3162642680167, 24.41418466718237], [88.31623312308898, 24.41417580317067], [88.31620635326418, 24.414162365310258], [88.31617958342287, 24.41414457709361], [88.31615726285003, 24.414122306483346], [88.31613946570731, 24.414099995285167], [88.31612604369069, 24.414068759891293], [88.31611714511384, 24.414037574543332], [88.31611714511384, 24.414006306385563], [88.31611714511384, 24.41397512885773]]]}, 'id': '0000000000000000000b', 'properties': {'Id': 0}}, {'type': 'Feature', 'geometry': {'type': 'Polygon', 'coordinates': [[[88.31839126535627, 24.41429618834494], [88.31844925134234, 24.41418915779788], [88.31906462469631, 24.414759960918225], [88.31894420529346, 24.41489820447746], [88.31839126535627, 24.41429618834494]]]}, 'id': '0000000000000000000c', 'properties': {'Id': 0}}, {'type': 'Feature', 'geometry': {'type': 'Polygon', 'coordinates': [[[88.31692423860846, 24.414907055776062], [88.31746377564565, 24.41499622210757], [88.31719623255512, 24.415241505358594], [88.31693313701976, 24.415156755105674], [88.31692423860846, 24.414907055776062]]]}, 'id': '0000000000000000000d', 'properties': {'Id': 0}}, {'type': 'Feature', 'geometry': {'type': 'Polygon', 'coordinates': [[[88.3167458992308, 24.420026130691703], [88.31692423860846, 24.419936928612177], [88.31701344509901, 24.420115280219935], [88.31692423860846, 24.42020891227398], [88.3167458992308, 24.420026130691703]]]}, 'id': '0000000000000000000e', 'properties': {'Id': 0}}, {'type': 'Feature', 'geometry': {'type': 'Polygon', 'coordinates': [[[88.31719178337669, 24.421194400742284], [88.31728543848627, 24.421194439577206], [88.31746377564565, 24.421283598524276], [88.31764218622399, 24.42146637961129], [88.31755298102654, 24.421466390191775], [88.31719178337669, 24.42128358140729], [88.31719178337669, 24.421194400742284]]]}, 'id': '0000000000000000000f', 'properties': {'Id': 0}}, {'type': 'Feature', 'geometry': {'type': 'Polygon', 'coordinates': [[[88.31970675699965, 24.419758594784916], [88.31980040667855, 24.419758541330022], [88.31980040667855, 24.419847722397282], [88.31970675699965, 24.419758594784916]]]}, 'id': '00000000000000000010', 'properties': {'Id': 0}}, {'type': 'Feature', 'geometry': {'type': 'Polygon', 'coordinates': [[[88.32563735584091, 24.41841193024674], [88.32599855728368, 24.418411916424382], [88.32599855728368, 24.418501097990212], [88.32563735584091, 24.41850111180088], [88.32563735584091, 24.41841193024674]]]}, 'id': '00000000000000000011', 'properties': {'Id': 0}}, {'type': 'Feature', 'geometry': {'type': 'Polygon', 'coordinates': [[[88.32788473316022, 24.416342952938834], [88.32806310086228, 24.416342918795657], [88.32815228443803, 24.416432083734986], [88.32815228443803, 24.41652570678441], [88.32806310086228, 24.4165257239316], [88.32788473316022, 24.416342952938834]]]}, 'id': '00000000000000000012', 'properties': {'Id': 0}}, {'type': 'Feature', 'geometry': {'type': 'Polygon', 'coordinates': [[[88.33039967961366, 24.42290229123403], [88.33066721536484, 24.42281305523305], [88.33093919723244, 24.42308059046785], [88.33066721536484, 24.422991416700714], [88.33057803696465, 24.423080615872625], [88.33039967961366, 24.42290229123403]]]}, 'id': '00000000000000000013', 'properties': {'Id': 0}}, {'type': 'Feature', 'geometry': {'type': 'Polygon', 'coordinates': [[[88.33381087761087, 24.41787238837124], [88.33408283974441, 24.417872375079973], [88.33471162982163, 24.418411901932725], [88.334622459746, 24.4185902866843], [88.33381087761087, 24.41787238837124]]]}, 'id': '00000000000000000014', 'properties': {'Id': 0}}, {'type': 'Feature', 'geometry': {'type': 'Polygon', 'coordinates': [[[88.33587986686527, 24.415803324226275], [88.3359691084733, 24.4155358462275], [88.33623660983291, 24.415357414955572], [88.33623660983291, 24.415803327612203], [88.3361474428966, 24.416432067570945], [88.33587986686527, 24.416614938273455], [88.33587986686527, 24.415803324226275]]]}, 'id': '00000000000000000015', 'properties': {'Id': 0}}, {'type': 'Feature', 'geometry': {'type': 'Polygon', 'coordinates': [[[88.33695453410398, 24.415357467602455], [88.33722655061894, 24.41526826641152], [88.33767689355123, 24.415085485694977], [88.33731571533365, 24.415896962601757], [88.33722655061894, 24.41607535029901], [88.33704814651978, 24.415714133232083], [88.33695453410398, 24.415357467602455]]]}, 'id': '00000000000000000016', 'properties': {'Id': 0}}, {'type': 'Feature', 'geometry': {'type': 'MultiPolygon', 'coordinates': [[[[88.33713738572064, 24.414545854805898], [88.33695453410398, 24.414728747884492], [88.33695453410398, 24.41463956513231], [88.33713738572064, 24.414545854805898]]], [[[88.33713738572064, 24.414545854805898], [88.33713738572064, 24.41373876789026], [88.33740487986479, 24.413649607079684], [88.33749411833062, 24.413917133863023], [88.33740487986479, 24.4142783285781], [88.33713738572064, 24.414545854805898]]]]}, 'id': '00000000000000000017', 'properties': {'Id': 0}}, {'type': 'Feature', 'geometry': {'type': 'Polygon', 'coordinates': [[[88.4415204617632, 24.474734816103968], [88.44169880402939, 24.474645660515723], [88.44169880402939, 24.474913178355465], [88.4415204617632, 24.474734816103968]]]}, 'id': '00000000000000000018', 'properties': {'Id': 0}}, {'type': 'Feature', 'geometry': {'type': 'Polygon', 'coordinates': [[[88.412326689203, 24.46224932038882], [88.41259423596003, 24.46216013136085], [88.41268346716922, 24.462516945887877], [88.412326689203, 24.46251693453636], [88.412326689203, 24.46224932038882]]]}, 'id': '00000000000000000019', 'properties': {'Id': 0}}, {'type': 'Feature', 'geometry': {'type': 'Polygon', 'coordinates': [[[88.41070805506872, 24.461170281149787], [88.4109756118816, 24.461170269536055], [88.4109756118816, 24.46143779366087], [88.4107972161935, 24.461437831391546], [88.41070805506872, 24.461170281149787]]]}, 'id': '0000000000000000001a', 'properties': {'Id': 0}}, {'type': 'Feature', 'geometry': {'type': 'Polygon', 'coordinates': [[[88.46083280039748, 24.37969360245317], [88.46101564465008, 24.379421521500934], [88.46137238824646, 24.379243200744284], [88.46182276633387, 24.379154021694138], [88.46182276633387, 24.379332410472266], [88.46137238824646, 24.37951522537073], [88.46128318414902, 24.379693528878732], [88.46137238824646, 24.37987191183622], [88.46137238824646, 24.380143936044764], [88.46128318414902, 24.380143941590056], [88.46101564465008, 24.3798719344714], [88.46083280039748, 24.37969360245317]]]}, 'id': '0000000000000000001b', 'properties': {'Id': 0}}, {'type': 'Feature', 'geometry': {'type': 'Polygon', 'coordinates': [[[88.46460519103158, 24.392089884208325], [88.4646988961111, 24.392089831802977], [88.46478801920658, 24.392268207098112], [88.46460519103158, 24.392089884208325]]]}, 'id': '0000000000000000001c', 'properties': {'Id': 0}}, {'type': 'Feature', 'geometry': {'type': 'Polygon', 'coordinates': [[[88.35357360629412, 24.37690663865133], [88.35375646180628, 24.376728237157664], [88.35393479704948, 24.37708946816516], [88.35384559247467, 24.377267793855438], [88.35357360629412, 24.37690663865133]]]}, 'id': '0000000000000000001d', 'properties': {'Id': 0}}, {'type': 'Feature', 'geometry': {'type': 'Polygon', 'coordinates': [[[88.35761802963484, 24.38050062780147], [88.35780975806473, 24.380402536100313], [88.35842509093861, 24.381758087984803], [88.35833589562523, 24.381936505151042], [88.35761802963484, 24.38050062780147]]]}, 'id': '0000000000000000001e', 'properties': {'Id': 0}}, {'type': 'Feature', 'geometry': {'type': 'Polygon', 'coordinates': [[[88.35240532803417, 24.375109631591105], [88.35272192507551, 24.37479743834262], [88.3528556612527, 24.37493122177583], [88.35254358483195, 24.375247814901833], [88.35240532803417, 24.375109631591105]]]}, 'id': '0000000000000000001f', 'properties': {'Id': 0}}, {'type': 'Feature', 'geometry': {'type': 'Polygon', 'coordinates': [[[88.35357360629412, 24.37690663865133], [88.35372075021515, 24.376799639663783], [88.35393479704948, 24.37708946816516], [88.35379209927761, 24.377196424673777], [88.35357360629412, 24.37690663865133]]]}, 'id': '00000000000000000020', 'properties': {'Id': 0}}, {'type': 'Feature', 'geometry': {'type': 'Polygon', 'coordinates': [[[88.34109255812832, 24.382886248408415], [88.34180602935731, 24.382476074489574], [88.3419844138551, 24.38278818682505], [88.34126649885836, 24.383198403466277], [88.34109255812832, 24.382886248408415]]]}, 'id': '00000000000000000021', 'properties': {'Id': 0}}, {'type': 'Feature', 'geometry': {'type': 'Polygon', 'coordinates': [[[88.35278883026183, 24.38009045787441], [88.3530697123678, 24.37988529185086], [88.35339075000897, 24.380322298454306], [88.35311431547824, 24.380531863678513], [88.35278883026183, 24.38009045787441]]]}, 'id': '00000000000000000022', 'properties': {'Id': 0}}, {'type': 'Feature', 'geometry': {'type': 'Polygon', 'coordinates': [[[88.357885545382, 24.384455900895137], [88.3581843224365, 24.384353344179434], [88.35833589562523, 24.38481262057111], [88.35804163868535, 24.38491069413885], [88.357885545382, 24.384455900895137]]]}, 'id': '00000000000000000023', 'properties': {'Id': 0}}, {'type': 'Feature', 'geometry': {'type': 'Polygon', 'coordinates': [[[88.33740487986479, 24.39118909966812], [88.3375386633764, 24.391055327968175], [88.33767689355123, 24.39118907789124], [88.3375386633764, 24.39132733303509], [88.33740487986479, 24.39118909966812]]]}, 'id': '00000000000000000024', 'properties': {'Id': 0}}, {'type': 'Feature', 'geometry': {'type': 'Polygon', 'coordinates': [[[88.32854022715037, 24.395728531069974], [88.32894595828412, 24.395572375540294], [88.32903514004309, 24.39580873811605], [88.3286294097443, 24.395964803135605], [88.32854022715037, 24.395728531069974]]]}, 'id': '00000000000000000025', 'properties': {'Id': 0}}, {'type': 'Feature', 'geometry': {'type': 'Polygon', 'coordinates': [[[88.33113986523463, 24.399683688245734], [88.33150102081953, 24.399112922761702], [88.33246423591578, 24.399723848695107], [88.33210301423225, 24.400299056164446], [88.33113986523463, 24.399683688245734]]]}, 'id': '00000000000000000026', 'properties': {'Id': 0}}, {'type': 'Feature', 'geometry': {'type': 'Polygon', 'coordinates': [[[88.32680561514856, 24.40098133554323], [88.32692601271887, 24.40086093498642], [88.32701519863446, 24.400950103488704], [88.32689480131188, 24.401074945236477], [88.32680561514856, 24.40098133554323]]]}, 'id': '00000000000000000027', 'properties': {'Id': 0}}, {'type': 'Feature', 'geometry': {'type': 'Polygon', 'coordinates': [[[88.32204326718558, 24.394065223611896], [88.32249369379251, 24.393797731128963], [88.32276120420288, 24.39424362085531], [88.32231530317249, 24.39451560485749], [88.32204326718558, 24.394065223611896]]]}, 'id': '00000000000000000028', 'properties': {'Id': 0}}, {'type': 'Feature', 'geometry': {'type': 'Polygon', 'coordinates': [[[88.32244461049477, 24.394751960188], [88.32276120420288, 24.39451562233784], [88.3229886015826, 24.39481885996337], [88.32267200953494, 24.39505519811373], [88.32244461049477, 24.394751960188]]]}, 'id': '00000000000000000029', 'properties': {'Id': 0}}, {'type': 'Feature', 'geometry': {'type': 'Polygon', 'coordinates': [[[88.32223952771614, 24.39817657498758], [88.32270322398242, 24.397966966685495], [88.32278796998182, 24.398158689249012], [88.32232420047767, 24.39836829687782], [88.32223952771614, 24.39817657498758]]]}, 'id': '0000000000000000002a', 'properties': {'Id': 0}}, {'type': 'Feature', 'geometry': {'type': 'Polygon', 'coordinates': [[[88.32229743441242, 24.398533231434527], [88.32240449857424, 24.398466343438486], [88.32268987814064, 24.39894351361984], [88.32258281468351, 24.39900596057473], [88.32229743441242, 24.398533231434527]]]}, 'id': '0000000000000000002b', 'properties': {'Id': 0}}, {'type': 'Feature', 'geometry': {'type': 'Polygon', 'coordinates': [[[88.3249193923121, 24.398555573232766], [88.32527615138837, 24.39855560028564], [88.32527615138837, 24.398738413260478], [88.3249193923121, 24.39873838618391], [88.3249193923121, 24.398555573232766]]]}, 'id': '0000000000000000002c', 'properties': {'Id': 0}}, {'type': 'Feature', 'geometry': {'type': 'Polygon', 'coordinates': [[[88.3247588794259, 24.39841286815766], [88.32500858235643, 24.398287999585918], [88.32507997874345, 24.398430721168474], [88.32483020208427, 24.398555588992753], [88.3247588794259, 24.39841286815766]]]}, 'id': '0000000000000000002d', 'properties': {'Id': 0}}, {'type': 'Feature', 'geometry': {'type': 'Polygon', 'coordinates': [[[88.32474108581302, 24.398109675738837], [88.32483020208427, 24.398109659202987], [88.32483020208427, 24.398288031177586], [88.32474108581302, 24.398288047707652], [88.32474108581302, 24.398109675738837]]]}, 'id': '0000000000000000002e', 'properties': {'Id': 0}}, {'type': 'Feature', 'geometry': {'type': 'Polygon', 'coordinates': [[[88.32087502782973, 24.402247657934634], [88.3210221345937, 24.40224764889339], [88.3210221345937, 24.40268913240702], [88.32087502782973, 24.402689141424617], [88.32087502782973, 24.402247657934634]]]}, 'id': '0000000000000000002f', 'properties': {'Id': 0}}, {'type': 'Feature', 'geometry': {'type': 'Polygon', 'coordinates': [[[88.32087502782973, 24.402689141424617], [88.32084381206613, 24.402711455891087], [88.32069663055022, 24.40251079791993], [88.32072784641976, 24.402488483472727], [88.32087502782973, 24.402689141424617]]]}, 'id': '00000000000000000030', 'properties': {'Id': 0}}, {'type': 'Feature', 'geometry': {'type': 'Polygon', 'coordinates': [[[88.3207858292817, 24.402060418890272], [88.32087502782973, 24.40206040570789], [88.32087502782973, 24.40251077163879], [88.3207858292817, 24.402510784806537], [88.3207858292817, 24.402060418890272]]]}, 'id': '00000000000000000031', 'properties': {'Id': 0}}, {'type': 'Feature', 'geometry': {'type': 'Polygon', 'coordinates': [[[88.32923136891978, 24.403857459914764], [88.32942759690792, 24.403460547006013], [88.33111755236268, 24.404307758829454], [88.33092133202724, 24.404700232246082], [88.32923136891978, 24.403857459914764]]]}, 'id': '00000000000000000032', 'properties': {'Id': 0}}, {'type': 'Feature', 'geometry': {'type': 'Polygon', 'coordinates': [[[88.33354328714587, 24.405114880260246], [88.3337217056811, 24.404936560392624], [88.33426125605746, 24.405476123504368], [88.33408283974441, 24.40565444379216], [88.33354328714587, 24.405114880260246]]]}, 'id': '00000000000000000033', 'properties': {'Id': 0}}, {'type': 'Feature', 'geometry': {'type': 'Polygon', 'coordinates': [[[88.33246423591578, 24.406372403674126], [88.33274962337808, 24.40603791561583], [88.33345411466529, 24.406644362208937], [88.33316873184371, 24.406974319438604], [88.33246423591578, 24.406372403674126]]]}, 'id': '00000000000000000034', 'properties': {'Id': 0}}, {'type': 'Feature', 'geometry': {'type': 'Polygon', 'coordinates': [[[88.33488996942218, 24.406733579759162], [88.3350683082885, 24.40646154194434], [88.33534033664967, 24.406644336087563], [88.33515755156857, 24.406911884392844], [88.33488996942218, 24.406733579759162]]]}, 'id': '00000000000000000035', 'properties': {'Id': 0}}, {'type': 'Feature', 'geometry': {'type': 'Polygon', 'coordinates': [[[88.33452876796423, 24.405921982768188], [88.33480079971368, 24.405921967779808], [88.33480079971368, 24.406283147174886], [88.33452876796423, 24.406283162127767], [88.33452876796423, 24.405921982768188]]]}, 'id': '00000000000000000036', 'properties': {'Id': 0}}, {'type': 'Feature', 'geometry': {'type': 'Polygon', 'coordinates': [[[88.30964702588557, 24.408258521678185], [88.31005278548169, 24.407857261020567], [88.31117644757525, 24.40897645679847], [88.31077069848511, 24.409382251122075], [88.30964702588557, 24.408258521678185]]]}, 'id': '00000000000000000037', 'properties': {'Id': 0}}, {'type': 'Feature', 'geometry': {'type': 'Polygon', 'coordinates': [[[88.30659254524858, 24.408258558581082], [88.3072212148778, 24.407629848557143], [88.30758242136505, 24.40799105142267], [88.30695368279662, 24.408619761612965], [88.30659254524858, 24.408258558581082]]]}, 'id': '00000000000000000038', 'properties': {'Id': 0}}, {'type': 'Feature', 'geometry': {'type': 'Polygon', 'coordinates': [[[88.3529181207218, 24.499995664250452], [88.35357360629412, 24.4998886017256], [88.35360035303601, 24.50004918801193], [88.352944867869, 24.500156159962497], [88.3529181207218, 24.499995664250452]]]}, 'id': '00000000000000000039', 'properties': {'Id': 0}}, {'type': 'Feature', 'geometry': {'type': 'Polygon', 'coordinates': [[[88.34126649885836, 24.49485872789759], [88.34136010195304, 24.4948587538046], [88.34136010195304, 24.49503708367257], [88.34126649885836, 24.495037148374315], [88.34126649885836, 24.49485872789759]]]}, 'id': '0000000000000000003a', 'properties': {'Id': 0}}, {'type': 'Feature', 'geometry': {'type': 'Polygon', 'coordinates': [[[88.34126649885836, 24.49485872789759], [88.34126649885836, 24.494947983453464], [88.34117726816636, 24.494947914646133], [88.34117726816636, 24.49485874970789], [88.34126649885836, 24.49485872789759]]]}, 'id': '0000000000000000003b', 'properties': {'Id': 0}}, {'type': 'Feature', 'geometry': {'type': 'Polygon', 'coordinates': [[[88.34206467552276, 24.50618933219563], [88.34220289124988, 24.50611798984071], [88.34223409162911, 24.506180400018316], [88.34210032262384, 24.506251790964896], [88.34206467552276, 24.50618933219563]]]}, 'id': '0000000000000000003c', 'properties': {'Id': 0}}]}\n"
          ]
        }
      ],
      "source": [
        "# Join them in a FeatureCollection\n",
        "\n",
        "maize = ee.FeatureCollection(\"projects/project5yr/assets/Bura/Maize\")\n",
        "masterd = ee.FeatureCollection(\"projects/project5yr/assets/Bura/Mustard\")\n",
        "lentil = ee.FeatureCollection(\"projects/project5yr/assets/Bura/Lentil\")\n",
        "potato = ee.FeatureCollection(\"projects/project5yr/assets/Bura/Potato\")\n",
        "rice = ee.FeatureCollection(\"projects/project5yr/assets/Bura/Rice\")\n",
        "others = ee.FeatureCollection(\"projects/project5yr/assets/Bura/Others\")\n",
        "\n",
        "# gt_sample = maize.merge(masterd).merge(lentil).merge(potato).merge(rice).merge(others)\n",
        "gt_sample = maize\n",
        "print(gt_sample.getInfo())"
      ]
    },
    {
      "cell_type": "code",
      "execution_count": null,
      "id": "ee55fbdb-c924-4f2d-b4c9-00661dcb2cc7",
      "metadata": {
        "tags": [],
        "colab": {
          "base_uri": "https://localhost:8080/",
          "height": 621,
          "referenced_widgets": [
            "3d1b43f4d96f48f19d0299f510d736a4",
            "9de1c8da38974a86878910ffce113ff1",
            "48a900979c404b6fa891282ece4ed624",
            "d59e079654ee474e890bbc76d513cab4",
            "18a686882aa34b2abbe28b0804cafd3c",
            "019724ea734f4b788668515f99baa1c3",
            "94f527f3c427424fa60849d1722bc765",
            "5921c15a7dd046f0b71e30d19a417b41",
            "b7431713c7b04d708261f661930a7c59",
            "35b9ca7f31984a6195060c27a9d6908c",
            "7f24e87e99fa4e5a8b1f5671ad476aae",
            "355d06c50f5d4c689b50e1b12523510f",
            "c2cbed508cb14c6381d9d8caa31fb01f",
            "a786e91e5fb541c1ab695ae7ea34cdfe",
            "fd095ae7701d439ab0e505826561dfbe",
            "a785d9b663c7474fa60c5d601d01afd2",
            "18d4f5749b434ab1a4912b7db4d67ff6",
            "b897e07eba9a453aa9e67ca2d0851aca",
            "68f600bee5fd45799d44b710c4487d36",
            "6f70c2c5f85349dfaca9f35a3f477286",
            "5b2b8ddd49d3497982cd5b63656e8684",
            "ebe15390c9e5448d94be33b8ea370fca",
            "adc17eb20292495da8333109935a48dc",
            "f7d415971f38433399cde09e8c080a22",
            "f1a983cb3c57424fa4e54ac2c1a5167b"
          ]
        },
        "id": "ee55fbdb-c924-4f2d-b4c9-00661dcb2cc7",
        "outputId": "1ea616ed-5450-47ac-9783-baee62173be5"
      },
      "outputs": [
        {
          "output_type": "display_data",
          "data": {
            "text/plain": [
              "Map(bottom=226022.0, center=[24.40533076035819, 88.3348850350862], controls=(WidgetControl(options=['position'…"
            ],
            "application/vnd.jupyter.widget-view+json": {
              "version_major": 2,
              "version_minor": 0,
              "model_id": "3d1b43f4d96f48f19d0299f510d736a4"
            }
          },
          "metadata": {
            "application/vnd.jupyter.widget-view+json": {
              "colab": {
                "custom_widget_manager": {
                  "url": "https://ssl.gstatic.com/colaboratory-static/widgets/colab-cdn-widget-manager/b3e629b1971e1542/manager.min.js"
                }
              }
            }
          }
        }
      ],
      "source": [
        "Map.centerObject(gt_sample, 11);\n",
        "Map.addLayer(gt_sample.geometry(), {}, 'Classes')\n",
        "Map"
      ]
    },
    {
      "cell_type": "markdown",
      "id": "c1e77104-14d8-4d11-b4b5-cd1c4a71e9c3",
      "metadata": {
        "id": "c1e77104-14d8-4d11-b4b5-cd1c4a71e9c3"
      },
      "source": [
        "## Image Classification"
      ]
    },
    {
      "cell_type": "markdown",
      "id": "b8b73780-dabf-45c2-8e93-20ad3f12cae7",
      "metadata": {
        "id": "b8b73780-dabf-45c2-8e93-20ad3f12cae7"
      },
      "source": [
        "# Random Forest\n",
        "### Scheme 4"
      ]
    },
    {
      "cell_type": "code",
      "execution_count": null,
      "id": "f4f56482-4a09-4b5e-b578-5b11951f7770",
      "metadata": {
        "colab": {
          "base_uri": "https://localhost:8080/",
          "height": 621,
          "referenced_widgets": [
            "3d1b43f4d96f48f19d0299f510d736a4",
            "9de1c8da38974a86878910ffce113ff1",
            "48a900979c404b6fa891282ece4ed624",
            "d59e079654ee474e890bbc76d513cab4",
            "18a686882aa34b2abbe28b0804cafd3c",
            "019724ea734f4b788668515f99baa1c3",
            "94f527f3c427424fa60849d1722bc765",
            "5921c15a7dd046f0b71e30d19a417b41",
            "b7431713c7b04d708261f661930a7c59",
            "35b9ca7f31984a6195060c27a9d6908c",
            "7f24e87e99fa4e5a8b1f5671ad476aae",
            "355d06c50f5d4c689b50e1b12523510f",
            "c2cbed508cb14c6381d9d8caa31fb01f",
            "a786e91e5fb541c1ab695ae7ea34cdfe",
            "fd095ae7701d439ab0e505826561dfbe",
            "a785d9b663c7474fa60c5d601d01afd2",
            "18d4f5749b434ab1a4912b7db4d67ff6",
            "b897e07eba9a453aa9e67ca2d0851aca",
            "68f600bee5fd45799d44b710c4487d36",
            "6f70c2c5f85349dfaca9f35a3f477286",
            "5b2b8ddd49d3497982cd5b63656e8684",
            "ebe15390c9e5448d94be33b8ea370fca",
            "adc17eb20292495da8333109935a48dc",
            "f7d415971f38433399cde09e8c080a22",
            "f1a983cb3c57424fa4e54ac2c1a5167b"
          ]
        },
        "id": "f4f56482-4a09-4b5e-b578-5b11951f7770",
        "outputId": "0886861b-b133-41d0-a655-31cfc17a45e1"
      },
      "outputs": [
        {
          "output_type": "display_data",
          "data": {
            "text/plain": [
              "Map(bottom=56772.0, center=[24.40463676694895, 88.33831787109376], controls=(WidgetControl(options=['position'…"
            ],
            "application/vnd.jupyter.widget-view+json": {
              "version_major": 2,
              "version_minor": 0,
              "model_id": "3d1b43f4d96f48f19d0299f510d736a4"
            }
          },
          "metadata": {
            "application/vnd.jupyter.widget-view+json": {
              "colab": {
                "custom_widget_manager": {
                  "url": "https://ssl.gstatic.com/colaboratory-static/widgets/colab-cdn-widget-manager/b3e629b1971e1542/manager.min.js"
                }
              }
            }
          }
        }
      ],
      "source": [
        "# Use these bands for prediction.\n",
        "# bands = ['B2', 'B3', 'B4']                            # Scheme 1\n",
        "# bands = ['B2', 'B3', 'B4', 'B8']                      # Scheme 2\n",
        "# bands = ['B2', 'B3', 'B4', 'ndvi', 'evi']             # Scheme 3\n",
        "bands = ['B2', 'B3', 'B4', 'B8', 'ndvi', 'evi']       # Scheme 4\n",
        "\n",
        "\n",
        "# Overlay the points on the imagery to get training samples.\n",
        "samples = oct_mar_comp.select(bands).sampleRegions(**{\n",
        "  'collection': gt_sample,\n",
        "  'properties': ['Class'],\n",
        "  'scale': 10\n",
        "})\n",
        "\n",
        "# Train-Test Splitting\n",
        "# random uniforms to the ground truth dataset.\n",
        "withRandom = samples.randomColumn('random')\n",
        "\n",
        "# We want to reserve some of the data for testing, to avoid overfitting the model.\n",
        "split = 0.7;  # Roughly 70% training, 30% testing.\n",
        "training = withRandom.filter(ee.Filter.lt('random', split))\n",
        "testing = withRandom.filter(ee.Filter.gte('random', split))\n",
        "\n",
        "# Train Random Forest (RF) classifier with default parameters.\n",
        "trained = ee.Classifier.smileRandomForest(300).train(training, 'Class', bands)\n",
        "\n",
        "# Classify the test FeatureCollection.\n",
        "test = testing.classify(trained)\n",
        "\n",
        "# Print the confusion matrix.\n",
        "confusionMatrix = test.errorMatrix('Class', 'classification')\n",
        "rf_accuracy = confusionMatrix.accuracy()\n",
        "# print('Confusion Matrix', confusionMatrix)\n",
        "# print('Validation overall accuracy: ', rf_accuracy)\n",
        "\n",
        "# Classify the image with the same bands used for training.\n",
        "result_rf4 = oct_mar_comp.select(bands).classify(trained)\n",
        "# # Display the clusters with random colors.\n",
        "\n",
        "#Map.addLayer(result_rf4.randomVisualizer(), {}, 'RF_Scheme_4')\n",
        "Map"
      ]
    },
    {
      "cell_type": "markdown",
      "id": "7198c19e-30b5-46df-a970-c76a4d334fe2",
      "metadata": {
        "id": "7198c19e-30b5-46df-a970-c76a4d334fe2"
      },
      "source": [
        "### Export Classified Images (Optional)"
      ]
    },
    {
      "cell_type": "code",
      "execution_count": null,
      "id": "8d6dcfb6-13c5-46af-bfea-6e0f7fc5bb29",
      "metadata": {
        "id": "8d6dcfb6-13c5-46af-bfea-6e0f7fc5bb29"
      },
      "outputs": [],
      "source": [
        "# task_rf1 = ee.batch.Export.image.toDrive(image=result,description='RF_Scheme_1',scale=10,region=aoi,\n",
        "#                                      fileNamePrefix='RF_Scheme_1',                            # Specify output file name\n",
        "#                                      crs='EPSG:4326',\n",
        "#                                      fileFormat='GeoTIFF')\n",
        "# task_rf2 = ee.batch.Export.image.toDrive(image=result,description='RF_Scheme_2',scale=10,region=aoi,\n",
        "#                                      fileNamePrefix='RF_Scheme_2',                            # Specify output file name\n",
        "#                                      crs='EPSG:4326',\n",
        "#                                      fileFormat='GeoTIFF')\n",
        "# task_rf3 = ee.batch.Export.image.toDrive(image=result,description='RF_Scheme_3',scale=10,region=aoi,\n",
        "#                                      fileNamePrefix='RF_Scheme_3',                            # Specify output file name\n",
        "#                                      crs='EPSG:4326',\n",
        "#                                      fileFormat='GeoTIFF')\n",
        "# task_rf4 = ee.batch.Export.image.toDrive(image=result,description='RF_Scheme_4',scale=10,region=aoi,\n",
        "#                                      fileNamePrefix='RF_Scheme_4',                            # Specify output file name\n",
        "#                                      crs='EPSG:4326',\n",
        "#                                      fileFormat='GeoTIFF')\n",
        "# task_rf1.start()\n",
        "# task_rf2.start()\n",
        "# task_rf3.start()\n",
        "# task_rf4.start()"
      ]
    },
    {
      "cell_type": "code",
      "execution_count": null,
      "id": "052284c5-4018-48d6-8aaf-72ad3f7dfc13",
      "metadata": {
        "collapsed": true,
        "jupyter": {
          "outputs_hidden": true
        },
        "tags": [],
        "id": "052284c5-4018-48d6-8aaf-72ad3f7dfc13"
      },
      "outputs": [],
      "source": [
        "# task_rf1.status()\n",
        "# task_rf2.status()\n",
        "# task_rf3.status()\n",
        "# task_rf4.status()"
      ]
    },
    {
      "cell_type": "markdown",
      "id": "346c31a4-a97e-47c2-a5f8-a6fe1c8de8e5",
      "metadata": {
        "id": "346c31a4-a97e-47c2-a5f8-a6fe1c8de8e5"
      },
      "source": [
        "# Conclusions"
      ]
    },
    {
      "cell_type": "markdown",
      "id": "7a779ba5-4d4a-4946-9eb9-3aa6122e0e0f",
      "metadata": {
        "id": "7a779ba5-4d4a-4946-9eb9-3aa6122e0e0f"
      },
      "source": [
        "Classification is the process of recognizing, understanding, and grouping ideas and objects into preset categories or “sub-populations.” Using pre-categorized training datasets, machine learning programs use a variety of algorithms to classify future datasets into categories. In this study, Godagari Upazila has been selected for crop type classification using Sentinel-2 satellite images. The Random Forest, KNN, ANN (MLP), SVM and XGBoosting machine learning algorithms have been trained and validated using the ground truth points collected during field work. Performance of the algorithms has been evaluated using Accuracy Assessment, and F-1 Score. Based on the evaluation indicators, RF in scheme-4 is found to perform better in all cases relative to others. The trained RF model then used to classify the crop types using Sentinel-2 derived composite median image. Due to time limitation, the models have been trained with the default parameters only but hyperperameter tuning may help to predict more accurately in future works. Intrusion of more bands or indices along with further tuning of parameters can also contribute to ensure more precise crop type classification in future research activities."
      ]
    },
    {
      "cell_type": "markdown",
      "id": "5978beaf-c438-466b-8b51-caf28532d928",
      "metadata": {
        "id": "5978beaf-c438-466b-8b51-caf28532d928"
      },
      "source": [
        "## END"
      ]
    }
  ],
  "metadata": {
    "kernelspec": {
      "display_name": "Python",
      "language": "python",
      "name": "python3"
    },
    "language_info": {
      "codemirror_mode": {
        "name": "ipython",
        "version": 3
      },
      "file_extension": ".py",
      "mimetype": "text/x-python",
      "name": "python",
      "nbconvert_exporter": "python",
      "pygments_lexer": "ipython3",
      "version": "3.8.10"
    },
    "colab": {
      "provenance": [],
      "collapsed_sections": [
        "406324da-35b4-4564-88bb-41beb6baf54d"
      ],
      "toc_visible": true,
      "include_colab_link": true
    },
    "widgets": {
      "application/vnd.jupyter.widget-state+json": {
        "3d1b43f4d96f48f19d0299f510d736a4": {
          "model_module": "jupyter-leaflet",
          "model_name": "LeafletMapModel",
          "model_module_version": "^0.17",
          "state": {
            "_dom_classes": [],
            "_model_module": "jupyter-leaflet",
            "_model_module_version": "^0.17",
            "_model_name": "LeafletMapModel",
            "_view_count": null,
            "_view_module": "jupyter-leaflet",
            "_view_module_version": "^0.17",
            "_view_name": "LeafletMapView",
            "bottom": 56669,
            "bounce_at_zoom_limits": true,
            "box_zoom": true,
            "center": [
              24.40463676694895,
              88.33831787109376
            ],
            "close_popup_on_click": true,
            "controls": [
              "IPY_MODEL_9de1c8da38974a86878910ffce113ff1",
              "IPY_MODEL_48a900979c404b6fa891282ece4ed624",
              "IPY_MODEL_d59e079654ee474e890bbc76d513cab4",
              "IPY_MODEL_18a686882aa34b2abbe28b0804cafd3c",
              "IPY_MODEL_019724ea734f4b788668515f99baa1c3",
              "IPY_MODEL_94f527f3c427424fa60849d1722bc765",
              "IPY_MODEL_5921c15a7dd046f0b71e30d19a417b41",
              "IPY_MODEL_b7431713c7b04d708261f661930a7c59"
            ],
            "crs": {
              "name": "EPSG3857",
              "custom": false
            },
            "default_style": "IPY_MODEL_35b9ca7f31984a6195060c27a9d6908c",
            "double_click_zoom": true,
            "dragging": true,
            "dragging_style": "IPY_MODEL_7f24e87e99fa4e5a8b1f5671ad476aae",
            "east": 89.637451171875,
            "fullscreen": false,
            "inertia": true,
            "inertia_deceleration": 3000,
            "inertia_max_speed": 1500,
            "interpolation": "bilinear",
            "keyboard": true,
            "keyboard_pan_offset": 80,
            "keyboard_zoom_offset": 1,
            "layers": [
              "IPY_MODEL_355d06c50f5d4c689b50e1b12523510f",
              "IPY_MODEL_c2cbed508cb14c6381d9d8caa31fb01f",
              "IPY_MODEL_a786e91e5fb541c1ab695ae7ea34cdfe"
            ],
            "layout": "IPY_MODEL_fd095ae7701d439ab0e505826561dfbe",
            "left": 97226,
            "max_zoom": 24,
            "min_zoom": null,
            "modisdate": "2023-07-14",
            "north": 25.152743274854956,
            "options": [
              "bounce_at_zoom_limits",
              "box_zoom",
              "center",
              "close_popup_on_click",
              "double_click_zoom",
              "dragging",
              "fullscreen",
              "inertia",
              "inertia_deceleration",
              "inertia_max_speed",
              "interpolation",
              "keyboard",
              "keyboard_pan_offset",
              "keyboard_zoom_offset",
              "max_zoom",
              "min_zoom",
              "prefer_canvas",
              "scroll_wheel_zoom",
              "tap",
              "tap_tolerance",
              "touch_zoom",
              "world_copy_jump",
              "zoom",
              "zoom_animation_threshold",
              "zoom_delta",
              "zoom_snap"
            ],
            "panes": {},
            "prefer_canvas": false,
            "right": 98172,
            "scroll_wheel_zoom": true,
            "south": 23.652072011367178,
            "style": "IPY_MODEL_35b9ca7f31984a6195060c27a9d6908c",
            "tap": true,
            "tap_tolerance": 15,
            "top": 56069,
            "touch_zoom": true,
            "west": 87.03918457031251,
            "window_url": "https://afvtclr49i8-496ff2e9c6d22116-0-colab.googleusercontent.com/outputframe.html?vrz=colab-20230713-060139-RC00_547749454",
            "world_copy_jump": false,
            "zoom": 9,
            "zoom_animation_threshold": 4,
            "zoom_delta": 1,
            "zoom_snap": 1
          }
        },
        "9de1c8da38974a86878910ffce113ff1": {
          "model_module": "jupyter-leaflet",
          "model_name": "LeafletWidgetControlModel",
          "model_module_version": "^0.17",
          "state": {
            "_model_module": "jupyter-leaflet",
            "_model_module_version": "^0.17",
            "_model_name": "LeafletWidgetControlModel",
            "_view_count": null,
            "_view_module": "jupyter-leaflet",
            "_view_module_version": "^0.17",
            "_view_name": "LeafletWidgetControlView",
            "max_height": null,
            "max_width": null,
            "min_height": null,
            "min_width": null,
            "options": [
              "position",
              "transparent_bg"
            ],
            "position": "topleft",
            "transparent_bg": false,
            "widget": "IPY_MODEL_a785d9b663c7474fa60c5d601d01afd2"
          }
        },
        "48a900979c404b6fa891282ece4ed624": {
          "model_module": "jupyter-leaflet",
          "model_name": "LeafletZoomControlModel",
          "model_module_version": "^0.17",
          "state": {
            "_model_module": "jupyter-leaflet",
            "_model_module_version": "^0.17",
            "_model_name": "LeafletZoomControlModel",
            "_view_count": null,
            "_view_module": "jupyter-leaflet",
            "_view_module_version": "^0.17",
            "_view_name": "LeafletZoomControlView",
            "options": [
              "position",
              "zoom_in_text",
              "zoom_in_title",
              "zoom_out_text",
              "zoom_out_title"
            ],
            "position": "topleft",
            "zoom_in_text": "+",
            "zoom_in_title": "Zoom in",
            "zoom_out_text": "-",
            "zoom_out_title": "Zoom out"
          }
        },
        "d59e079654ee474e890bbc76d513cab4": {
          "model_module": "jupyter-leaflet",
          "model_name": "LeafletFullScreenControlModel",
          "model_module_version": "^0.17",
          "state": {
            "_model_module": "jupyter-leaflet",
            "_model_module_version": "^0.17",
            "_model_name": "LeafletFullScreenControlModel",
            "_view_count": null,
            "_view_module": "jupyter-leaflet",
            "_view_module_version": "^0.17",
            "_view_name": "LeafletFullScreenControlView",
            "options": [
              "position"
            ],
            "position": "topleft"
          }
        },
        "18a686882aa34b2abbe28b0804cafd3c": {
          "model_module": "jupyter-leaflet",
          "model_name": "LeafletDrawControlModel",
          "model_module_version": "^0.17",
          "state": {
            "_model_module": "jupyter-leaflet",
            "_model_module_version": "^0.17",
            "_model_name": "LeafletDrawControlModel",
            "_view_count": null,
            "_view_module": "jupyter-leaflet",
            "_view_module_version": "^0.17",
            "_view_name": "LeafletDrawControlView",
            "circle": {},
            "circlemarker": {},
            "data": [],
            "edit": true,
            "marker": {
              "shapeOptions": {
                "color": "#3388ff"
              }
            },
            "options": [
              "position"
            ],
            "polygon": {
              "shapeOptions": {}
            },
            "polyline": {
              "shapeOptions": {}
            },
            "position": "topleft",
            "rectangle": {
              "shapeOptions": {
                "color": "#3388ff"
              }
            },
            "remove": true
          }
        },
        "019724ea734f4b788668515f99baa1c3": {
          "model_module": "jupyter-leaflet",
          "model_name": "LeafletScaleControlModel",
          "model_module_version": "^0.17",
          "state": {
            "_model_module": "jupyter-leaflet",
            "_model_module_version": "^0.17",
            "_model_name": "LeafletScaleControlModel",
            "_view_count": null,
            "_view_module": "jupyter-leaflet",
            "_view_module_version": "^0.17",
            "_view_name": "LeafletScaleControlView",
            "imperial": true,
            "max_width": 100,
            "metric": true,
            "options": [
              "imperial",
              "max_width",
              "metric",
              "position",
              "update_when_idle"
            ],
            "position": "bottomleft",
            "update_when_idle": false
          }
        },
        "94f527f3c427424fa60849d1722bc765": {
          "model_module": "jupyter-leaflet",
          "model_name": "LeafletMeasureControlModel",
          "model_module_version": "^0.17",
          "state": {
            "_custom_units": {},
            "_model_module": "jupyter-leaflet",
            "_model_module_version": "^0.17",
            "_model_name": "LeafletMeasureControlModel",
            "_view_count": null,
            "_view_module": "jupyter-leaflet",
            "_view_module_version": "^0.17",
            "_view_name": "LeafletMeasureControlView",
            "active_color": "orange",
            "capture_z_index": 10000,
            "completed_color": "#C8F2BE",
            "options": [
              "active_color",
              "capture_z_index",
              "completed_color",
              "popup_options",
              "position",
              "primary_area_unit",
              "primary_length_unit",
              "secondary_area_unit",
              "secondary_length_unit"
            ],
            "popup_options": {
              "className": "leaflet-measure-resultpopup",
              "autoPanPadding": [
                10,
                10
              ]
            },
            "position": "bottomleft",
            "primary_area_unit": "acres",
            "primary_length_unit": "kilometers",
            "secondary_area_unit": null,
            "secondary_length_unit": null
          }
        },
        "5921c15a7dd046f0b71e30d19a417b41": {
          "model_module": "jupyter-leaflet",
          "model_name": "LeafletWidgetControlModel",
          "model_module_version": "^0.17",
          "state": {
            "_model_module": "jupyter-leaflet",
            "_model_module_version": "^0.17",
            "_model_name": "LeafletWidgetControlModel",
            "_view_count": null,
            "_view_module": "jupyter-leaflet",
            "_view_module_version": "^0.17",
            "_view_name": "LeafletWidgetControlView",
            "max_height": null,
            "max_width": null,
            "min_height": null,
            "min_width": null,
            "options": [
              "position",
              "transparent_bg"
            ],
            "position": "topright",
            "transparent_bg": false,
            "widget": "IPY_MODEL_18d4f5749b434ab1a4912b7db4d67ff6"
          }
        },
        "b7431713c7b04d708261f661930a7c59": {
          "model_module": "jupyter-leaflet",
          "model_name": "LeafletAttributionControlModel",
          "model_module_version": "^0.17",
          "state": {
            "_model_module": "jupyter-leaflet",
            "_model_module_version": "^0.17",
            "_model_name": "LeafletAttributionControlModel",
            "_view_count": null,
            "_view_module": "jupyter-leaflet",
            "_view_module_version": "^0.17",
            "_view_name": "LeafletAttributionControlView",
            "options": [
              "position",
              "prefix"
            ],
            "position": "bottomright",
            "prefix": "ipyleaflet"
          }
        },
        "35b9ca7f31984a6195060c27a9d6908c": {
          "model_module": "jupyter-leaflet",
          "model_name": "LeafletMapStyleModel",
          "model_module_version": "^0.17",
          "state": {
            "_model_module": "jupyter-leaflet",
            "_model_module_version": "^0.17",
            "_model_name": "LeafletMapStyleModel",
            "_view_count": null,
            "_view_module": "@jupyter-widgets/base",
            "_view_module_version": "1.2.0",
            "_view_name": "StyleView",
            "cursor": "grab"
          }
        },
        "7f24e87e99fa4e5a8b1f5671ad476aae": {
          "model_module": "jupyter-leaflet",
          "model_name": "LeafletMapStyleModel",
          "model_module_version": "^0.17",
          "state": {
            "_model_module": "jupyter-leaflet",
            "_model_module_version": "^0.17",
            "_model_name": "LeafletMapStyleModel",
            "_view_count": null,
            "_view_module": "@jupyter-widgets/base",
            "_view_module_version": "1.2.0",
            "_view_name": "StyleView",
            "cursor": "move"
          }
        },
        "355d06c50f5d4c689b50e1b12523510f": {
          "model_module": "jupyter-leaflet",
          "model_name": "LeafletTileLayerModel",
          "model_module_version": "^0.17",
          "state": {
            "_model_module": "jupyter-leaflet",
            "_model_module_version": "^0.17",
            "_model_name": "LeafletTileLayerModel",
            "_view_count": null,
            "_view_module": "jupyter-leaflet",
            "_view_module_version": "^0.17",
            "_view_name": "LeafletTileLayerView",
            "attribution": "&copy; <a href=\"https://www.openstreetmap.org/copyright\">OpenStreetMap</a> contributors",
            "base": true,
            "bottom": true,
            "bounds": null,
            "detect_retina": false,
            "loading": false,
            "max_native_zoom": null,
            "max_zoom": 19,
            "min_native_zoom": null,
            "min_zoom": 1,
            "name": "OpenStreetMap.Mapnik",
            "no_wrap": false,
            "opacity": 1,
            "options": [
              "attribution",
              "bounds",
              "detect_retina",
              "max_native_zoom",
              "max_zoom",
              "min_native_zoom",
              "min_zoom",
              "no_wrap",
              "tile_size",
              "tms",
              "zoom_offset"
            ],
            "pane": "",
            "popup": null,
            "popup_max_height": null,
            "popup_max_width": 300,
            "popup_min_width": 50,
            "show_loading": false,
            "subitems": [],
            "tile_size": 256,
            "tms": false,
            "url": "https://tile.openstreetmap.org/{z}/{x}/{y}.png",
            "visible": true,
            "zoom_offset": 0
          }
        },
        "c2cbed508cb14c6381d9d8caa31fb01f": {
          "model_module": "jupyter-leaflet",
          "model_name": "LeafletTileLayerModel",
          "model_module_version": "^0.17",
          "state": {
            "_model_module": "jupyter-leaflet",
            "_model_module_version": "^0.17",
            "_model_name": "LeafletTileLayerModel",
            "_view_count": null,
            "_view_module": "jupyter-leaflet",
            "_view_module_version": "^0.17",
            "_view_name": "LeafletTileLayerView",
            "attribution": "Google",
            "base": false,
            "bottom": true,
            "bounds": null,
            "detect_retina": false,
            "loading": false,
            "max_native_zoom": null,
            "max_zoom": 24,
            "min_native_zoom": null,
            "min_zoom": 0,
            "name": "Google Maps",
            "no_wrap": false,
            "opacity": 1,
            "options": [
              "attribution",
              "bounds",
              "detect_retina",
              "max_native_zoom",
              "max_zoom",
              "min_native_zoom",
              "min_zoom",
              "no_wrap",
              "tile_size",
              "tms",
              "zoom_offset"
            ],
            "pane": "",
            "popup": null,
            "popup_max_height": null,
            "popup_max_width": 300,
            "popup_min_width": 50,
            "show_loading": false,
            "subitems": [],
            "tile_size": 256,
            "tms": false,
            "url": "https://mt1.google.com/vt/lyrs=m&x={x}&y={y}&z={z}",
            "visible": true,
            "zoom_offset": 0
          }
        },
        "fd095ae7701d439ab0e505826561dfbe": {
          "model_module": "@jupyter-widgets/base",
          "model_name": "LayoutModel",
          "model_module_version": "1.2.0",
          "state": {
            "_model_module": "@jupyter-widgets/base",
            "_model_module_version": "1.2.0",
            "_model_name": "LayoutModel",
            "_view_count": null,
            "_view_module": "@jupyter-widgets/base",
            "_view_module_version": "1.2.0",
            "_view_name": "LayoutView",
            "align_content": null,
            "align_items": null,
            "align_self": null,
            "border": null,
            "bottom": null,
            "display": null,
            "flex": null,
            "flex_flow": null,
            "grid_area": null,
            "grid_auto_columns": null,
            "grid_auto_flow": null,
            "grid_auto_rows": null,
            "grid_column": null,
            "grid_gap": null,
            "grid_row": null,
            "grid_template_areas": null,
            "grid_template_columns": null,
            "grid_template_rows": null,
            "height": "600px",
            "justify_content": null,
            "justify_items": null,
            "left": null,
            "margin": null,
            "max_height": null,
            "max_width": null,
            "min_height": null,
            "min_width": null,
            "object_fit": null,
            "object_position": null,
            "order": null,
            "overflow": null,
            "overflow_x": null,
            "overflow_y": null,
            "padding": null,
            "right": null,
            "top": null,
            "visibility": null,
            "width": null
          }
        },
        "d56c70fbc37d41baaf446f680186a077": {
          "model_module": "jupyter-leaflet",
          "model_name": "LeafletMapStyleModel",
          "model_module_version": "^0.17",
          "state": {
            "_model_module": "jupyter-leaflet",
            "_model_module_version": "^0.17",
            "_model_name": "LeafletMapStyleModel",
            "_view_count": null,
            "_view_module": "@jupyter-widgets/base",
            "_view_module_version": "1.2.0",
            "_view_name": "StyleView",
            "cursor": "grab"
          }
        },
        "a785d9b663c7474fa60c5d601d01afd2": {
          "model_module": "@jupyter-widgets/controls",
          "model_name": "HBoxModel",
          "model_module_version": "1.5.0",
          "state": {
            "_dom_classes": [],
            "_model_module": "@jupyter-widgets/controls",
            "_model_module_version": "1.5.0",
            "_model_name": "HBoxModel",
            "_view_count": null,
            "_view_module": "@jupyter-widgets/controls",
            "_view_module_version": "1.5.0",
            "_view_name": "HBoxView",
            "box_style": "",
            "children": [
              "IPY_MODEL_b897e07eba9a453aa9e67ca2d0851aca"
            ],
            "layout": "IPY_MODEL_68f600bee5fd45799d44b710c4487d36"
          }
        },
        "18d4f5749b434ab1a4912b7db4d67ff6": {
          "model_module": "@jupyter-widgets/controls",
          "model_name": "VBoxModel",
          "model_module_version": "1.5.0",
          "state": {
            "_dom_classes": [],
            "_model_module": "@jupyter-widgets/controls",
            "_model_module_version": "1.5.0",
            "_model_name": "VBoxModel",
            "_view_count": null,
            "_view_module": "@jupyter-widgets/controls",
            "_view_module_version": "1.5.0",
            "_view_name": "VBoxView",
            "box_style": "",
            "children": [
              "IPY_MODEL_6f70c2c5f85349dfaca9f35a3f477286"
            ],
            "layout": "IPY_MODEL_5b2b8ddd49d3497982cd5b63656e8684"
          }
        },
        "b897e07eba9a453aa9e67ca2d0851aca": {
          "model_module": "@jupyter-widgets/controls",
          "model_name": "ToggleButtonModel",
          "model_module_version": "1.5.0",
          "state": {
            "_dom_classes": [],
            "_model_module": "@jupyter-widgets/controls",
            "_model_module_version": "1.5.0",
            "_model_name": "ToggleButtonModel",
            "_view_count": null,
            "_view_module": "@jupyter-widgets/controls",
            "_view_module_version": "1.5.0",
            "_view_name": "ToggleButtonView",
            "button_style": "",
            "description": "",
            "description_tooltip": null,
            "disabled": false,
            "icon": "globe",
            "layout": "IPY_MODEL_ebe15390c9e5448d94be33b8ea370fca",
            "style": "IPY_MODEL_adc17eb20292495da8333109935a48dc",
            "tooltip": "Search location/data",
            "value": false
          }
        },
        "68f600bee5fd45799d44b710c4487d36": {
          "model_module": "@jupyter-widgets/base",
          "model_name": "LayoutModel",
          "model_module_version": "1.2.0",
          "state": {
            "_model_module": "@jupyter-widgets/base",
            "_model_module_version": "1.2.0",
            "_model_name": "LayoutModel",
            "_view_count": null,
            "_view_module": "@jupyter-widgets/base",
            "_view_module_version": "1.2.0",
            "_view_name": "LayoutView",
            "align_content": null,
            "align_items": null,
            "align_self": null,
            "border": null,
            "bottom": null,
            "display": null,
            "flex": null,
            "flex_flow": null,
            "grid_area": null,
            "grid_auto_columns": null,
            "grid_auto_flow": null,
            "grid_auto_rows": null,
            "grid_column": null,
            "grid_gap": null,
            "grid_row": null,
            "grid_template_areas": null,
            "grid_template_columns": null,
            "grid_template_rows": null,
            "height": null,
            "justify_content": null,
            "justify_items": null,
            "left": null,
            "margin": null,
            "max_height": null,
            "max_width": null,
            "min_height": null,
            "min_width": null,
            "object_fit": null,
            "object_position": null,
            "order": null,
            "overflow": null,
            "overflow_x": null,
            "overflow_y": null,
            "padding": null,
            "right": null,
            "top": null,
            "visibility": null,
            "width": null
          }
        },
        "6f70c2c5f85349dfaca9f35a3f477286": {
          "model_module": "@jupyter-widgets/controls",
          "model_name": "ToggleButtonModel",
          "model_module_version": "1.5.0",
          "state": {
            "_dom_classes": [],
            "_model_module": "@jupyter-widgets/controls",
            "_model_module_version": "1.5.0",
            "_model_name": "ToggleButtonModel",
            "_view_count": null,
            "_view_module": "@jupyter-widgets/controls",
            "_view_module_version": "1.5.0",
            "_view_name": "ToggleButtonView",
            "button_style": "",
            "description": "",
            "description_tooltip": null,
            "disabled": false,
            "icon": "wrench",
            "layout": "IPY_MODEL_f7d415971f38433399cde09e8c080a22",
            "style": "IPY_MODEL_f1a983cb3c57424fa4e54ac2c1a5167b",
            "tooltip": "Toolbar",
            "value": false
          }
        },
        "5b2b8ddd49d3497982cd5b63656e8684": {
          "model_module": "@jupyter-widgets/base",
          "model_name": "LayoutModel",
          "model_module_version": "1.2.0",
          "state": {
            "_model_module": "@jupyter-widgets/base",
            "_model_module_version": "1.2.0",
            "_model_name": "LayoutModel",
            "_view_count": null,
            "_view_module": "@jupyter-widgets/base",
            "_view_module_version": "1.2.0",
            "_view_name": "LayoutView",
            "align_content": null,
            "align_items": null,
            "align_self": null,
            "border": null,
            "bottom": null,
            "display": null,
            "flex": null,
            "flex_flow": null,
            "grid_area": null,
            "grid_auto_columns": null,
            "grid_auto_flow": null,
            "grid_auto_rows": null,
            "grid_column": null,
            "grid_gap": null,
            "grid_row": null,
            "grid_template_areas": null,
            "grid_template_columns": null,
            "grid_template_rows": null,
            "height": null,
            "justify_content": null,
            "justify_items": null,
            "left": null,
            "margin": null,
            "max_height": null,
            "max_width": null,
            "min_height": null,
            "min_width": null,
            "object_fit": null,
            "object_position": null,
            "order": null,
            "overflow": null,
            "overflow_x": null,
            "overflow_y": null,
            "padding": null,
            "right": null,
            "top": null,
            "visibility": null,
            "width": null
          }
        },
        "ebe15390c9e5448d94be33b8ea370fca": {
          "model_module": "@jupyter-widgets/base",
          "model_name": "LayoutModel",
          "model_module_version": "1.2.0",
          "state": {
            "_model_module": "@jupyter-widgets/base",
            "_model_module_version": "1.2.0",
            "_model_name": "LayoutModel",
            "_view_count": null,
            "_view_module": "@jupyter-widgets/base",
            "_view_module_version": "1.2.0",
            "_view_name": "LayoutView",
            "align_content": null,
            "align_items": null,
            "align_self": null,
            "border": null,
            "bottom": null,
            "display": null,
            "flex": null,
            "flex_flow": null,
            "grid_area": null,
            "grid_auto_columns": null,
            "grid_auto_flow": null,
            "grid_auto_rows": null,
            "grid_column": null,
            "grid_gap": null,
            "grid_row": null,
            "grid_template_areas": null,
            "grid_template_columns": null,
            "grid_template_rows": null,
            "height": "28px",
            "justify_content": null,
            "justify_items": null,
            "left": null,
            "margin": null,
            "max_height": null,
            "max_width": null,
            "min_height": null,
            "min_width": null,
            "object_fit": null,
            "object_position": null,
            "order": null,
            "overflow": null,
            "overflow_x": null,
            "overflow_y": null,
            "padding": "0px 0px 0px 4px",
            "right": null,
            "top": null,
            "visibility": null,
            "width": "28px"
          }
        },
        "adc17eb20292495da8333109935a48dc": {
          "model_module": "@jupyter-widgets/controls",
          "model_name": "DescriptionStyleModel",
          "model_module_version": "1.5.0",
          "state": {
            "_model_module": "@jupyter-widgets/controls",
            "_model_module_version": "1.5.0",
            "_model_name": "DescriptionStyleModel",
            "_view_count": null,
            "_view_module": "@jupyter-widgets/base",
            "_view_module_version": "1.2.0",
            "_view_name": "StyleView",
            "description_width": ""
          }
        },
        "f7d415971f38433399cde09e8c080a22": {
          "model_module": "@jupyter-widgets/base",
          "model_name": "LayoutModel",
          "model_module_version": "1.2.0",
          "state": {
            "_model_module": "@jupyter-widgets/base",
            "_model_module_version": "1.2.0",
            "_model_name": "LayoutModel",
            "_view_count": null,
            "_view_module": "@jupyter-widgets/base",
            "_view_module_version": "1.2.0",
            "_view_name": "LayoutView",
            "align_content": null,
            "align_items": null,
            "align_self": null,
            "border": null,
            "bottom": null,
            "display": null,
            "flex": null,
            "flex_flow": null,
            "grid_area": null,
            "grid_auto_columns": null,
            "grid_auto_flow": null,
            "grid_auto_rows": null,
            "grid_column": null,
            "grid_gap": null,
            "grid_row": null,
            "grid_template_areas": null,
            "grid_template_columns": null,
            "grid_template_rows": null,
            "height": "28px",
            "justify_content": null,
            "justify_items": null,
            "left": null,
            "margin": null,
            "max_height": null,
            "max_width": null,
            "min_height": null,
            "min_width": null,
            "object_fit": null,
            "object_position": null,
            "order": null,
            "overflow": null,
            "overflow_x": null,
            "overflow_y": null,
            "padding": "0px 0px 0px 4px",
            "right": null,
            "top": null,
            "visibility": null,
            "width": "28px"
          }
        },
        "f1a983cb3c57424fa4e54ac2c1a5167b": {
          "model_module": "@jupyter-widgets/controls",
          "model_name": "DescriptionStyleModel",
          "model_module_version": "1.5.0",
          "state": {
            "_model_module": "@jupyter-widgets/controls",
            "_model_module_version": "1.5.0",
            "_model_name": "DescriptionStyleModel",
            "_view_count": null,
            "_view_module": "@jupyter-widgets/base",
            "_view_module_version": "1.2.0",
            "_view_name": "StyleView",
            "description_width": ""
          }
        },
        "ffdd663cb833498688d1e3ebfd1a319b": {
          "model_module": "jupyter-leaflet",
          "model_name": "LeafletTileLayerModel",
          "model_module_version": "^0.17",
          "state": {
            "_model_module": "jupyter-leaflet",
            "_model_module_version": "^0.17",
            "_model_name": "LeafletTileLayerModel",
            "_view_count": null,
            "_view_module": "jupyter-leaflet",
            "_view_module_version": "^0.17",
            "_view_name": "LeafletTileLayerView",
            "attribution": "Google Earth Engine",
            "base": false,
            "bottom": true,
            "bounds": null,
            "detect_retina": false,
            "loading": true,
            "max_native_zoom": null,
            "max_zoom": 24,
            "min_native_zoom": null,
            "min_zoom": 0,
            "name": "Classes",
            "no_wrap": false,
            "opacity": 1,
            "options": [
              "attribution",
              "bounds",
              "detect_retina",
              "max_native_zoom",
              "max_zoom",
              "min_native_zoom",
              "min_zoom",
              "no_wrap",
              "tile_size",
              "tms",
              "zoom_offset"
            ],
            "pane": "",
            "popup": null,
            "popup_max_height": null,
            "popup_max_width": 300,
            "popup_min_width": 50,
            "show_loading": false,
            "subitems": [],
            "tile_size": 256,
            "tms": false,
            "url": "https://earthengine.googleapis.com/v1alpha/projects/earthengine-legacy/maps/670c6d2682c936ae379429c5118cbbcb-02e1d52e0aac9214ac514752d37e7b2e/tiles/{z}/{x}/{y}",
            "visible": true,
            "zoom_offset": 0
          }
        },
        "a786e91e5fb541c1ab695ae7ea34cdfe": {
          "model_module": "jupyter-leaflet",
          "model_name": "LeafletTileLayerModel",
          "model_module_version": "^0.17",
          "state": {
            "_model_module": "jupyter-leaflet",
            "_model_module_version": "^0.17",
            "_model_name": "LeafletTileLayerModel",
            "_view_count": null,
            "_view_module": "jupyter-leaflet",
            "_view_module_version": "^0.17",
            "_view_name": "LeafletTileLayerView",
            "attribution": "Google Earth Engine",
            "base": false,
            "bottom": true,
            "bounds": null,
            "detect_retina": false,
            "loading": false,
            "max_native_zoom": null,
            "max_zoom": 24,
            "min_native_zoom": null,
            "min_zoom": 0,
            "name": "Classes",
            "no_wrap": false,
            "opacity": 1,
            "options": [
              "attribution",
              "bounds",
              "detect_retina",
              "max_native_zoom",
              "max_zoom",
              "min_native_zoom",
              "min_zoom",
              "no_wrap",
              "tile_size",
              "tms",
              "zoom_offset"
            ],
            "pane": "",
            "popup": null,
            "popup_max_height": null,
            "popup_max_width": 300,
            "popup_min_width": 50,
            "show_loading": false,
            "subitems": [],
            "tile_size": 256,
            "tms": false,
            "url": "https://earthengine.googleapis.com/v1alpha/projects/earthengine-legacy/maps/38a74dfd14ac57ae5579bdc609be722a-7ce8626ab0dd723c858903e03795a861/tiles/{z}/{x}/{y}",
            "visible": true,
            "zoom_offset": 0
          }
        }
      }
    }
  },
  "nbformat": 4,
  "nbformat_minor": 5
}